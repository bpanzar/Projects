{
 "cells": [
  {
   "cell_type": "code",
   "execution_count": 1,
   "metadata": {},
   "outputs": [],
   "source": [
    "import pandas as pd\n",
    "import numpy as np\n",
    "import matplotlib.pyplot as plt\n",
    "import seaborn as sns\n",
    "#sns.set('fivethirtyeight')\n",
    "plt.style.use('fivethirtyeight') \n",
    "%matplotlib inline"
   ]
  },
  {
   "cell_type": "code",
   "execution_count": 2,
   "metadata": {},
   "outputs": [],
   "source": [
    "all_df = pd.read_csv('Data/WID_all_countries_1980.csv')"
   ]
  },
  {
   "cell_type": "code",
   "execution_count": 3,
   "metadata": {},
   "outputs": [
    {
     "name": "stdout",
     "output_type": "stream",
     "text": [
      "(2072, 3)\n"
     ]
    },
    {
     "data": {
      "text/html": [
       "<div>\n",
       "<style>\n",
       "    .dataframe thead tr:only-child th {\n",
       "        text-align: right;\n",
       "    }\n",
       "\n",
       "    .dataframe thead th {\n",
       "        text-align: left;\n",
       "    }\n",
       "\n",
       "    .dataframe tbody tr th {\n",
       "        vertical-align: top;\n",
       "    }\n",
       "</style>\n",
       "<table border=\"1\" class=\"dataframe\">\n",
       "  <thead>\n",
       "    <tr style=\"text-align: right;\">\n",
       "      <th></th>\n",
       "      <th>Country</th>\n",
       "      <th>Year</th>\n",
       "      <th>Top_1</th>\n",
       "    </tr>\n",
       "  </thead>\n",
       "  <tbody>\n",
       "    <tr>\n",
       "      <th>0</th>\n",
       "      <td>Argentina</td>\n",
       "      <td>1980</td>\n",
       "      <td>NaN</td>\n",
       "    </tr>\n",
       "    <tr>\n",
       "      <th>1</th>\n",
       "      <td>Argentina</td>\n",
       "      <td>1981</td>\n",
       "      <td>NaN</td>\n",
       "    </tr>\n",
       "    <tr>\n",
       "      <th>2</th>\n",
       "      <td>Argentina</td>\n",
       "      <td>1982</td>\n",
       "      <td>NaN</td>\n",
       "    </tr>\n",
       "    <tr>\n",
       "      <th>3</th>\n",
       "      <td>Argentina</td>\n",
       "      <td>1983</td>\n",
       "      <td>NaN</td>\n",
       "    </tr>\n",
       "    <tr>\n",
       "      <th>4</th>\n",
       "      <td>Argentina</td>\n",
       "      <td>1984</td>\n",
       "      <td>NaN</td>\n",
       "    </tr>\n",
       "  </tbody>\n",
       "</table>\n",
       "</div>"
      ],
      "text/plain": [
       "     Country  Year  Top_1\n",
       "0  Argentina  1980    NaN\n",
       "1  Argentina  1981    NaN\n",
       "2  Argentina  1982    NaN\n",
       "3  Argentina  1983    NaN\n",
       "4  Argentina  1984    NaN"
      ]
     },
     "execution_count": 3,
     "metadata": {},
     "output_type": "execute_result"
    }
   ],
   "source": [
    "print(all_df.shape)\n",
    "all_df.head()"
   ]
  },
  {
   "cell_type": "code",
   "execution_count": 5,
   "metadata": {},
   "outputs": [],
   "source": [
    "all_df.dropna(axis=0, inplace=True)"
   ]
  },
  {
   "cell_type": "code",
   "execution_count": 6,
   "metadata": {},
   "outputs": [
    {
     "data": {
      "text/html": [
       "<div>\n",
       "<style>\n",
       "    .dataframe thead tr:only-child th {\n",
       "        text-align: right;\n",
       "    }\n",
       "\n",
       "    .dataframe thead th {\n",
       "        text-align: left;\n",
       "    }\n",
       "\n",
       "    .dataframe tbody tr th {\n",
       "        vertical-align: top;\n",
       "    }\n",
       "</style>\n",
       "<table border=\"1\" class=\"dataframe\">\n",
       "  <thead>\n",
       "    <tr style=\"text-align: right;\">\n",
       "      <th></th>\n",
       "      <th>Country</th>\n",
       "      <th>Year</th>\n",
       "      <th>Top_1</th>\n",
       "    </tr>\n",
       "  </thead>\n",
       "  <tbody>\n",
       "    <tr>\n",
       "      <th>17</th>\n",
       "      <td>Argentina</td>\n",
       "      <td>1997</td>\n",
       "      <td>0.1239</td>\n",
       "    </tr>\n",
       "    <tr>\n",
       "      <th>18</th>\n",
       "      <td>Argentina</td>\n",
       "      <td>1998</td>\n",
       "      <td>0.1257</td>\n",
       "    </tr>\n",
       "    <tr>\n",
       "      <th>19</th>\n",
       "      <td>Argentina</td>\n",
       "      <td>1999</td>\n",
       "      <td>0.1353</td>\n",
       "    </tr>\n",
       "    <tr>\n",
       "      <th>20</th>\n",
       "      <td>Argentina</td>\n",
       "      <td>2000</td>\n",
       "      <td>0.1434</td>\n",
       "    </tr>\n",
       "    <tr>\n",
       "      <th>21</th>\n",
       "      <td>Argentina</td>\n",
       "      <td>2001</td>\n",
       "      <td>0.1291</td>\n",
       "    </tr>\n",
       "  </tbody>\n",
       "</table>\n",
       "</div>"
      ],
      "text/plain": [
       "      Country  Year   Top_1\n",
       "17  Argentina  1997  0.1239\n",
       "18  Argentina  1998  0.1257\n",
       "19  Argentina  1999  0.1353\n",
       "20  Argentina  2000  0.1434\n",
       "21  Argentina  2001  0.1291"
      ]
     },
     "execution_count": 6,
     "metadata": {},
     "output_type": "execute_result"
    }
   ],
   "source": [
    "all_df.head()"
   ]
  },
  {
   "cell_type": "code",
   "execution_count": 10,
   "metadata": {},
   "outputs": [
    {
     "name": "stdout",
     "output_type": "stream",
     "text": [
      "['Argentina' 'Australia' 'Bahrain' 'Brazil' 'Canada' 'China' 'Colombia'\n",
      " 'Cote d’Ivoire' 'Croatia' 'Czech Republic' 'Denmark' 'Egypt' 'Finland'\n",
      " 'France' 'Germany' 'Hungary' 'India' 'Indonesia' 'Iran' 'Iraq' 'Ireland'\n",
      " 'Italy' 'Japan' 'Jordan' 'Korea' 'Kuwait' 'Lebanon' 'Malaysia'\n",
      " 'Mauritius' 'Netherlands' 'New Zealand' 'Norway' 'Oman' 'Palestine'\n",
      " 'Poland' 'Portugal' 'Qatar' 'Russian Federation' 'Saudi Arabia'\n",
      " 'Singapore' 'Slovenia' 'South Africa' 'Spain' 'Sweden' 'Switzerland'\n",
      " 'Syrian Arab Republic' 'Taiwan' 'Turkey' 'USA' 'United Arab Emirates'\n",
      " 'United Kingdom' 'Uruguay' 'Yemen' 'Zimbabwe']\n"
     ]
    }
   ],
   "source": [
    "countries = all_df.Country.unique()\n",
    "print(countries)"
   ]
  },
  {
   "cell_type": "code",
   "execution_count": 9,
   "metadata": {},
   "outputs": [
    {
     "data": {
      "text/plain": [
       "0.14358749985000002"
      ]
     },
     "execution_count": 9,
     "metadata": {},
     "output_type": "execute_result"
    }
   ],
   "source": [
    "all_df[all_df.Country == 'Argentina'].Top_1.mean()"
   ]
  },
  {
   "cell_type": "code",
   "execution_count": 11,
   "metadata": {},
   "outputs": [],
   "source": [
    "means = []\n",
    "means_dict = {}\n",
    "\n",
    "for c in countries:\n",
    "    means.append(all_df[all_df.Country == c].Top_1.mean())\n",
    "    means_dict[c] = all_df[all_df.Country == c].Top_1.mean()"
   ]
  },
  {
   "cell_type": "code",
   "execution_count": 26,
   "metadata": {},
   "outputs": [
    {
     "data": {
      "text/plain": [
       "(array([ 9., 13.,  6.,  3.,  6.,  8.,  3.,  5.,  0.,  1.]),\n",
       " array([0.05299264, 0.07558339, 0.09817414, 0.12076489, 0.14335563,\n",
       "        0.16594638, 0.18853713, 0.21112788, 0.23371863, 0.25630938,\n",
       "        0.27890013]),\n",
       " <a list of 10 Patch objects>)"
      ]
     },
     "execution_count": 26,
     "metadata": {},
     "output_type": "execute_result"
    },
    {
     "data": {
      "image/png": "[encoded data removed]",
      "text/plain": [
       "<Figure size 432x288 with 1 Axes>"
      ]
     },
     "metadata": {},
     "output_type": "display_data"
    }
   ],
   "source": [
    "plt.hist(means, bins=10)"
   ]
  },
  {
   "cell_type": "code",
   "execution_count": 17,
   "metadata": {},
   "outputs": [
    {
     "data": {
      "text/plain": [
       "0.13098369477290664"
      ]
     },
     "execution_count": 17,
     "metadata": {},
     "output_type": "execute_result"
    }
   ],
   "source": [
    "np.mean(means)"
   ]
  },
  {
   "cell_type": "code",
   "execution_count": 18,
   "metadata": {
    "scrolled": false
   },
   "outputs": [
    {
     "data": {
      "text/plain": [
       "0.055293749869483946"
      ]
     },
     "execution_count": 18,
     "metadata": {},
     "output_type": "execute_result"
    }
   ],
   "source": [
    "np.std(means)"
   ]
  },
  {
   "cell_type": "code",
   "execution_count": 19,
   "metadata": {},
   "outputs": [
    {
     "data": {
      "text/plain": [
       "0.16148057111428576"
      ]
     },
     "execution_count": 19,
     "metadata": {},
     "output_type": "execute_result"
    }
   ],
   "source": [
    "means_dict['USA']"
   ]
  },
  {
   "cell_type": "code",
   "execution_count": 32,
   "metadata": {},
   "outputs": [
    {
     "data": {
      "text/plain": [
       "{'Argentina': 0.14358749985000002,\n",
       " 'Australia': 0.07026944454166667,\n",
       " 'Bahrain': 0.17988685104074076,\n",
       " 'Brazil': 0.2789001285866667,\n",
       " 'Canada': 0.11779995984193548,\n",
       " 'China': 0.10751996003611111,\n",
       " 'Colombia': 0.19567301538888893,\n",
       " 'Cote d’Ivoire': 0.18291675051666667,\n",
       " 'Croatia': 0.08312000940625001,\n",
       " 'Czech Republic': 0.0801555085185185,\n",
       " 'Denmark': 0.05416389662258065,\n",
       " 'Egypt': 0.18576229612592593,\n",
       " 'Finland': 0.06498351197037036,\n",
       " 'France': 0.09869568242000001,\n",
       " 'Germany': 0.11804669722500001,\n",
       " 'Hungary': 0.07221681793181818,\n",
       " 'India': 0.14704779877222218,\n",
       " 'Indonesia': 0.10508861144166666,\n",
       " 'Iran': 0.17692711395555552,\n",
       " 'Iraq': 0.22023040722222229,\n",
       " 'Ireland': 0.07894722206666667,\n",
       " 'Italy': 0.08168499943214283,\n",
       " 'Japan': 0.09642451640967745,\n",
       " 'Jordan': 0.17527028476296297,\n",
       " 'Korea': 0.08972352185,\n",
       " 'Kuwait': 0.20345878657407404,\n",
       " 'Lebanon': 0.22242778153333337,\n",
       " 'Malaysia': 0.08871500324705883,\n",
       " 'Mauritius': 0.052992638471428564,\n",
       " 'Netherlands': 0.06033516975384615,\n",
       " 'New Zealand': 0.07786456111428572,\n",
       " 'Norway': 0.07040730619062499,\n",
       " 'Oman': 0.1805423001370371,\n",
       " 'Palestine': 0.14812926285185182,\n",
       " 'Poland': 0.09728633455806453,\n",
       " 'Portugal': 0.07914600074499999,\n",
       " 'Qatar': 0.21844053765555557,\n",
       " 'Russian Federation': 0.16949681094,\n",
       " 'Saudi Arabia': 0.19700758711851854,\n",
       " 'Singapore': 0.12162582094411763,\n",
       " 'Slovenia': 0.06749167597727274,\n",
       " 'South Africa': 0.1413993397791667,\n",
       " 'Spain': 0.0906721870375,\n",
       " 'Sweden': 0.07019858435294118,\n",
       " 'Switzerland': 0.09758303370740741,\n",
       " 'Syrian Arab Republic': 0.14682991474444448,\n",
       " 'Taiwan': 0.08358296554411768,\n",
       " 'Turkey': 0.22873143410000002,\n",
       " 'USA': 0.16148057111428576,\n",
       " 'United Arab Emirates': 0.21180697502222226,\n",
       " 'United Kingdom': 0.11391934949117646,\n",
       " 'Uruguay': 0.142999999225,\n",
       " 'Yemen': 0.15704786393703693,\n",
       " 'Zimbabwe': 0.16645721593333332}"
      ]
     },
     "execution_count": 32,
     "metadata": {},
     "output_type": "execute_result"
    }
   ],
   "source": [
    "means_dict"
   ]
  },
  {
   "cell_type": "code",
   "execution_count": 70,
   "metadata": {},
   "outputs": [
    {
     "name": "stdout",
     "output_type": "stream",
     "text": [
      "Australia\n",
      "Bahrain\n",
      "Brazil\n",
      "Canada\n",
      "China\n",
      "Colombia\n",
      "Cote d’Ivoire\n",
      "Croatia\n",
      "Czech Republic\n",
      "Denmark\n",
      "Egypt\n",
      "Finland\n",
      "France\n",
      "Germany\n",
      "Hungary\n",
      "India\n",
      "Iran\n",
      "Iraq\n",
      "Ireland\n",
      "Italy\n",
      "Japan\n",
      "Jordan\n",
      "Korea\n",
      "Kuwait\n",
      "Lebanon\n",
      "Malaysia\n",
      "Mauritius\n",
      "Netherlands\n",
      "New Zealand\n",
      "Norway\n",
      "Oman\n",
      "Palestine\n",
      "Poland\n",
      "Qatar\n",
      "Russian Federation\n",
      "Saudi Arabia\n",
      "Singapore\n",
      "Slovenia\n",
      "South Africa\n",
      "Spain\n",
      "Sweden\n",
      "Switzerland\n",
      "Syrian Arab Republic\n",
      "Taiwan\n",
      "Turkey\n",
      "USA\n",
      "United Arab Emirates\n",
      "United Kingdom\n",
      "Uruguay\n",
      "Yemen\n"
     ]
    }
   ],
   "source": [
    "means_08 = []\n",
    "means_dict_08 = {}\n",
    "\n",
    "for c in countries:\n",
    "    mean_temp = np.mean(all_df[(all_df.Year > 2007) & (all_df.Country == c)].Top_1)\n",
    "    if mean_temp < 1:\n",
    "        print(c)\n",
    "        means_08.append(mean_temp)\n",
    "        means_dict_08[c] = mean_temp\n"
   ]
  },
  {
   "cell_type": "code",
   "execution_count": 72,
   "metadata": {
    "scrolled": true
   },
   "outputs": [
    {
     "data": {
      "text/plain": [
       "(array([7., 9., 6., 7., 3., 6., 7., 3., 0., 2.]),\n",
       " array([0.05967982, 0.08193519, 0.10419056, 0.12644593, 0.1487013 ,\n",
       "        0.17095667, 0.19321205, 0.21546742, 0.23772279, 0.25997816,\n",
       "        0.28223353]),\n",
       " <a list of 10 Patch objects>)"
      ]
     },
     "execution_count": 72,
     "metadata": {},
     "output_type": "execute_result"
    },
    {
     "data": {
      "image/png": "[encoded data removed]",
      "text/plain": [
       "<Figure size 432x288 with 1 Axes>"
      ]
     },
     "metadata": {},
     "output_type": "display_data"
    }
   ],
   "source": [
    "plt.hist(means_08, bins=10)"
   ]
  },
  {
   "cell_type": "code",
   "execution_count": 74,
   "metadata": {},
   "outputs": [
    {
     "data": {
      "text/plain": [
       "{'Australia': 0.0860749995375,\n",
       " 'Bahrain': 0.17952647970000005,\n",
       " 'Brazil': 0.282233528775,\n",
       " 'Canada': 0.13766377170000002,\n",
       " 'China': 0.144319109625,\n",
       " 'Colombia': 0.2028909723,\n",
       " 'Cote d’Ivoire': 0.1768500507,\n",
       " 'Croatia': 0.08351095021666667,\n",
       " 'Czech Republic': 0.0974603807375,\n",
       " 'Denmark': 0.05967982113333333,\n",
       " 'Egypt': 0.1762908581,\n",
       " 'Finland': 0.07977500185,\n",
       " 'France': 0.10866435618571427,\n",
       " 'Germany': 0.13365595538333333,\n",
       " 'Hungary': 0.0963900015,\n",
       " 'India': 0.21151901222500002,\n",
       " 'Iran': 0.1704354998111111,\n",
       " 'Iraq': 0.2202304039111111,\n",
       " 'Ireland': 0.09889999965,\n",
       " 'Italy': 0.09516000005,\n",
       " 'Japan': 0.10585666946666666,\n",
       " 'Jordan': 0.18005896606666663,\n",
       " 'Korea': 0.1178754881,\n",
       " 'Kuwait': 0.20194690261111112,\n",
       " 'Lebanon': 0.23395768801111108,\n",
       " 'Malaysia': 0.092242788525,\n",
       " 'Mauritius': 0.07077934840000001,\n",
       " 'Netherlands': 0.06461647152,\n",
       " 'New Zealand': 0.08045087114285714,\n",
       " 'Norway': 0.07589417137499999,\n",
       " 'Oman': 0.18845398226666665,\n",
       " 'Palestine': 0.15618600115555553,\n",
       " 'Poland': 0.1249314826125,\n",
       " 'Qatar': 0.26909917262222227,\n",
       " 'Russian Federation': 0.21163590626249998,\n",
       " 'Saudi Arabia': 0.19700758656666667,\n",
       " 'Singapore': 0.13889268252857143,\n",
       " 'Slovenia': 0.06901123969999999,\n",
       " 'South Africa': 0.18792543412,\n",
       " 'Spain': 0.0908439994,\n",
       " 'Sweden': 0.08798097818333334,\n",
       " 'Switzerland': 0.10967400139999998,\n",
       " 'Syrian Arab Republic': 0.14682900245555555,\n",
       " 'Taiwan': 0.10994128758333332,\n",
       " 'Turkey': 0.20178650154444444,\n",
       " 'USA': 0.19718856894285713,\n",
       " 'United Arab Emirates': 0.22646534276666663,\n",
       " 'United Kingdom': 0.1391594324857143,\n",
       " 'Uruguay': 0.142999999225,\n",
       " 'Yemen': 0.15704786448888888}"
      ]
     },
     "execution_count": 74,
     "metadata": {},
     "output_type": "execute_result"
    }
   ],
   "source": [
    "means_dict_08"
   ]
  },
  {
   "cell_type": "code",
   "execution_count": 75,
   "metadata": {},
   "outputs": [
    {
     "data": {
      "text/plain": [
       "50"
      ]
     },
     "execution_count": 75,
     "metadata": {},
     "output_type": "execute_result"
    }
   ],
   "source": [
    "len(means_dict_08)"
   ]
  },
  {
   "cell_type": "code",
   "execution_count": 77,
   "metadata": {},
   "outputs": [
    {
     "data": {
      "text/plain": [
       "0.19718856894285713"
      ]
     },
     "execution_count": 77,
     "metadata": {},
     "output_type": "execute_result"
    }
   ],
   "source": [
    "usa_08 = means_dict_08['USA']\n",
    "usa_08"
   ]
  },
  {
   "cell_type": "code",
   "execution_count": 78,
   "metadata": {},
   "outputs": [
    {
     "data": {
      "text/plain": [
       "{'Brazil': 0.282233528775,\n",
       " 'Colombia': 0.2028909723,\n",
       " 'India': 0.21151901222500002,\n",
       " 'Iraq': 0.2202304039111111,\n",
       " 'Kuwait': 0.20194690261111112,\n",
       " 'Lebanon': 0.23395768801111108,\n",
       " 'Qatar': 0.26909917262222227,\n",
       " 'Russian Federation': 0.21163590626249998,\n",
       " 'Turkey': 0.20178650154444444,\n",
       " 'United Arab Emirates': 0.22646534276666663}"
      ]
     },
     "execution_count": 78,
     "metadata": {},
     "output_type": "execute_result"
    }
   ],
   "source": [
    "greater_usa = {}\n",
    "for k,v in means_dict_08.items():\n",
    "    if v > usa_08:\n",
    "        greater_usa[k] = v\n",
    "        \n",
    "greater_usa"
   ]
  },
  {
   "cell_type": "code",
   "execution_count": 79,
   "metadata": {},
   "outputs": [
    {
     "data": {
      "text/plain": [
       "10"
      ]
     },
     "execution_count": 79,
     "metadata": {},
     "output_type": "execute_result"
    }
   ],
   "source": [
    "len(greater_usa)"
   ]
  },
  {
   "cell_type": "code",
   "execution_count": 82,
   "metadata": {},
   "outputs": [
    {
     "name": "stdout",
     "output_type": "stream",
     "text": [
      "Brazil\n",
      "Colombia\n",
      "India\n",
      "Iraq\n",
      "Kuwait\n",
      "Lebanon\n",
      "Qatar\n",
      "Russian Federation\n",
      "Turkey\n",
      "United Arab Emirates\n"
     ]
    }
   ],
   "source": [
    "for k in greater_usa.keys():\n",
    "    print(k)"
   ]
  },
  {
   "cell_type": "code",
   "execution_count": null,
   "metadata": {},
   "outputs": [],
   "source": []
  }
 ],
 "metadata": {
  "kernelspec": {
   "display_name": "Python 3",
   "language": "python",
   "name": "python3"
  },
  "language_info": {
   "codemirror_mode": {
    "name": "ipython",
    "version": 3
   },
   "file_extension": ".py",
   "mimetype": "text/x-python",
   "name": "python",
   "nbconvert_exporter": "python",
   "pygments_lexer": "ipython3",
   "version": "3.6.5"
  }
 },
 "nbformat": 4,
 "nbformat_minor": 2
}
