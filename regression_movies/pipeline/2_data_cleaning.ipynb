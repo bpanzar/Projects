{
 "cells": [
  {
   "cell_type": "markdown",
   "metadata": {},
   "source": [
    "### Data Cleaning\n",
    "\n",
    "In this notebook we will create a DataFrame by merging all of the data that was scrapped.  I then have to do some data cleaning before the data is ready for analysis and modeling."
   ]
  },
  {
   "cell_type": "code",
   "execution_count": 27,
   "metadata": {},
   "outputs": [],
   "source": [
    "import pandas as pd\n",
    "import pickle\n",
    "import numpy as np\n",
    "from datetime import datetime"
   ]
  },
  {
   "cell_type": "code",
   "execution_count": 2,
   "metadata": {},
   "outputs": [],
   "source": [
    "# Set constants used to load data\n",
    "num_ratings = 73\n",
    "num_budgets = 6\n",
    "\n",
    "budgets_path = 'data/budgets/'\n",
    "ratings_path = 'data/scraped/'"
   ]
  },
  {
   "cell_type": "code",
   "execution_count": 3,
   "metadata": {},
   "outputs": [],
   "source": [
    "def get_budgets(num_budgets):\n",
    "    # Load a temporary df from each budget.csv file and append it to\n",
    "    # to the df that will be returned.\n",
    "    df = pd.DataFrame()\n",
    "    for i in range(num_budgets):\n",
    "        df_temp = pd.read_csv(budgets_path+f'budget_{i}.csv')\n",
    "        df = df.append(df_temp, ignore_index=True)\n",
    "        \n",
    "    df.drop(['Unnamed: 0'], axis=1, inplace=True)\n",
    "    df['Title'] = df['Title'].str.title()\n",
    "    \n",
    "    pd.DataFrame(df).to_csv('all_budgets.csv')\n",
    "    \n",
    "    return df"
   ]
  },
  {
   "cell_type": "code",
   "execution_count": 4,
   "metadata": {},
   "outputs": [],
   "source": [
    "def get_ratings(num_ratings):\n",
    "    # Load a temporary df from each scraped.csv file and append it to\n",
    "    # to the df that will be returned.\n",
    "    df = pd.DataFrame()\n",
    "    for i in range(num_ratings):\n",
    "        df_temp = pd.read_csv(ratings_path+f'scraped_{i}.csv')\n",
    "        df = df.append(df_temp, ignore_index=True)\n",
    "        \n",
    "    df.drop(['Unnamed: 0'], axis=1, inplace=True)\n",
    "    \n",
    "    pd.DataFrame(df).to_csv('all_ratings.csv')\n",
    "    \n",
    "    return df"
   ]
  },
  {
   "cell_type": "code",
   "execution_count": 5,
   "metadata": {},
   "outputs": [
    {
     "name": "stdout",
     "output_type": "stream",
     "text": [
      "The budgets DataFrame shape is: (5559, 5)\n"
     ]
    }
   ],
   "source": [
    "df_b = get_budgets(num_budgets)\n",
    "print(\"The budgets DataFrame shape is:\", df_b.shape)"
   ]
  },
  {
   "cell_type": "code",
   "execution_count": 6,
   "metadata": {},
   "outputs": [
    {
     "name": "stdout",
     "output_type": "stream",
     "text": [
      "The ratings DataFrame shape is: (7269, 7)\n"
     ]
    }
   ],
   "source": [
    "df_r = get_ratings(num_ratings)\n",
    "print(\"The ratings DataFrame shape is:\", df_r.shape)"
   ]
  },
  {
   "cell_type": "code",
   "execution_count": 7,
   "metadata": {},
   "outputs": [
    {
     "name": "stdout",
     "output_type": "stream",
     "text": [
      "The final DataFrame shape is: (3019, 11)\n"
     ]
    },
    {
     "data": {
      "text/html": [
       "<div>\n",
       "<style>\n",
       "    .dataframe thead tr:only-child th {\n",
       "        text-align: right;\n",
       "    }\n",
       "\n",
       "    .dataframe thead th {\n",
       "        text-align: left;\n",
       "    }\n",
       "\n",
       "    .dataframe tbody tr th {\n",
       "        vertical-align: top;\n",
       "    }\n",
       "</style>\n",
       "<table border=\"1\" class=\"dataframe\">\n",
       "  <thead>\n",
       "    <tr style=\"text-align: right;\">\n",
       "      <th></th>\n",
       "      <th>Genre</th>\n",
       "      <th>Language</th>\n",
       "      <th>Nudity</th>\n",
       "      <th>Rating</th>\n",
       "      <th>Sex</th>\n",
       "      <th>Title</th>\n",
       "      <th>Violence</th>\n",
       "      <th>Release_Date</th>\n",
       "      <th>Production_Budget</th>\n",
       "      <th>Domestic_Gross</th>\n",
       "      <th>Worldwide_Gross</th>\n",
       "    </tr>\n",
       "  </thead>\n",
       "  <tbody>\n",
       "    <tr>\n",
       "      <th>0</th>\n",
       "      <td>Action</td>\n",
       "      <td>Medium</td>\n",
       "      <td>Light</td>\n",
       "      <td>PG-13</td>\n",
       "      <td>None</td>\n",
       "      <td>Skyscraper</td>\n",
       "      <td>Medium</td>\n",
       "      <td>7/13/2018</td>\n",
       "      <td>125000000</td>\n",
       "      <td>31562840</td>\n",
       "      <td>71955649</td>\n",
       "    </tr>\n",
       "    <tr>\n",
       "      <th>1</th>\n",
       "      <td>Animated</td>\n",
       "      <td>None</td>\n",
       "      <td>Light</td>\n",
       "      <td>PG</td>\n",
       "      <td>None</td>\n",
       "      <td>Hotel Transylvania 3: Summer Vacation</td>\n",
       "      <td>Light</td>\n",
       "      <td>7/13/2018</td>\n",
       "      <td>65000000</td>\n",
       "      <td>57597439</td>\n",
       "      <td>112373051</td>\n",
       "    </tr>\n",
       "    <tr>\n",
       "      <th>2</th>\n",
       "      <td>Thriller</td>\n",
       "      <td>Heavy</td>\n",
       "      <td>Medium</td>\n",
       "      <td>R</td>\n",
       "      <td>Medium</td>\n",
       "      <td>The First Purge</td>\n",
       "      <td>Heavy</td>\n",
       "      <td>7/4/2018</td>\n",
       "      <td>13000000</td>\n",
       "      <td>52929930</td>\n",
       "      <td>76023230</td>\n",
       "    </tr>\n",
       "    <tr>\n",
       "      <th>3</th>\n",
       "      <td>Science Fiction</td>\n",
       "      <td>Heavy</td>\n",
       "      <td>Light</td>\n",
       "      <td>PG-13</td>\n",
       "      <td>None</td>\n",
       "      <td>Ant-Man And The Wasp</td>\n",
       "      <td>Medium</td>\n",
       "      <td>7/6/2018</td>\n",
       "      <td>130000000</td>\n",
       "      <td>142156135</td>\n",
       "      <td>293129020</td>\n",
       "    </tr>\n",
       "    <tr>\n",
       "      <th>4</th>\n",
       "      <td>Thriller</td>\n",
       "      <td>Heavy</td>\n",
       "      <td>None</td>\n",
       "      <td>R</td>\n",
       "      <td>None</td>\n",
       "      <td>Sicario: Day Of The Soldado</td>\n",
       "      <td>Heavy</td>\n",
       "      <td>6/29/2018</td>\n",
       "      <td>35000000</td>\n",
       "      <td>44370869</td>\n",
       "      <td>60095029</td>\n",
       "    </tr>\n",
       "  </tbody>\n",
       "</table>\n",
       "</div>"
      ],
      "text/plain": [
       "             Genre Language  Nudity Rating     Sex  \\\n",
       "0           Action   Medium   Light  PG-13    None   \n",
       "1         Animated     None   Light     PG    None   \n",
       "2         Thriller    Heavy  Medium      R  Medium   \n",
       "3  Science Fiction    Heavy   Light  PG-13    None   \n",
       "4         Thriller    Heavy    None      R    None   \n",
       "\n",
       "                                   Title Violence Release_Date  \\\n",
       "0                             Skyscraper   Medium    7/13/2018   \n",
       "1  Hotel Transylvania 3: Summer Vacation    Light    7/13/2018   \n",
       "2                        The First Purge    Heavy     7/4/2018   \n",
       "3                   Ant-Man And The Wasp   Medium     7/6/2018   \n",
       "4            Sicario: Day Of The Soldado    Heavy    6/29/2018   \n",
       "\n",
       "   Production_Budget  Domestic_Gross  Worldwide_Gross  \n",
       "0          125000000        31562840         71955649  \n",
       "1           65000000        57597439        112373051  \n",
       "2           13000000        52929930         76023230  \n",
       "3          130000000       142156135        293129020  \n",
       "4           35000000        44370869         60095029  "
      ]
     },
     "execution_count": 7,
     "metadata": {},
     "output_type": "execute_result"
    }
   ],
   "source": [
    "# Merge budgets and ratings DataFrames on Title and clean up the new DF.\n",
    "df_final = pd.merge(df_r, df_b, on='Title')\n",
    "df_final.drop_duplicates(inplace=True)\n",
    "df_final.reset_index(inplace=True)\n",
    "df_final.drop(['index'], axis=1, inplace=True)\n",
    "print(\"The final DataFrame shape is:\", df_final.shape)\n",
    "df_final.head()"
   ]
  },
  {
   "cell_type": "code",
   "execution_count": 8,
   "metadata": {},
   "outputs": [],
   "source": [
    "df_final.to_csv('data/movie_df_rough.csv', index=False)"
   ]
  },
  {
   "cell_type": "code",
   "execution_count": 9,
   "metadata": {},
   "outputs": [
    {
     "name": "stdout",
     "output_type": "stream",
     "text": [
      "<class 'pandas.core.frame.DataFrame'>\n",
      "RangeIndex: 3019 entries, 0 to 3018\n",
      "Data columns (total 11 columns):\n",
      "Genre                3009 non-null object\n",
      "Language             3019 non-null object\n",
      "Nudity               3019 non-null object\n",
      "Rating               3008 non-null object\n",
      "Sex                  3019 non-null object\n",
      "Title                3019 non-null object\n",
      "Violence             3019 non-null object\n",
      "Release_Date         3019 non-null object\n",
      "Production_Budget    3019 non-null int64\n",
      "Domestic_Gross       3019 non-null int64\n",
      "Worldwide_Gross      3019 non-null int64\n",
      "dtypes: int64(3), object(8)\n",
      "memory usage: 259.5+ KB\n"
     ]
    }
   ],
   "source": [
    "# Check for null values\n",
    "df_final.info()"
   ]
  },
  {
   "cell_type": "code",
   "execution_count": 10,
   "metadata": {},
   "outputs": [
    {
     "name": "stdout",
     "output_type": "stream",
     "text": [
      "<class 'pandas.core.frame.DataFrame'>\n",
      "RangeIndex: 3019 entries, 0 to 3018\n",
      "Data columns (total 11 columns):\n",
      "Genre                3019 non-null object\n",
      "Language             3019 non-null object\n",
      "Nudity               3019 non-null object\n",
      "Rating               3019 non-null object\n",
      "Sex                  3019 non-null object\n",
      "Title                3019 non-null object\n",
      "Violence             3019 non-null object\n",
      "Release_Date         3019 non-null object\n",
      "Production_Budget    3019 non-null int64\n",
      "Domestic_Gross       3019 non-null int64\n",
      "Worldwide_Gross      3019 non-null int64\n",
      "dtypes: int64(3), object(8)\n",
      "memory usage: 259.5+ KB\n"
     ]
    }
   ],
   "source": [
    "# Fill null values in the Rating column with Unknown.\n",
    "df_final.fillna('Unknown', inplace=True)\n",
    "df_final.info()"
   ]
  },
  {
   "cell_type": "code",
   "execution_count": 11,
   "metadata": {},
   "outputs": [
    {
     "data": {
      "text/plain": [
       "214"
      ]
     },
     "execution_count": 11,
     "metadata": {},
     "output_type": "execute_result"
    }
   ],
   "source": [
    "# Check how many unique Genres are in the DataFrame.\n",
    "len(df_final['Genre'].unique())"
   ]
  },
  {
   "cell_type": "code",
   "execution_count": 12,
   "metadata": {},
   "outputs": [
    {
     "data": {
      "text/plain": [
       "203"
      ]
     },
     "execution_count": 12,
     "metadata": {},
     "output_type": "execute_result"
    }
   ],
   "source": [
    "# Set Genres with title format and see if that removed any duplicates.\n",
    "df_final['Genre'] = df_final['Genre'].str.title()\n",
    "len(df_final['Genre'].unique())"
   ]
  },
  {
   "cell_type": "markdown",
   "metadata": {},
   "source": [
    "We will look at one of the genres just to see how poorly labelled they are.  'Sf' is not even a word, much less a movie genre."
   ]
  },
  {
   "cell_type": "code",
   "execution_count": 13,
   "metadata": {},
   "outputs": [
    {
     "data": {
      "text/html": [
       "<div>\n",
       "<style>\n",
       "    .dataframe thead tr:only-child th {\n",
       "        text-align: right;\n",
       "    }\n",
       "\n",
       "    .dataframe thead th {\n",
       "        text-align: left;\n",
       "    }\n",
       "\n",
       "    .dataframe tbody tr th {\n",
       "        vertical-align: top;\n",
       "    }\n",
       "</style>\n",
       "<table border=\"1\" class=\"dataframe\">\n",
       "  <thead>\n",
       "    <tr style=\"text-align: right;\">\n",
       "      <th></th>\n",
       "      <th>Genre</th>\n",
       "      <th>Language</th>\n",
       "      <th>Nudity</th>\n",
       "      <th>Rating</th>\n",
       "      <th>Sex</th>\n",
       "      <th>Title</th>\n",
       "      <th>Violence</th>\n",
       "      <th>Release_Date</th>\n",
       "      <th>Production_Budget</th>\n",
       "      <th>Domestic_Gross</th>\n",
       "      <th>Worldwide_Gross</th>\n",
       "    </tr>\n",
       "  </thead>\n",
       "  <tbody>\n",
       "    <tr>\n",
       "      <th>1742</th>\n",
       "      <td>Sf</td>\n",
       "      <td>Medium</td>\n",
       "      <td>Light</td>\n",
       "      <td>PG-13 for language, intense action violence, d...</td>\n",
       "      <td>Light</td>\n",
       "      <td>Fantastic Four</td>\n",
       "      <td>Medium</td>\n",
       "      <td>8/7/2015</td>\n",
       "      <td>120000000</td>\n",
       "      <td>56117548</td>\n",
       "      <td>167977596</td>\n",
       "    </tr>\n",
       "    <tr>\n",
       "      <th>1743</th>\n",
       "      <td>Sf</td>\n",
       "      <td>Medium</td>\n",
       "      <td>Light</td>\n",
       "      <td>PG-13 for language, intense action violence, d...</td>\n",
       "      <td>Light</td>\n",
       "      <td>Fantastic Four</td>\n",
       "      <td>Medium</td>\n",
       "      <td>7/8/2005</td>\n",
       "      <td>87500000</td>\n",
       "      <td>154696080</td>\n",
       "      <td>333132750</td>\n",
       "    </tr>\n",
       "    <tr>\n",
       "      <th>1747</th>\n",
       "      <td>Sf</td>\n",
       "      <td>Heavy</td>\n",
       "      <td>Light</td>\n",
       "      <td>PG-13</td>\n",
       "      <td>None</td>\n",
       "      <td>War Of The Worlds</td>\n",
       "      <td>Medium</td>\n",
       "      <td>6/29/2005</td>\n",
       "      <td>132000000</td>\n",
       "      <td>234280354</td>\n",
       "      <td>606836535</td>\n",
       "    </tr>\n",
       "  </tbody>\n",
       "</table>\n",
       "</div>"
      ],
      "text/plain": [
       "     Genre Language Nudity                                             Rating  \\\n",
       "1742    Sf   Medium  Light  PG-13 for language, intense action violence, d...   \n",
       "1743    Sf   Medium  Light  PG-13 for language, intense action violence, d...   \n",
       "1747    Sf    Heavy  Light                                              PG-13   \n",
       "\n",
       "        Sex              Title Violence Release_Date  Production_Budget  \\\n",
       "1742  Light     Fantastic Four   Medium     8/7/2015          120000000   \n",
       "1743  Light     Fantastic Four   Medium     7/8/2005           87500000   \n",
       "1747   None  War Of The Worlds   Medium    6/29/2005          132000000   \n",
       "\n",
       "      Domestic_Gross  Worldwide_Gross  \n",
       "1742        56117548        167977596  \n",
       "1743       154696080        333132750  \n",
       "1747       234280354        606836535  "
      ]
     },
     "execution_count": 13,
     "metadata": {},
     "output_type": "execute_result"
    }
   ],
   "source": [
    "df_final.loc[df_final['Genre'].str.contains('Sf')]"
   ]
  },
  {
   "cell_type": "markdown",
   "metadata": {},
   "source": [
    "At this point I just manually relabelled the genres using my domain knowledge.  I attempted to label the movies in a general way.  For example, the 'Adventure' genre because the 'Action' genre."
   ]
  },
  {
   "cell_type": "code",
   "execution_count": 14,
   "metadata": {},
   "outputs": [],
   "source": [
    "df_final.loc[df_final['Genre'].str.contains('Advent'), 'Genre'] = 'Action'\n",
    "df_final.loc[df_final['Genre'].str.contains('Bibl'), 'Genre'] = 'Religious'\n",
    "df_final.loc[df_final['Genre'].str.contains('Spy'), 'Genre'] = 'Thriller'\n",
    "df_final.loc[df_final['Genre'].str.contains('Drama'), 'Genre'] = 'Drama'\n",
    "df_final.loc[df_final['Genre'].str.contains('Romantic'), 'Genre'] = 'Romance'\n",
    "df_final.loc[df_final['Genre'].str.contains('Evang'), 'Genre'] = 'Religious'\n",
    "df_final.loc[df_final['Genre'].str.contains('Crime'), 'Genre'] = 'Thriller'\n",
    "df_final.loc[df_final['Genre'].str.contains('Thriller'), 'Genre'] = 'Thriller'\n",
    "df_final.loc[df_final['Genre'].str.contains('Science'), 'Genre'] = 'Science Fiction'\n",
    "df_final.loc[df_final['Genre'].str.contains('Historic'), 'Genre'] = 'Historical'\n",
    "df_final.loc[df_final['Genre'].str.contains('Animated'), 'Genre'] = 'Animated'\n",
    "df_final.loc[df_final['Genre'].str.contains('Suspense'), 'Genre'] = 'Thriller'\n",
    "df_final.loc[df_final['Genre'].str.contains('Comedy'), 'Genre'] = 'Comedy'\n",
    "df_final.loc[df_final['Genre'].str.contains('Sex Farce'), 'Genre'] = 'Comedy'\n",
    "df_final.loc[df_final['Genre'].str.contains('Action'), 'Genre'] = 'Action'\n",
    "df_final.loc[df_final['Genre'].str.contains('Comic'), 'Genre'] = 'Comedy'\n",
    "df_final.loc[df_final['Genre'].str.contains('Spoof'), 'Genre'] = 'Comedy'\n",
    "df_final.loc[df_final['Genre'].str.contains('Detective'), 'Genre'] = 'Thriller'\n",
    "df_final.loc[df_final['Genre'].str.contains('Tragedy'), 'Genre'] = 'Drama'\n",
    "df_final.loc[df_final['Genre'].str.contains('Biography'), 'Genre'] = 'Biography'\n",
    "df_final.loc[df_final['Genre'].str.contains('War'), 'Genre'] = 'Action'\n",
    "df_final.loc[df_final['Genre'].str.contains('Children'), 'Genre'] = 'Family'\n",
    "df_final.loc[df_final['Genre'].str.contains('Satire'), 'Genre'] = 'Comedy'\n",
    "df_final.loc[df_final['Genre'].str.contains('Religious Fant'), 'Genre'] = 'Thriller'\n",
    "df_final.loc[df_final['Genre'].str.contains('Noir'), 'Genre'] = 'Thriller'\n",
    "df_final.loc[df_final['Genre'].str.contains('Fairy'), 'Genre'] = 'Family'\n",
    "df_final.loc[df_final['Genre'].str.contains('Martial'), 'Genre'] = 'Action'\n",
    "df_final.loc[df_final['Genre'].str.contains('Animal'), 'Genre'] = 'Drama'\n",
    "df_final.loc[df_final['Genre'].str.contains('Animation'), 'Genre'] = 'Animated'\n",
    "df_final.loc[df_final['Genre'].str.contains('Gangster'), 'Genre'] = 'Thriller'\n",
    "df_final.loc[df_final['Genre'].str.contains('Animal'), 'Genre'] = 'Drama'\n",
    "df_final.loc[df_final['Genre'].str.contains('Semi-D'), 'Genre'] = 'Drama'\n",
    "df_final.loc[df_final['Genre'].str.contains('Sports Docu'), 'Genre'] = 'Documentary'\n",
    "df_final.loc[df_final['Genre'].str.contains('Porno'), 'Genre'] = 'Drama'\n",
    "df_final.loc[df_final['Genre'].str.contains('Old West'), 'Genre'] = 'Action'\n",
    "df_final.loc[df_final['Genre'].str.contains('Humorous'), 'Genre'] = 'Documentary'\n",
    "df_final.loc[df_final['Genre'].str.contains('Sci'), 'Genre'] = 'Science Fiction'\n",
    "df_final.loc[df_final['Genre'].str.contains('Sf'), 'Genre'] = 'Action'\n",
    "df_final.loc[df_final['Genre'].str.contains('Sports'), 'Genre'] = 'Drama'\n",
    "df_final.loc[df_final['Genre'].str.contains('Concert'), 'Genre'] = 'Comedy'\n",
    "df_final.loc[df_final['Genre'].str.contains('Sf'), 'Genre'] = 'Action'\n",
    "df_final.loc[df_final['Genre'].str.contains('Antimated'), 'Genre'] = 'Animated'\n",
    "df_final.loc[df_final['Genre'].str.contains('Famil'), 'Genre'] = 'Family'\n",
    "df_final.loc[df_final['Genre'].str.contains('Horror-Mystery'), 'Genre'] = 'Action'\n",
    "df_final.loc[df_final['Genre'].str.contains('Horror'), 'Genre'] = 'Horror'\n",
    "df_final.loc[df_final['Genre'].str.contains('Musical M'), 'Genre'] = 'Musical'\n",
    "df_final.loc[df_final['Genre'].str.contains('Mythological Fantasy'), 'Genre'] = 'Fantasy'\n",
    "df_final.loc[df_final['Genre'].str.contains('Polemical Documentary'), 'Genre'] = 'Documentary'\n",
    "df_final.loc[df_final['Genre'].str.contains('Melodrama'), 'Genre'] = 'Drama'\n"
   ]
  },
  {
   "cell_type": "code",
   "execution_count": 15,
   "metadata": {},
   "outputs": [
    {
     "data": {
      "text/plain": [
       "array(['Action', 'Animated', 'Thriller', 'Science Fiction', 'Drama',\n",
       "       'Comedy', 'Horror', 'Romance', 'Religious', 'Fantasy', 'Musical',\n",
       "       'Mystery', 'Unknown', 'Western', 'Family', 'Documentary',\n",
       "       'Historical', 'Biography', 'Soap Opera'], dtype=object)"
      ]
     },
     "execution_count": 15,
     "metadata": {},
     "output_type": "execute_result"
    }
   ],
   "source": [
    "# Check the new unique genres.\n",
    "df_final['Genre'].unique()"
   ]
  },
  {
   "cell_type": "markdown",
   "metadata": {},
   "source": [
    "-----\n",
    "Now we will look at the 'Rating' column.  There is a lot of text in this column in addition to the movie rating."
   ]
  },
  {
   "cell_type": "code",
   "execution_count": 16,
   "metadata": {},
   "outputs": [
    {
     "data": {
      "text/plain": [
       "111"
      ]
     },
     "execution_count": 16,
     "metadata": {},
     "output_type": "execute_result"
    }
   ],
   "source": [
    "# Check how many unique ratings there are.\n",
    "len(df_final['Rating'].unique())"
   ]
  },
  {
   "cell_type": "code",
   "execution_count": 17,
   "metadata": {},
   "outputs": [
    {
     "data": {
      "text/plain": [
       "'PG for some action violence and some crude humor'"
      ]
     },
     "execution_count": 17,
     "metadata": {},
     "output_type": "execute_result"
    }
   ],
   "source": [
    "# Look at one of the ratings for an example.\n",
    "df_final['Rating'].unique()[15]"
   ]
  },
  {
   "cell_type": "code",
   "execution_count": 18,
   "metadata": {},
   "outputs": [],
   "source": [
    "a = 'PG for some action violence and some crude humor'"
   ]
  },
  {
   "cell_type": "code",
   "execution_count": 19,
   "metadata": {},
   "outputs": [
    {
     "data": {
      "text/plain": [
       "['PG', 'for some action violence and some crude humor']"
      ]
     },
     "execution_count": 19,
     "metadata": {},
     "output_type": "execute_result"
    }
   ],
   "source": [
    "a.split(' ', maxsplit=1)"
   ]
  },
  {
   "cell_type": "code",
   "execution_count": 20,
   "metadata": {},
   "outputs": [],
   "source": [
    "# Clean up Ratings column by spliting on white space, performing\n",
    "# 1 split, and then expanding the results in to a DataFrame.\n",
    "# The first column of this DataFrame is assigned to Rating column and\n",
    "# the second column is full of None values and descarded.\n",
    "\n",
    "df_final['Rating'] = df_final['Rating'].str.split(' ', n=1,expand=True)"
   ]
  },
  {
   "cell_type": "code",
   "execution_count": 21,
   "metadata": {},
   "outputs": [
    {
     "data": {
      "text/plain": [
       "array(['PG-13', 'PG', 'R', 'Unknown', 'Not', 'NR', 'G', 'None', 'June',\n",
       "       'No', 'TV-G', 'Produced', 'Code', 'Pre-Rating', 'Unrated', 'NC-17',\n",
       "       'Motion', 'Rated', 'TBD'], dtype=object)"
      ]
     },
     "execution_count": 21,
     "metadata": {},
     "output_type": "execute_result"
    }
   ],
   "source": [
    "# There are fewer ratings values but still some erroneous ones.\n",
    "df_final['Rating'].unique()"
   ]
  },
  {
   "cell_type": "code",
   "execution_count": 22,
   "metadata": {},
   "outputs": [],
   "source": [
    "# Create a list of valid ratings values and then assign all values in\n",
    "# the ratings column not in this list to 'Unknown'\n",
    "\n",
    "ratings = ['PG-13', 'PG', 'R', 'Unknown', 'G', 'NC-17']\n",
    "\n",
    "df_final.loc[~df_final['Rating'].isin(ratings), 'Rating'] = 'Unknown'"
   ]
  },
  {
   "cell_type": "code",
   "execution_count": 23,
   "metadata": {},
   "outputs": [
    {
     "data": {
      "text/plain": [
       "array(['PG-13', 'PG', 'R', 'Unknown', 'G', 'NC-17'], dtype=object)"
      ]
     },
     "execution_count": 23,
     "metadata": {},
     "output_type": "execute_result"
    }
   ],
   "source": [
    "df_final['Rating'].unique()"
   ]
  },
  {
   "cell_type": "code",
   "execution_count": 24,
   "metadata": {},
   "outputs": [
    {
     "data": {
      "text/html": [
       "<div>\n",
       "<style>\n",
       "    .dataframe thead tr:only-child th {\n",
       "        text-align: right;\n",
       "    }\n",
       "\n",
       "    .dataframe thead th {\n",
       "        text-align: left;\n",
       "    }\n",
       "\n",
       "    .dataframe tbody tr th {\n",
       "        vertical-align: top;\n",
       "    }\n",
       "</style>\n",
       "<table border=\"1\" class=\"dataframe\">\n",
       "  <thead>\n",
       "    <tr style=\"text-align: right;\">\n",
       "      <th></th>\n",
       "      <th>Production_Budget</th>\n",
       "      <th>Domestic_Gross</th>\n",
       "      <th>Worldwide_Gross</th>\n",
       "    </tr>\n",
       "  </thead>\n",
       "  <tbody>\n",
       "    <tr>\n",
       "      <th>count</th>\n",
       "      <td>3.019000e+03</td>\n",
       "      <td>3.019000e+03</td>\n",
       "      <td>3.019000e+03</td>\n",
       "    </tr>\n",
       "    <tr>\n",
       "      <th>mean</th>\n",
       "      <td>3.998957e+07</td>\n",
       "      <td>5.317473e+07</td>\n",
       "      <td>1.178972e+08</td>\n",
       "    </tr>\n",
       "    <tr>\n",
       "      <th>std</th>\n",
       "      <td>4.533945e+07</td>\n",
       "      <td>7.425555e+07</td>\n",
       "      <td>1.963899e+08</td>\n",
       "    </tr>\n",
       "    <tr>\n",
       "      <th>min</th>\n",
       "      <td>1.100000e+03</td>\n",
       "      <td>0.000000e+00</td>\n",
       "      <td>0.000000e+00</td>\n",
       "    </tr>\n",
       "    <tr>\n",
       "      <th>25%</th>\n",
       "      <td>1.000000e+07</td>\n",
       "      <td>7.784598e+06</td>\n",
       "      <td>1.283477e+07</td>\n",
       "    </tr>\n",
       "    <tr>\n",
       "      <th>50%</th>\n",
       "      <td>2.500000e+07</td>\n",
       "      <td>2.842675e+07</td>\n",
       "      <td>4.766601e+07</td>\n",
       "    </tr>\n",
       "    <tr>\n",
       "      <th>75%</th>\n",
       "      <td>5.200000e+07</td>\n",
       "      <td>6.647570e+07</td>\n",
       "      <td>1.341739e+08</td>\n",
       "    </tr>\n",
       "    <tr>\n",
       "      <th>max</th>\n",
       "      <td>4.250000e+08</td>\n",
       "      <td>7.605076e+08</td>\n",
       "      <td>2.776345e+09</td>\n",
       "    </tr>\n",
       "  </tbody>\n",
       "</table>\n",
       "</div>"
      ],
      "text/plain": [
       "       Production_Budget  Domestic_Gross  Worldwide_Gross\n",
       "count       3.019000e+03    3.019000e+03     3.019000e+03\n",
       "mean        3.998957e+07    5.317473e+07     1.178972e+08\n",
       "std         4.533945e+07    7.425555e+07     1.963899e+08\n",
       "min         1.100000e+03    0.000000e+00     0.000000e+00\n",
       "25%         1.000000e+07    7.784598e+06     1.283477e+07\n",
       "50%         2.500000e+07    2.842675e+07     4.766601e+07\n",
       "75%         5.200000e+07    6.647570e+07     1.341739e+08\n",
       "max         4.250000e+08    7.605076e+08     2.776345e+09"
      ]
     },
     "execution_count": 24,
     "metadata": {},
     "output_type": "execute_result"
    }
   ],
   "source": [
    "# Check the numberical features for erroneous values.\n",
    "df_final.describe()"
   ]
  },
  {
   "cell_type": "markdown",
   "metadata": {},
   "source": [
    "The numerical data is clean."
   ]
  },
  {
   "cell_type": "markdown",
   "metadata": {},
   "source": [
    "----\n",
    "Set release dates to datetime data type and create month and year values."
   ]
  },
  {
   "cell_type": "code",
   "execution_count": 30,
   "metadata": {},
   "outputs": [],
   "source": [
    "df_final['Release_Date'] = df_final['Release_Date'].apply(pd.to_datetime)"
   ]
  },
  {
   "cell_type": "code",
   "execution_count": 34,
   "metadata": {},
   "outputs": [],
   "source": [
    "df_final['Release_Year'] = pd.DatetimeIndex(df_final['Release_Date']).year\n",
    "df_final['Release_Month'] = pd.DatetimeIndex(df_final['Release_Date']).month\n"
   ]
  },
  {
   "cell_type": "code",
   "execution_count": 40,
   "metadata": {},
   "outputs": [],
   "source": [
    "month_dict = dict(zip(range(1, 13), ['Jan', 'Feb', 'Mar', 'Apr', 'May', 'Jun', 'Jul',\n",
    "                      'Aug', 'Sep', 'Oct', 'Nov', 'Dec']))"
   ]
  },
  {
   "cell_type": "code",
   "execution_count": 48,
   "metadata": {},
   "outputs": [],
   "source": [
    "release_month = []\n",
    "for m in df_final.loc[:, 'Release_Month']:\n",
    "    release_month.append(month_dict[m])"
   ]
  },
  {
   "cell_type": "code",
   "execution_count": 49,
   "metadata": {},
   "outputs": [],
   "source": [
    "df_final['Release_Month'] = pd.Series(release_month)"
   ]
  },
  {
   "cell_type": "code",
   "execution_count": 51,
   "metadata": {},
   "outputs": [],
   "source": [
    "df_final.to_csv('data/movie_df_smooth.csv', index=False)"
   ]
  },
  {
   "cell_type": "code",
   "execution_count": 52,
   "metadata": {},
   "outputs": [],
   "source": [
    "with open('data/movie_data_smooth.pkl', 'wb') as picklefile:\n",
    "    pickle.dump(df_final, picklefile)"
   ]
  },
  {
   "cell_type": "code",
   "execution_count": null,
   "metadata": {},
   "outputs": [],
   "source": []
  }
 ],
 "metadata": {
  "kernelspec": {
   "display_name": "Python 3",
   "language": "python",
   "name": "python3"
  },
  "language_info": {
   "codemirror_mode": {
    "name": "ipython",
    "version": 3
   },
   "file_extension": ".py",
   "mimetype": "text/x-python",
   "name": "python",
   "nbconvert_exporter": "python",
   "pygments_lexer": "ipython3",
   "version": "3.6.5"
  }
 },
 "nbformat": 4,
 "nbformat_minor": 2
}
