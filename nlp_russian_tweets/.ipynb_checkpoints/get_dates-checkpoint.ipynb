{
 "cells": [
  {
   "cell_type": "code",
   "execution_count": 1,
   "metadata": {},
   "outputs": [],
   "source": [
    "import pandas as pd\n",
    "import numpy as np\n",
    "\n",
    "from datetime import datetime\n",
    "import matplotlib.pyplot as plt\n",
    "%matplotlib inline"
   ]
  },
  {
   "cell_type": "code",
   "execution_count": 33,
   "metadata": {},
   "outputs": [
    {
     "data": {
      "text/plain": [
       "(381016, 15)"
      ]
     },
     "execution_count": 33,
     "metadata": {},
     "output_type": "execute_result"
    }
   ],
   "source": [
    "df = pd.read_csv('data/IRAhandle_tweets_1.csv')\n",
    "df.shape"
   ]
  },
  {
   "cell_type": "code",
   "execution_count": 34,
   "metadata": {},
   "outputs": [
    {
     "data": {
      "text/plain": [
       "(778248, 15)"
      ]
     },
     "execution_count": 34,
     "metadata": {},
     "output_type": "execute_result"
    }
   ],
   "source": [
    "df = df.append(pd.read_csv('data/IRAhandle_tweets_2.csv'))\n",
    "df.shape"
   ]
  },
  {
   "cell_type": "code",
   "execution_count": null,
   "metadata": {},
   "outputs": [],
   "source": [
    "df.to_csv()"
   ]
  },
  {
   "cell_type": "code",
   "execution_count": 35,
   "metadata": {},
   "outputs": [
    {
     "data": {
      "text/plain": [
       "array(['RightTroll', 'NonEnglish', 'Fearmonger', 'LeftTroll', 'Unknown',\n",
       "       'HashtagGamer', 'NewsFeed', 'Commercial'], dtype=object)"
      ]
     },
     "execution_count": 35,
     "metadata": {},
     "output_type": "execute_result"
    }
   ],
   "source": [
    "df.account_category.unique()"
   ]
  },
  {
   "cell_type": "code",
   "execution_count": 3,
   "metadata": {},
   "outputs": [],
   "source": [
    "df = df[df['account_category'] == 'RightTroll']"
   ]
  },
  {
   "cell_type": "code",
   "execution_count": 4,
   "metadata": {},
   "outputs": [
    {
     "data": {
      "text/plain": [
       "Index(['external_author_id', 'author', 'content', 'region', 'language',\n",
       "       'publish_date', 'harvested_date', 'following', 'followers', 'updates',\n",
       "       'post_type', 'account_type', 'new_june_2018', 'retweet',\n",
       "       'account_category'],\n",
       "      dtype='object')"
      ]
     },
     "execution_count": 4,
     "metadata": {},
     "output_type": "execute_result"
    }
   ],
   "source": [
    "df.columns"
   ]
  },
  {
   "cell_type": "code",
   "execution_count": 5,
   "metadata": {},
   "outputs": [],
   "source": [
    "df['date'] = df['publish_date'].apply(pd.to_datetime)"
   ]
  },
  {
   "cell_type": "code",
   "execution_count": 6,
   "metadata": {},
   "outputs": [],
   "source": [
    "df.drop(['external_author_id', 'publish_date', 'harvested_date', 'new_june_2018',\n",
    "         'account_type', 'post_type'], axis=1, inplace=True)"
   ]
  },
  {
   "cell_type": "code",
   "execution_count": 7,
   "metadata": {},
   "outputs": [],
   "source": [
    "df['hour'] = pd.DatetimeIndex(df.date).hour"
   ]
  },
  {
   "cell_type": "code",
   "execution_count": 11,
   "metadata": {},
   "outputs": [],
   "source": [
    "df['day'] = pd.DatetimeIndex(df.date).weekday"
   ]
  },
  {
   "cell_type": "code",
   "execution_count": 13,
   "metadata": {},
   "outputs": [],
   "source": [
    "df['date'] = pd.DatetimeIndex(df.date).date"
   ]
  },
  {
   "cell_type": "code",
   "execution_count": 14,
   "metadata": {},
   "outputs": [
    {
     "data": {
      "text/html": [
       "<div>\n",
       "<style scoped>\n",
       "    .dataframe tbody tr th:only-of-type {\n",
       "        vertical-align: middle;\n",
       "    }\n",
       "\n",
       "    .dataframe tbody tr th {\n",
       "        vertical-align: top;\n",
       "    }\n",
       "\n",
       "    .dataframe thead th {\n",
       "        text-align: right;\n",
       "    }\n",
       "</style>\n",
       "<table border=\"1\" class=\"dataframe\">\n",
       "  <thead>\n",
       "    <tr style=\"text-align: right;\">\n",
       "      <th></th>\n",
       "      <th>author</th>\n",
       "      <th>content</th>\n",
       "      <th>region</th>\n",
       "      <th>language</th>\n",
       "      <th>following</th>\n",
       "      <th>followers</th>\n",
       "      <th>updates</th>\n",
       "      <th>retweet</th>\n",
       "      <th>account_category</th>\n",
       "      <th>date</th>\n",
       "      <th>hour</th>\n",
       "      <th>day</th>\n",
       "    </tr>\n",
       "  </thead>\n",
       "  <tbody>\n",
       "    <tr>\n",
       "      <th>0</th>\n",
       "      <td>10_GOP</td>\n",
       "      <td>\"We have a sitting Democrat US Senator on tria...</td>\n",
       "      <td>Unknown</td>\n",
       "      <td>English</td>\n",
       "      <td>1052</td>\n",
       "      <td>9636</td>\n",
       "      <td>253</td>\n",
       "      <td>0</td>\n",
       "      <td>RightTroll</td>\n",
       "      <td>2017-10-01</td>\n",
       "      <td>19</td>\n",
       "      <td>6</td>\n",
       "    </tr>\n",
       "    <tr>\n",
       "      <th>1</th>\n",
       "      <td>10_GOP</td>\n",
       "      <td>Marshawn Lynch arrives to game in anti-Trump s...</td>\n",
       "      <td>Unknown</td>\n",
       "      <td>English</td>\n",
       "      <td>1054</td>\n",
       "      <td>9637</td>\n",
       "      <td>254</td>\n",
       "      <td>0</td>\n",
       "      <td>RightTroll</td>\n",
       "      <td>2017-10-01</td>\n",
       "      <td>22</td>\n",
       "      <td>6</td>\n",
       "    </tr>\n",
       "    <tr>\n",
       "      <th>2</th>\n",
       "      <td>10_GOP</td>\n",
       "      <td>Daughter of fallen Navy Sailor delivers powerf...</td>\n",
       "      <td>Unknown</td>\n",
       "      <td>English</td>\n",
       "      <td>1054</td>\n",
       "      <td>9637</td>\n",
       "      <td>255</td>\n",
       "      <td>1</td>\n",
       "      <td>RightTroll</td>\n",
       "      <td>2017-10-01</td>\n",
       "      <td>22</td>\n",
       "      <td>6</td>\n",
       "    </tr>\n",
       "    <tr>\n",
       "      <th>3</th>\n",
       "      <td>10_GOP</td>\n",
       "      <td>JUST IN: President Trump dedicates Presidents ...</td>\n",
       "      <td>Unknown</td>\n",
       "      <td>English</td>\n",
       "      <td>1062</td>\n",
       "      <td>9642</td>\n",
       "      <td>256</td>\n",
       "      <td>0</td>\n",
       "      <td>RightTroll</td>\n",
       "      <td>2017-10-01</td>\n",
       "      <td>23</td>\n",
       "      <td>6</td>\n",
       "    </tr>\n",
       "    <tr>\n",
       "      <th>4</th>\n",
       "      <td>10_GOP</td>\n",
       "      <td>19,000 RESPECTING our National Anthem! #StandF...</td>\n",
       "      <td>Unknown</td>\n",
       "      <td>English</td>\n",
       "      <td>1050</td>\n",
       "      <td>9645</td>\n",
       "      <td>246</td>\n",
       "      <td>1</td>\n",
       "      <td>RightTroll</td>\n",
       "      <td>2017-10-01</td>\n",
       "      <td>2</td>\n",
       "      <td>6</td>\n",
       "    </tr>\n",
       "  </tbody>\n",
       "</table>\n",
       "</div>"
      ],
      "text/plain": [
       "   author                                            content   region  \\\n",
       "0  10_GOP  \"We have a sitting Democrat US Senator on tria...  Unknown   \n",
       "1  10_GOP  Marshawn Lynch arrives to game in anti-Trump s...  Unknown   \n",
       "2  10_GOP  Daughter of fallen Navy Sailor delivers powerf...  Unknown   \n",
       "3  10_GOP  JUST IN: President Trump dedicates Presidents ...  Unknown   \n",
       "4  10_GOP  19,000 RESPECTING our National Anthem! #StandF...  Unknown   \n",
       "\n",
       "  language  following  followers  updates  retweet account_category  \\\n",
       "0  English       1052       9636      253        0       RightTroll   \n",
       "1  English       1054       9637      254        0       RightTroll   \n",
       "2  English       1054       9637      255        1       RightTroll   \n",
       "3  English       1062       9642      256        0       RightTroll   \n",
       "4  English       1050       9645      246        1       RightTroll   \n",
       "\n",
       "         date  hour  day  \n",
       "0  2017-10-01    19    6  \n",
       "1  2017-10-01    22    6  \n",
       "2  2017-10-01    22    6  \n",
       "3  2017-10-01    23    6  \n",
       "4  2017-10-01     2    6  "
      ]
     },
     "execution_count": 14,
     "metadata": {},
     "output_type": "execute_result"
    }
   ],
   "source": [
    "df.head()"
   ]
  },
  {
   "cell_type": "code",
   "execution_count": 15,
   "metadata": {},
   "outputs": [],
   "source": [
    "hour_tweets = df.groupby('hour').content.count().reset_index()"
   ]
  },
  {
   "cell_type": "code",
   "execution_count": 16,
   "metadata": {},
   "outputs": [],
   "source": [
    "day_tweets = df.groupby('day').content.count().reset_index()"
   ]
  },
  {
   "cell_type": "code",
   "execution_count": 17,
   "metadata": {},
   "outputs": [],
   "source": [
    "date_tweets = df.groupby('date').content.count().reset_index()"
   ]
  },
  {
   "cell_type": "code",
   "execution_count": 18,
   "metadata": {},
   "outputs": [
    {
     "data": {
      "text/plain": [
       "<matplotlib.axes._subplots.AxesSubplot at 0x117cd7ef0>"
      ]
     },
     "execution_count": 18,
     "metadata": {},
     "output_type": "execute_result"
    },
    {
     "data": {
      "image/png": "[encoded data removed]",
      "text/plain": [
       "<Figure size 432x288 with 1 Axes>"
      ]
     },
     "metadata": {},
     "output_type": "display_data"
    }
   ],
   "source": [
    "hour_tweets.plot(kind='bar')"
   ]
  },
  {
   "cell_type": "code",
   "execution_count": 19,
   "metadata": {},
   "outputs": [
    {
     "data": {
      "text/plain": [
       "<matplotlib.axes._subplots.AxesSubplot at 0x11a6bc470>"
      ]
     },
     "execution_count": 19,
     "metadata": {},
     "output_type": "execute_result"
    },
    {
     "data": {
      "image/png": "[encoded data removed]",
      "text/plain": [
       "<Figure size 432x288 with 1 Axes>"
      ]
     },
     "metadata": {},
     "output_type": "display_data"
    }
   ],
   "source": [
    "day_tweets.plot(kind='bar')"
   ]
  },
  {
   "cell_type": "code",
   "execution_count": 113,
   "metadata": {},
   "outputs": [
    {
     "data": {
      "text/plain": [
       "<matplotlib.axes._subplots.AxesSubplot at 0x13420cba8>"
      ]
     },
     "execution_count": 113,
     "metadata": {},
     "output_type": "execute_result"
    },
    {
     "data": {
      "image/png": "[encoded data removed]",
      "text/plain": [
       "<Figure size 432x288 with 1 Axes>"
      ]
     },
     "metadata": {},
     "output_type": "display_data"
    }
   ],
   "source": [
    "date_tweets.plot(kind='bar')"
   ]
  },
  {
   "cell_type": "code",
   "execution_count": 24,
   "metadata": {},
   "outputs": [],
   "source": [
    "duplicates = df[df.duplicated(subset='content', keep=False)]"
   ]
  },
  {
   "cell_type": "code",
   "execution_count": 26,
   "metadata": {},
   "outputs": [
    {
     "name": "stderr",
     "output_type": "stream",
     "text": [
      "/Users/bradpanzarella/anaconda3/lib/python3.6/site-packages/ipykernel_launcher.py:1: SettingWithCopyWarning: \n",
      "A value is trying to be set on a copy of a slice from a DataFrame\n",
      "\n",
      "See the caveats in the documentation: http://pandas.pydata.org/pandas-docs/stable/indexing.html#indexing-view-versus-copy\n",
      "  \"\"\"Entry point for launching an IPython kernel.\n"
     ]
    }
   ],
   "source": [
    "duplicates.sort_values('content', inplace=True)"
   ]
  },
  {
   "cell_type": "code",
   "execution_count": 32,
   "metadata": {},
   "outputs": [
    {
     "data": {
      "text/html": [
       "<div>\n",
       "<style scoped>\n",
       "    .dataframe tbody tr th:only-of-type {\n",
       "        vertical-align: middle;\n",
       "    }\n",
       "\n",
       "    .dataframe tbody tr th {\n",
       "        vertical-align: top;\n",
       "    }\n",
       "\n",
       "    .dataframe thead th {\n",
       "        text-align: right;\n",
       "    }\n",
       "</style>\n",
       "<table border=\"1\" class=\"dataframe\">\n",
       "  <thead>\n",
       "    <tr style=\"text-align: right;\">\n",
       "      <th></th>\n",
       "      <th>author</th>\n",
       "      <th>content</th>\n",
       "      <th>region</th>\n",
       "      <th>language</th>\n",
       "      <th>following</th>\n",
       "      <th>followers</th>\n",
       "      <th>updates</th>\n",
       "      <th>retweet</th>\n",
       "      <th>account_category</th>\n",
       "      <th>date</th>\n",
       "      <th>hour</th>\n",
       "      <th>day</th>\n",
       "    </tr>\n",
       "  </thead>\n",
       "  <tbody>\n",
       "    <tr>\n",
       "      <th>108801</th>\n",
       "      <td>AMELIEBALDWIN</td>\n",
       "      <td>!@aka55 @AshleySteel The Bible foretells a fut...</td>\n",
       "      <td>United States</td>\n",
       "      <td>English</td>\n",
       "      <td>2353</td>\n",
       "      <td>2687</td>\n",
       "      <td>23511</td>\n",
       "      <td>1</td>\n",
       "      <td>RightTroll</td>\n",
       "      <td>2016-12-28</td>\n",
       "      <td>10</td>\n",
       "      <td>2</td>\n",
       "    </tr>\n",
       "    <tr>\n",
       "      <th>110069</th>\n",
       "      <td>AMELIEBALDWIN</td>\n",
       "      <td>!@aka55 @AshleySteel The Bible foretells a fut...</td>\n",
       "      <td>United States</td>\n",
       "      <td>English</td>\n",
       "      <td>2365</td>\n",
       "      <td>2599</td>\n",
       "      <td>20913</td>\n",
       "      <td>1</td>\n",
       "      <td>RightTroll</td>\n",
       "      <td>2016-12-08</td>\n",
       "      <td>12</td>\n",
       "      <td>3</td>\n",
       "    </tr>\n",
       "    <tr>\n",
       "      <th>111672</th>\n",
       "      <td>AMELIEBALDWIN</td>\n",
       "      <td>!@aka55 @AshleySteel The Bible foretells a fut...</td>\n",
       "      <td>United States</td>\n",
       "      <td>English</td>\n",
       "      <td>2325</td>\n",
       "      <td>2739</td>\n",
       "      <td>29780</td>\n",
       "      <td>1</td>\n",
       "      <td>RightTroll</td>\n",
       "      <td>2017-02-20</td>\n",
       "      <td>19</td>\n",
       "      <td>0</td>\n",
       "    </tr>\n",
       "    <tr>\n",
       "      <th>97412</th>\n",
       "      <td>AMELIEBALDWIN</td>\n",
       "      <td>!@aka55 @AshleySteel The Bible foretells a fut...</td>\n",
       "      <td>United States</td>\n",
       "      <td>English</td>\n",
       "      <td>2340</td>\n",
       "      <td>2724</td>\n",
       "      <td>27118</td>\n",
       "      <td>1</td>\n",
       "      <td>RightTroll</td>\n",
       "      <td>2017-01-28</td>\n",
       "      <td>22</td>\n",
       "      <td>5</td>\n",
       "    </tr>\n",
       "    <tr>\n",
       "      <th>95627</th>\n",
       "      <td>AMELIEBALDWIN</td>\n",
       "      <td>!@aka55 @AshleySteel The Bible foretells a fut...</td>\n",
       "      <td>United States</td>\n",
       "      <td>English</td>\n",
       "      <td>2346</td>\n",
       "      <td>2740</td>\n",
       "      <td>25206</td>\n",
       "      <td>1</td>\n",
       "      <td>RightTroll</td>\n",
       "      <td>2017-01-12</td>\n",
       "      <td>6</td>\n",
       "      <td>3</td>\n",
       "    </tr>\n",
       "  </tbody>\n",
       "</table>\n",
       "</div>"
      ],
      "text/plain": [
       "               author                                            content  \\\n",
       "108801  AMELIEBALDWIN  !@aka55 @AshleySteel The Bible foretells a fut...   \n",
       "110069  AMELIEBALDWIN  !@aka55 @AshleySteel The Bible foretells a fut...   \n",
       "111672  AMELIEBALDWIN  !@aka55 @AshleySteel The Bible foretells a fut...   \n",
       "97412   AMELIEBALDWIN  !@aka55 @AshleySteel The Bible foretells a fut...   \n",
       "95627   AMELIEBALDWIN  !@aka55 @AshleySteel The Bible foretells a fut...   \n",
       "\n",
       "               region language  following  followers  updates  retweet  \\\n",
       "108801  United States  English       2353       2687    23511        1   \n",
       "110069  United States  English       2365       2599    20913        1   \n",
       "111672  United States  English       2325       2739    29780        1   \n",
       "97412   United States  English       2340       2724    27118        1   \n",
       "95627   United States  English       2346       2740    25206        1   \n",
       "\n",
       "       account_category        date  hour  day  \n",
       "108801       RightTroll  2016-12-28    10    2  \n",
       "110069       RightTroll  2016-12-08    12    3  \n",
       "111672       RightTroll  2017-02-20    19    0  \n",
       "97412        RightTroll  2017-01-28    22    5  \n",
       "95627        RightTroll  2017-01-12     6    3  "
      ]
     },
     "execution_count": 32,
     "metadata": {},
     "output_type": "execute_result"
    }
   ],
   "source": [
    "duplicates.head()"
   ]
  },
  {
   "cell_type": "code",
   "execution_count": 31,
   "metadata": {},
   "outputs": [
    {
     "name": "stdout",
     "output_type": "stream",
     "text": [
      "!@aka55 @AshleySteel The Bible foretells a future when EVERY MAN is tagged w/ Mark of the Beast who may not buy or sell ANYTHING without it\n",
      "!@aka55 @AshleySteel The Bible foretells a future when EVERY MAN is tagged w/ Mark of the Beast who may not buy or sell ANYTHING without it\n",
      "!@aka55 @AshleySteel The Bible foretells a future when EVERY MAN is tagged w/ Mark of the Beast who may not buy or sell ANYTHING without it\n",
      "!@aka55 @AshleySteel The Bible foretells a future when EVERY MAN is tagged w/ Mark of the Beast who may not buy or sell ANYTHING without it\n",
      "!@aka55 @AshleySteel The Bible foretells a future when EVERY MAN is tagged w/ Mark of the Beast who may not buy or sell ANYTHING without it\n",
      "!@aka55 @AshleySteel The Bible foretells a future when EVERY MAN is tagged w/ Mark of the Beast who may not buy or sell ANYTHING without it\n",
      "!@aka55 @AshleySteel The Bible foretells a future when EVERY MAN is tagged w/ Mark of the Beast who may not buy or sell ANYTHING without it\n",
      "!@aka55 @AshleySteel The Bible foretells a future when EVERY MAN is tagged w/ Mark of the Beast who may not buy or sell ANYTHING without it\n",
      "\"@SkyNewsBreak: Reuters: ...gunmen have freed some...those able to recite... Koran\" Confirming once again this has NOTHING to do with Islam!\n",
      "\"@SkyNewsBreak: Reuters: ...gunmen have freed some...those able to recite... Koran\" Confirming once again this has NOTHING to do with Islam!\n",
      "\"Accuse your opponent of what you are doing yourself.\" Saul Alinsky. Our patriot army awaits your enlistment at… https://t.co/BgHWk5fyof\n",
      "\"Accuse your opponent of what you are doing yourself.\" Saul Alinsky. Our patriot army awaits your enlistment at… https://t.co/BgHWk5fyof\n",
      "\"And the truth shall set you free.\" PATRIOTS ----&gt; We need you to join us at https://t.co/mJ4n1LcxvF. Enlist in th… https://t.co/vePW8l9rCi\n",
      "\"And the truth shall set you free.\" PATRIOTS ----&gt; We need you to join us at https://t.co/mJ4n1LcxvF. Enlist in th… https://t.co/vePW8l9rCi\n",
      "\"Either burn bright with the light of Fascism or drown in liberal hegemony\"- Taylor Swift  Wise words for such a young lady #AChristmasStory https://t.co/56MWZ3e3ri\n",
      "\"Either burn bright with the light of Fascism or drown in liberal hegemony\"- Taylor Swift  Wise words for such a young lady #AChristmasStory https://t.co/56MWZ3e3ri\n",
      "\"How’s Your #Cyber #Security Initiative Going?\" at #CES2017. #hacked ;#hacker @CES\n",
      "\"How’s Your #Cyber #Security Initiative Going?\" at #CES2017. #hacked ;#hacker @CES\n",
      "\"If they were actually concerned about fetal tissue disposal, they'd fund casket burials for all aborted fetuses.\" https://t.co/Ur5ieS3ply\n",
      "\"If they were actually concerned about fetal tissue disposal, they'd fund casket burials for all aborted fetuses.\" https://t.co/Ur5ieS3ply\n",
      "\"It was not Trump's policies that led 4,000 people to get shot in Chicago last year.\" newtgingrich #ImpeachTrump https://t.co/qY0aELi1cD\n",
      "\"It was not Trump's policies that led 4,000 people to get shot in Chicago last year.\" newtgingrich #ImpeachTrump https://t.co/qY0aELi1cD\n",
      "\"Media Malpractice\" Documentary Exposes How Media Helped Obama Get Elected @texasman2008 @colavs2184 @RealBenCarson https://t.co/OqSpvJEjjV\n",
      "\"Media Malpractice\" Documentary Exposes How Media Helped Obama Get Elected @texasman2008 @colavs2184 @RealBenCarson https://t.co/OqSpvJEjjV\n",
      "\"Media Malpractice\" Documentary Exposes How Media Helped Obama Get Elected @texasman2008 @colavs2184 @RealBenCarson https://t.co/OqSpvJEjjV\n",
      "\"Media Malpractice\" Documentary Exposes How Media Helped Obama Get Elected @texasman2008 @colavs2184 @RealBenCarson https://t.co/OqSpvJEjjV\n",
      "\"Trump es loco, Obama es miope, pero Clinton es la más peligrosa\"  dice Oliver Stone    https://t.co/3fTLFc2TdY\n",
      "\"Trump es loco, Obama es miope, pero Clinton es la más peligrosa\"  dice Oliver Stone    https://t.co/3fTLFc2TdY\n",
      "\"You don't publish a million secrets a year without making a few enemies\" #WikiLeaks https://t.co/MsNZhrBYvb https://t.co/H7ujQAFErm\n",
      "\"You don't publish a million secrets a year without making a few enemies\" #WikiLeaks https://t.co/MsNZhrBYvb https://t.co/H7ujQAFErm\n",
      "\"You don't publish a million secrets a year without making a few enemies\" #WikiLeaks https://t.co/MsNZhrBYvb https://t.co/H7ujQAFErm\n",
      "\"You don't publish a million secrets a year without making a few enemies\" #WikiLeaks https://t.co/MsNZhrBYvb https://t.co/H7ujQAFErm\n",
      "\"You, the people, have the power to make this life free and beautiful, to make this life a wonderful adventure.\" - Charlie Chaplin https://t.co/7Ie0igJ3hB\n",
      "\"You, the people, have the power to make this life free and beautiful, to make this life a wonderful adventure.\" - Charlie Chaplin https://t.co/7Ie0igJ3hB\n",
      "#ARealKenyanWomanShouldNever let her peers degrade her... Stay classy.. Read books.. Be real.. Eat vegies.. Do your squats.. And PRAY!\n",
      "#ARealKenyanWomanShouldNever let her peers degrade her... Stay classy.. Read books.. Be real.. Eat vegies.. Do your squats.. And PRAY!\n",
      "#ARealKenyanWomanShouldNever let her peers degrade her... Stay classy.. Read books.. Be real.. Eat vegies.. Do your squats.. And PRAY!\n",
      "#ARealKenyanWomanShouldNever resemble a christmass tree as a result of too much makeup and accessories\n",
      "#ARealKenyanWomanShouldNever resemble a christmass tree as a result of too much makeup and accessories\n",
      "#AllWentWrongWhen I got the driving license http://t.co/czSLr8i7jk\n",
      "#AllWentWrongWhen I got the driving license http://t.co/czSLr8i7jk\n",
      "#AllWentWrongWhen I tried nailing a picture hook http://t.co/6VjWITr2p0\n",
      "#AllWentWrongWhen I tried nailing a picture hook http://t.co/6VjWITr2p0\n",
      "#AllWentWrongWhen Trump started actually leading in polls http://t.co/UI7rVdClzU\n",
      "#AllWentWrongWhen Trump started actually leading in polls http://t.co/UI7rVdClzU\n",
      "#AllWentWrongWhen he asked me to come in on Sunday.  Again. http://t.co/y7yxO1yfGP\n",
      "#AllWentWrongWhen he asked me to come in on Sunday.  Again. http://t.co/y7yxO1yfGP\n",
      "#AllWentWrongWhen my cheeks + nose got very cold http://t.co/SH9YGngy1l\n",
      "#AllWentWrongWhen my cheeks + nose got very cold http://t.co/SH9YGngy1l\n",
      "#AllenWestRepublicDaily is out! https://t.co/dn5c30twuJ\n",
      "#AllenWestRepublicDaily is out! https://t.co/dn5c30twuJ\n",
      "#Ame Anti-American DEMS Call for Firing of Bannon, Miller, and Gorka https://t.co/uEsf44qr5i https://t.co/cXnA06dOXn\n",
      "#Ame Anti-American DEMS Call for Firing of Bannon, Miller, and Gorka https://t.co/uEsf44qr5i https://t.co/cXnA06dOXn\n",
      "#Ame BLM Co-Founder BUSTED Telling an OUTRIGHT LIE! https://t.co/lXYtRtg7gH https://t.co/J2vs543WCU\n",
      "#Ame BLM Co-Founder BUSTED Telling an OUTRIGHT LIE! https://t.co/lXYtRtg7gH https://t.co/J2vs543WCU\n",
      "#Ame BREAKING : Look Which Dem Politician Just Got ARRESTED! https://t.co/XcVyqPGCNY https://t.co/EbWMjcmrfj\n",
      "#Ame BREAKING : Look Which Dem Politician Just Got ARRESTED! https://t.co/XcVyqPGCNY https://t.co/EbWMjcmrfj\n",
      "#Ame BREAKING VIDEO! She’s Been ARRESTED! https://t.co/u0FMRxWW6g https://t.co/yhUr7d8RjC\n",
      "#Ame BREAKING VIDEO! She’s Been ARRESTED! https://t.co/u0FMRxWW6g https://t.co/yhUr7d8RjC\n",
      "#Ame CNN Race Baiting Pundit Accuses Trump of Being a White Supremacist https://t.co/kKwaxppzuB https://t.co/u3QEECVDAY\n",
      "#Ame CNN Race Baiting Pundit Accuses Trump of Being a White Supremacist https://t.co/kKwaxppzuB https://t.co/u3QEECVDAY\n",
      "#Ame Look What Nutty Pelosi Just DEMANDED that Trump Do https://t.co/ayadCv3u7k https://t.co/7OoA7Jr9yH\n",
      "#Ame Look What Nutty Pelosi Just DEMANDED that Trump Do https://t.co/ayadCv3u7k https://t.co/7OoA7Jr9yH\n",
      "#Ame Look What We Found Out About Trump-Hater Chelsea Handler’s Past https://t.co/MgcbObHJgs https://t.co/NH5TBuYzCz\n",
      "#Ame Look What We Found Out About Trump-Hater Chelsea Handler’s Past https://t.co/MgcbObHJgs https://t.co/NH5TBuYzCz\n",
      "#Ame Look What the FAKE NEWS Media is IGNORING Today https://t.co/6w0UzyDqwd https://t.co/3OUuFUieSs\n",
      "#Ame Look What the FAKE NEWS Media is IGNORING Today https://t.co/6w0UzyDqwd https://t.co/3OUuFUieSs\n",
      "#Ame Look Which A-List Celebrity Just Took a Stand For Trump https://t.co/qah2Ctkfw1 https://t.co/mCQMokODXu\n",
      "#Ame Look Which A-List Celebrity Just Took a Stand For Trump https://t.co/qah2Ctkfw1 https://t.co/mCQMokODXu\n",
      "#Ame NEW POLL Shows Trump Economy BOOMING! https://t.co/4Pdtmxkb7w https://t.co/DqS9CFVzs1\n",
      "#Ame NEW POLL Shows Trump Economy BOOMING! https://t.co/4Pdtmxkb7w https://t.co/DqS9CFVzs1\n",
      "#Ame TERRIBLE NEWS for Leftists Who Took Down the Historic Statue in Durham! https://t.co/o7ApURmwen https://t.co/eL8Bsziq6X\n",
      "#Ame TERRIBLE NEWS for Leftists Who Took Down the Historic Statue in Durham! https://t.co/o7ApURmwen https://t.co/eL8Bsziq6X\n",
      "#Arizona #healthcare https://t.co/fxYNtFDaZP\n",
      "#Arizona #healthcare https://t.co/fxYNtFDaZP\n",
      "#BHO is a communist. He wants to destroy our free market system. Comprende? Enlist in the #USFA at… https://t.co/loPKunoGPb\n",
      "#BHO is a communist. He wants to destroy our free market system. Comprende? Enlist in the #USFA at… https://t.co/loPKunoGPb\n",
      "#BUT - @FloydMayweather Retires From #Boxing  http://t.co/2YAwAOD0aa #sport #shock http://t.co/uwqejHsQEY\n",
      "#BUT - @FloydMayweather Retires From #Boxing  http://t.co/2YAwAOD0aa #sport #shock http://t.co/uwqejHsQEY\n",
      "#BUT - Protests held in #Denmark, #Hungary, #Austria and #UK chanting '#refugeeswelcome' http://t.co/EYBDvIKVjC http://t.co/1kflTMEpN7\n",
      "#BUT - Protests held in #Denmark, #Hungary, #Austria and #UK chanting '#refugeeswelcome' http://t.co/EYBDvIKVjC http://t.co/1kflTMEpN7\n",
      "#BackInTheEighties in one picture http://t.co/wOkcr2yES2\n",
      "#BackInTheEighties in one picture http://t.co/wOkcr2yES2\n",
      "#Beauty is merciless. You do not look at it...\n",
      "#Beauty is merciless. You do not look at it...\n",
      "#BillPaxton WINS hands down for Best Original Boycott of the #Oscars\n",
      "#BillPaxton WINS hands down for Best Original Boycott of the #Oscars\n",
      "#BothSides Sad day in America erasing history be it good, bad or ugly. Magnificant bronze equestarian statues are … https://t.co/SgyNDPy7Xi\n",
      "#BothSides Sad day in America erasing history be it good, bad or ugly. Magnificant bronze equestarian statues are … https://t.co/SgyNDPy7Xi\n",
      "#Business — New @SmartAsset study says #Honolulu is second least affordable city to retire in nation — http://t.co/CtQxehI7xs #808 #News\n",
      "#Business — New @SmartAsset study says #Honolulu is second least affordable city to retire in nation — http://t.co/CtQxehI7xs #808 #News\n",
      "#CCOT THE COUNCIL ON FOREIGN RELATIONS A SECRET GOVERNMENT https://t.co/LQuoTTjU9h\n",
      "#CCOT THE COUNCIL ON FOREIGN RELATIONS A SECRET GOVERNMENT https://t.co/LQuoTTjU9h\n",
      "#CHICAGO: A Sanctuary City for Everyone But U.S. Citizens - Sessions Vs Rahmbo https://t.co/AFMF35gz6V #PJNET https://t.co/UblLwlIiHY\n",
      "#CHICAGO: A Sanctuary City for Everyone But U.S. Citizens - Sessions Vs Rahmbo https://t.co/AFMF35gz6V #PJNET https://t.co/UblLwlIiHY\n",
      "#CHICAGO: A Sanctuary City for Everyone But U.S. Citizens - Sessions Vs Rahmbo https://t.co/AFMF35gz6V #PJNET https://t.co/UblLwlIiHY\n",
      "#CHICAGO: A Sanctuary City for Everyone But U.S. Citizens - Sessions Vs Rahmbo https://t.co/AFMF35gz6V #PJNET https://t.co/UblLwlIiHY\n",
      "#CHICAGO: A Sanctuary City for Everyone But U.S. Citizens - Sessions Vs Rahmbo https://t.co/AFMF35gz6V #PJNET https://t.co/UblLwlIiHY\n",
      "#CNNDebate #GOPDebate will be just another show for sad and stupid people #VegasGOPDebate\n",
      "#CNNDebate #GOPDebate will be just another show for sad and stupid people #VegasGOPDebate\n"
     ]
    }
   ],
   "source": [
    "c = 0\n",
    "for tweet in duplicates.content:\n",
    "    if c < 100:\n",
    "        print(tweet)\n",
    "    else:\n",
    "        break\n",
    "    c+=1"
   ]
  },
  {
   "cell_type": "code",
   "execution_count": 36,
   "metadata": {},
   "outputs": [
    {
     "data": {
      "text/html": [
       "<div>\n",
       "<style scoped>\n",
       "    .dataframe tbody tr th:only-of-type {\n",
       "        vertical-align: middle;\n",
       "    }\n",
       "\n",
       "    .dataframe tbody tr th {\n",
       "        vertical-align: top;\n",
       "    }\n",
       "\n",
       "    .dataframe thead th {\n",
       "        text-align: right;\n",
       "    }\n",
       "</style>\n",
       "<table border=\"1\" class=\"dataframe\">\n",
       "  <thead>\n",
       "    <tr style=\"text-align: right;\">\n",
       "      <th></th>\n",
       "      <th>day</th>\n",
       "      <th>content</th>\n",
       "    </tr>\n",
       "  </thead>\n",
       "  <tbody>\n",
       "    <tr>\n",
       "      <th>0</th>\n",
       "      <td>0</td>\n",
       "      <td>15429</td>\n",
       "    </tr>\n",
       "    <tr>\n",
       "      <th>1</th>\n",
       "      <td>1</td>\n",
       "      <td>18190</td>\n",
       "    </tr>\n",
       "    <tr>\n",
       "      <th>2</th>\n",
       "      <td>2</td>\n",
       "      <td>21316</td>\n",
       "    </tr>\n",
       "    <tr>\n",
       "      <th>3</th>\n",
       "      <td>3</td>\n",
       "      <td>20553</td>\n",
       "    </tr>\n",
       "    <tr>\n",
       "      <th>4</th>\n",
       "      <td>4</td>\n",
       "      <td>20924</td>\n",
       "    </tr>\n",
       "    <tr>\n",
       "      <th>5</th>\n",
       "      <td>5</td>\n",
       "      <td>17409</td>\n",
       "    </tr>\n",
       "    <tr>\n",
       "      <th>6</th>\n",
       "      <td>6</td>\n",
       "      <td>14860</td>\n",
       "    </tr>\n",
       "  </tbody>\n",
       "</table>\n",
       "</div>"
      ],
      "text/plain": [
       "   day  content\n",
       "0    0    15429\n",
       "1    1    18190\n",
       "2    2    21316\n",
       "3    3    20553\n",
       "4    4    20924\n",
       "5    5    17409\n",
       "6    6    14860"
      ]
     },
     "execution_count": 36,
     "metadata": {},
     "output_type": "execute_result"
    }
   ],
   "source": [
    "day_tweets"
   ]
  },
  {
   "cell_type": "code",
   "execution_count": 56,
   "metadata": {},
   "outputs": [],
   "source": [
    "hour_tweets = pd.read_csv('Results/hour_tweets.csv')"
   ]
  },
  {
   "cell_type": "code",
   "execution_count": 64,
   "metadata": {},
   "outputs": [],
   "source": [
    "hour_tweets = hour_tweets.drop('Unnamed: 0', axis=1)"
   ]
  },
  {
   "cell_type": "code",
   "execution_count": 50,
   "metadata": {},
   "outputs": [],
   "source": [
    "hour_tweets['hour'] = new_hours"
   ]
  },
  {
   "cell_type": "code",
   "execution_count": 65,
   "metadata": {},
   "outputs": [],
   "source": [
    "hour_tweets.to_csv('Results/hour_tweets.csv', index=False)"
   ]
  },
  {
   "cell_type": "code",
   "execution_count": 71,
   "metadata": {},
   "outputs": [],
   "source": [
    "est_hours = pd.Series([16,17,18,19,20,21,22,23,0,1,2,3,4,5,6,7,8,9,10,11,12,13,14,15])"
   ]
  },
  {
   "cell_type": "code",
   "execution_count": 67,
   "metadata": {},
   "outputs": [
    {
     "data": {
      "text/html": [
       "<div>\n",
       "<style scoped>\n",
       "    .dataframe tbody tr th:only-of-type {\n",
       "        vertical-align: middle;\n",
       "    }\n",
       "\n",
       "    .dataframe tbody tr th {\n",
       "        vertical-align: top;\n",
       "    }\n",
       "\n",
       "    .dataframe thead th {\n",
       "        text-align: right;\n",
       "    }\n",
       "</style>\n",
       "<table border=\"1\" class=\"dataframe\">\n",
       "  <thead>\n",
       "    <tr style=\"text-align: right;\">\n",
       "      <th></th>\n",
       "      <th>hour</th>\n",
       "      <th>content</th>\n",
       "    </tr>\n",
       "  </thead>\n",
       "  <tbody>\n",
       "    <tr>\n",
       "      <th>0</th>\n",
       "      <td>21</td>\n",
       "      <td>88436</td>\n",
       "    </tr>\n",
       "    <tr>\n",
       "      <th>1</th>\n",
       "      <td>22</td>\n",
       "      <td>83061</td>\n",
       "    </tr>\n",
       "    <tr>\n",
       "      <th>2</th>\n",
       "      <td>23</td>\n",
       "      <td>84810</td>\n",
       "    </tr>\n",
       "    <tr>\n",
       "      <th>3</th>\n",
       "      <td>0</td>\n",
       "      <td>67069</td>\n",
       "    </tr>\n",
       "    <tr>\n",
       "      <th>4</th>\n",
       "      <td>1</td>\n",
       "      <td>55443</td>\n",
       "    </tr>\n",
       "    <tr>\n",
       "      <th>5</th>\n",
       "      <td>2</td>\n",
       "      <td>48857</td>\n",
       "    </tr>\n",
       "    <tr>\n",
       "      <th>6</th>\n",
       "      <td>3</td>\n",
       "      <td>45206</td>\n",
       "    </tr>\n",
       "    <tr>\n",
       "      <th>7</th>\n",
       "      <td>4</td>\n",
       "      <td>53038</td>\n",
       "    </tr>\n",
       "    <tr>\n",
       "      <th>8</th>\n",
       "      <td>5</td>\n",
       "      <td>70159</td>\n",
       "    </tr>\n",
       "    <tr>\n",
       "      <th>9</th>\n",
       "      <td>6</td>\n",
       "      <td>71824</td>\n",
       "    </tr>\n",
       "    <tr>\n",
       "      <th>10</th>\n",
       "      <td>7</td>\n",
       "      <td>62792</td>\n",
       "    </tr>\n",
       "    <tr>\n",
       "      <th>11</th>\n",
       "      <td>8</td>\n",
       "      <td>68818</td>\n",
       "    </tr>\n",
       "    <tr>\n",
       "      <th>12</th>\n",
       "      <td>9</td>\n",
       "      <td>84826</td>\n",
       "    </tr>\n",
       "    <tr>\n",
       "      <th>13</th>\n",
       "      <td>10</td>\n",
       "      <td>111319</td>\n",
       "    </tr>\n",
       "    <tr>\n",
       "      <th>14</th>\n",
       "      <td>11</td>\n",
       "      <td>158481</td>\n",
       "    </tr>\n",
       "    <tr>\n",
       "      <th>15</th>\n",
       "      <td>12</td>\n",
       "      <td>151392</td>\n",
       "    </tr>\n",
       "    <tr>\n",
       "      <th>16</th>\n",
       "      <td>13</td>\n",
       "      <td>137290</td>\n",
       "    </tr>\n",
       "    <tr>\n",
       "      <th>17</th>\n",
       "      <td>14</td>\n",
       "      <td>114238</td>\n",
       "    </tr>\n",
       "    <tr>\n",
       "      <th>18</th>\n",
       "      <td>15</td>\n",
       "      <td>104722</td>\n",
       "    </tr>\n",
       "    <tr>\n",
       "      <th>19</th>\n",
       "      <td>16</td>\n",
       "      <td>95750</td>\n",
       "    </tr>\n",
       "    <tr>\n",
       "      <th>20</th>\n",
       "      <td>17</td>\n",
       "      <td>96989</td>\n",
       "    </tr>\n",
       "    <tr>\n",
       "      <th>21</th>\n",
       "      <td>18</td>\n",
       "      <td>97949</td>\n",
       "    </tr>\n",
       "    <tr>\n",
       "      <th>22</th>\n",
       "      <td>19</td>\n",
       "      <td>91827</td>\n",
       "    </tr>\n",
       "    <tr>\n",
       "      <th>23</th>\n",
       "      <td>20</td>\n",
       "      <td>91349</td>\n",
       "    </tr>\n",
       "  </tbody>\n",
       "</table>\n",
       "</div>"
      ],
      "text/plain": [
       "    hour  content\n",
       "0     21    88436\n",
       "1     22    83061\n",
       "2     23    84810\n",
       "3      0    67069\n",
       "4      1    55443\n",
       "5      2    48857\n",
       "6      3    45206\n",
       "7      4    53038\n",
       "8      5    70159\n",
       "9      6    71824\n",
       "10     7    62792\n",
       "11     8    68818\n",
       "12     9    84826\n",
       "13    10   111319\n",
       "14    11   158481\n",
       "15    12   151392\n",
       "16    13   137290\n",
       "17    14   114238\n",
       "18    15   104722\n",
       "19    16    95750\n",
       "20    17    96989\n",
       "21    18    97949\n",
       "22    19    91827\n",
       "23    20    91349"
      ]
     },
     "execution_count": 67,
     "metadata": {},
     "output_type": "execute_result"
    }
   ],
   "source": [
    "hour_tweets"
   ]
  },
  {
   "cell_type": "code",
   "execution_count": 68,
   "metadata": {},
   "outputs": [],
   "source": [
    "est_tweets = pd.read_csv('Results/hour_tweets.csv')"
   ]
  },
  {
   "cell_type": "code",
   "execution_count": 72,
   "metadata": {},
   "outputs": [],
   "source": [
    "est_tweets['hour'] = est_hours"
   ]
  },
  {
   "cell_type": "code",
   "execution_count": 73,
   "metadata": {},
   "outputs": [
    {
     "data": {
      "text/html": [
       "<div>\n",
       "<style scoped>\n",
       "    .dataframe tbody tr th:only-of-type {\n",
       "        vertical-align: middle;\n",
       "    }\n",
       "\n",
       "    .dataframe tbody tr th {\n",
       "        vertical-align: top;\n",
       "    }\n",
       "\n",
       "    .dataframe thead th {\n",
       "        text-align: right;\n",
       "    }\n",
       "</style>\n",
       "<table border=\"1\" class=\"dataframe\">\n",
       "  <thead>\n",
       "    <tr style=\"text-align: right;\">\n",
       "      <th></th>\n",
       "      <th>hour</th>\n",
       "      <th>content</th>\n",
       "    </tr>\n",
       "  </thead>\n",
       "  <tbody>\n",
       "    <tr>\n",
       "      <th>0</th>\n",
       "      <td>16</td>\n",
       "      <td>88436</td>\n",
       "    </tr>\n",
       "    <tr>\n",
       "      <th>1</th>\n",
       "      <td>17</td>\n",
       "      <td>83061</td>\n",
       "    </tr>\n",
       "    <tr>\n",
       "      <th>2</th>\n",
       "      <td>18</td>\n",
       "      <td>84810</td>\n",
       "    </tr>\n",
       "    <tr>\n",
       "      <th>3</th>\n",
       "      <td>19</td>\n",
       "      <td>67069</td>\n",
       "    </tr>\n",
       "    <tr>\n",
       "      <th>4</th>\n",
       "      <td>20</td>\n",
       "      <td>55443</td>\n",
       "    </tr>\n",
       "    <tr>\n",
       "      <th>5</th>\n",
       "      <td>21</td>\n",
       "      <td>48857</td>\n",
       "    </tr>\n",
       "    <tr>\n",
       "      <th>6</th>\n",
       "      <td>22</td>\n",
       "      <td>45206</td>\n",
       "    </tr>\n",
       "    <tr>\n",
       "      <th>7</th>\n",
       "      <td>23</td>\n",
       "      <td>53038</td>\n",
       "    </tr>\n",
       "    <tr>\n",
       "      <th>8</th>\n",
       "      <td>0</td>\n",
       "      <td>70159</td>\n",
       "    </tr>\n",
       "    <tr>\n",
       "      <th>9</th>\n",
       "      <td>1</td>\n",
       "      <td>71824</td>\n",
       "    </tr>\n",
       "    <tr>\n",
       "      <th>10</th>\n",
       "      <td>2</td>\n",
       "      <td>62792</td>\n",
       "    </tr>\n",
       "    <tr>\n",
       "      <th>11</th>\n",
       "      <td>3</td>\n",
       "      <td>68818</td>\n",
       "    </tr>\n",
       "    <tr>\n",
       "      <th>12</th>\n",
       "      <td>4</td>\n",
       "      <td>84826</td>\n",
       "    </tr>\n",
       "    <tr>\n",
       "      <th>13</th>\n",
       "      <td>5</td>\n",
       "      <td>111319</td>\n",
       "    </tr>\n",
       "    <tr>\n",
       "      <th>14</th>\n",
       "      <td>6</td>\n",
       "      <td>158481</td>\n",
       "    </tr>\n",
       "    <tr>\n",
       "      <th>15</th>\n",
       "      <td>7</td>\n",
       "      <td>151392</td>\n",
       "    </tr>\n",
       "    <tr>\n",
       "      <th>16</th>\n",
       "      <td>8</td>\n",
       "      <td>137290</td>\n",
       "    </tr>\n",
       "    <tr>\n",
       "      <th>17</th>\n",
       "      <td>9</td>\n",
       "      <td>114238</td>\n",
       "    </tr>\n",
       "    <tr>\n",
       "      <th>18</th>\n",
       "      <td>10</td>\n",
       "      <td>104722</td>\n",
       "    </tr>\n",
       "    <tr>\n",
       "      <th>19</th>\n",
       "      <td>11</td>\n",
       "      <td>95750</td>\n",
       "    </tr>\n",
       "    <tr>\n",
       "      <th>20</th>\n",
       "      <td>12</td>\n",
       "      <td>96989</td>\n",
       "    </tr>\n",
       "    <tr>\n",
       "      <th>21</th>\n",
       "      <td>13</td>\n",
       "      <td>97949</td>\n",
       "    </tr>\n",
       "    <tr>\n",
       "      <th>22</th>\n",
       "      <td>14</td>\n",
       "      <td>91827</td>\n",
       "    </tr>\n",
       "    <tr>\n",
       "      <th>23</th>\n",
       "      <td>15</td>\n",
       "      <td>91349</td>\n",
       "    </tr>\n",
       "  </tbody>\n",
       "</table>\n",
       "</div>"
      ],
      "text/plain": [
       "    hour  content\n",
       "0     16    88436\n",
       "1     17    83061\n",
       "2     18    84810\n",
       "3     19    67069\n",
       "4     20    55443\n",
       "5     21    48857\n",
       "6     22    45206\n",
       "7     23    53038\n",
       "8      0    70159\n",
       "9      1    71824\n",
       "10     2    62792\n",
       "11     3    68818\n",
       "12     4    84826\n",
       "13     5   111319\n",
       "14     6   158481\n",
       "15     7   151392\n",
       "16     8   137290\n",
       "17     9   114238\n",
       "18    10   104722\n",
       "19    11    95750\n",
       "20    12    96989\n",
       "21    13    97949\n",
       "22    14    91827\n",
       "23    15    91349"
      ]
     },
     "execution_count": 73,
     "metadata": {},
     "output_type": "execute_result"
    }
   ],
   "source": [
    "est_tweets"
   ]
  },
  {
   "cell_type": "code",
   "execution_count": 75,
   "metadata": {},
   "outputs": [],
   "source": [
    "hour_tweets = pd.merge(hour_tweets, est_tweets, on='hour')"
   ]
  },
  {
   "cell_type": "code",
   "execution_count": 77,
   "metadata": {},
   "outputs": [
    {
     "data": {
      "text/html": [
       "<div>\n",
       "<style scoped>\n",
       "    .dataframe tbody tr th:only-of-type {\n",
       "        vertical-align: middle;\n",
       "    }\n",
       "\n",
       "    .dataframe tbody tr th {\n",
       "        vertical-align: top;\n",
       "    }\n",
       "\n",
       "    .dataframe thead th {\n",
       "        text-align: right;\n",
       "    }\n",
       "</style>\n",
       "<table border=\"1\" class=\"dataframe\">\n",
       "  <thead>\n",
       "    <tr style=\"text-align: right;\">\n",
       "      <th></th>\n",
       "      <th>hour</th>\n",
       "      <th>MST</th>\n",
       "      <th>EST</th>\n",
       "    </tr>\n",
       "  </thead>\n",
       "  <tbody>\n",
       "    <tr>\n",
       "      <th>0</th>\n",
       "      <td>21</td>\n",
       "      <td>88436</td>\n",
       "      <td>48857</td>\n",
       "    </tr>\n",
       "    <tr>\n",
       "      <th>1</th>\n",
       "      <td>22</td>\n",
       "      <td>83061</td>\n",
       "      <td>45206</td>\n",
       "    </tr>\n",
       "    <tr>\n",
       "      <th>2</th>\n",
       "      <td>23</td>\n",
       "      <td>84810</td>\n",
       "      <td>53038</td>\n",
       "    </tr>\n",
       "    <tr>\n",
       "      <th>3</th>\n",
       "      <td>0</td>\n",
       "      <td>67069</td>\n",
       "      <td>70159</td>\n",
       "    </tr>\n",
       "    <tr>\n",
       "      <th>4</th>\n",
       "      <td>1</td>\n",
       "      <td>55443</td>\n",
       "      <td>71824</td>\n",
       "    </tr>\n",
       "    <tr>\n",
       "      <th>5</th>\n",
       "      <td>2</td>\n",
       "      <td>48857</td>\n",
       "      <td>62792</td>\n",
       "    </tr>\n",
       "    <tr>\n",
       "      <th>6</th>\n",
       "      <td>3</td>\n",
       "      <td>45206</td>\n",
       "      <td>68818</td>\n",
       "    </tr>\n",
       "    <tr>\n",
       "      <th>7</th>\n",
       "      <td>4</td>\n",
       "      <td>53038</td>\n",
       "      <td>84826</td>\n",
       "    </tr>\n",
       "    <tr>\n",
       "      <th>8</th>\n",
       "      <td>5</td>\n",
       "      <td>70159</td>\n",
       "      <td>111319</td>\n",
       "    </tr>\n",
       "    <tr>\n",
       "      <th>9</th>\n",
       "      <td>6</td>\n",
       "      <td>71824</td>\n",
       "      <td>158481</td>\n",
       "    </tr>\n",
       "    <tr>\n",
       "      <th>10</th>\n",
       "      <td>7</td>\n",
       "      <td>62792</td>\n",
       "      <td>151392</td>\n",
       "    </tr>\n",
       "    <tr>\n",
       "      <th>11</th>\n",
       "      <td>8</td>\n",
       "      <td>68818</td>\n",
       "      <td>137290</td>\n",
       "    </tr>\n",
       "    <tr>\n",
       "      <th>12</th>\n",
       "      <td>9</td>\n",
       "      <td>84826</td>\n",
       "      <td>114238</td>\n",
       "    </tr>\n",
       "    <tr>\n",
       "      <th>13</th>\n",
       "      <td>10</td>\n",
       "      <td>111319</td>\n",
       "      <td>104722</td>\n",
       "    </tr>\n",
       "    <tr>\n",
       "      <th>14</th>\n",
       "      <td>11</td>\n",
       "      <td>158481</td>\n",
       "      <td>95750</td>\n",
       "    </tr>\n",
       "    <tr>\n",
       "      <th>15</th>\n",
       "      <td>12</td>\n",
       "      <td>151392</td>\n",
       "      <td>96989</td>\n",
       "    </tr>\n",
       "    <tr>\n",
       "      <th>16</th>\n",
       "      <td>13</td>\n",
       "      <td>137290</td>\n",
       "      <td>97949</td>\n",
       "    </tr>\n",
       "    <tr>\n",
       "      <th>17</th>\n",
       "      <td>14</td>\n",
       "      <td>114238</td>\n",
       "      <td>91827</td>\n",
       "    </tr>\n",
       "    <tr>\n",
       "      <th>18</th>\n",
       "      <td>15</td>\n",
       "      <td>104722</td>\n",
       "      <td>91349</td>\n",
       "    </tr>\n",
       "    <tr>\n",
       "      <th>19</th>\n",
       "      <td>16</td>\n",
       "      <td>95750</td>\n",
       "      <td>88436</td>\n",
       "    </tr>\n",
       "    <tr>\n",
       "      <th>20</th>\n",
       "      <td>17</td>\n",
       "      <td>96989</td>\n",
       "      <td>83061</td>\n",
       "    </tr>\n",
       "    <tr>\n",
       "      <th>21</th>\n",
       "      <td>18</td>\n",
       "      <td>97949</td>\n",
       "      <td>84810</td>\n",
       "    </tr>\n",
       "    <tr>\n",
       "      <th>22</th>\n",
       "      <td>19</td>\n",
       "      <td>91827</td>\n",
       "      <td>67069</td>\n",
       "    </tr>\n",
       "    <tr>\n",
       "      <th>23</th>\n",
       "      <td>20</td>\n",
       "      <td>91349</td>\n",
       "      <td>55443</td>\n",
       "    </tr>\n",
       "  </tbody>\n",
       "</table>\n",
       "</div>"
      ],
      "text/plain": [
       "    hour     MST     EST\n",
       "0     21   88436   48857\n",
       "1     22   83061   45206\n",
       "2     23   84810   53038\n",
       "3      0   67069   70159\n",
       "4      1   55443   71824\n",
       "5      2   48857   62792\n",
       "6      3   45206   68818\n",
       "7      4   53038   84826\n",
       "8      5   70159  111319\n",
       "9      6   71824  158481\n",
       "10     7   62792  151392\n",
       "11     8   68818  137290\n",
       "12     9   84826  114238\n",
       "13    10  111319  104722\n",
       "14    11  158481   95750\n",
       "15    12  151392   96989\n",
       "16    13  137290   97949\n",
       "17    14  114238   91827\n",
       "18    15  104722   91349\n",
       "19    16   95750   88436\n",
       "20    17   96989   83061\n",
       "21    18   97949   84810\n",
       "22    19   91827   67069\n",
       "23    20   91349   55443"
      ]
     },
     "execution_count": 77,
     "metadata": {},
     "output_type": "execute_result"
    }
   ],
   "source": [
    "hour_tweets.columns = ['hour', 'MST', 'EST']\n",
    "hour_tweets"
   ]
  },
  {
   "cell_type": "code",
   "execution_count": 78,
   "metadata": {},
   "outputs": [],
   "source": [
    "hour_tweets.to_csv('Results/hour_tweets.csv', index=False)"
   ]
  },
  {
   "cell_type": "code",
   "execution_count": 79,
   "metadata": {},
   "outputs": [
    {
     "data": {
      "text/html": [
       "<div>\n",
       "<style scoped>\n",
       "    .dataframe tbody tr th:only-of-type {\n",
       "        vertical-align: middle;\n",
       "    }\n",
       "\n",
       "    .dataframe tbody tr th {\n",
       "        vertical-align: top;\n",
       "    }\n",
       "\n",
       "    .dataframe thead th {\n",
       "        text-align: right;\n",
       "    }\n",
       "</style>\n",
       "<table border=\"1\" class=\"dataframe\">\n",
       "  <thead>\n",
       "    <tr style=\"text-align: right;\">\n",
       "      <th></th>\n",
       "      <th>day</th>\n",
       "      <th>content</th>\n",
       "    </tr>\n",
       "  </thead>\n",
       "  <tbody>\n",
       "    <tr>\n",
       "      <th>0</th>\n",
       "      <td>0</td>\n",
       "      <td>353704</td>\n",
       "    </tr>\n",
       "    <tr>\n",
       "      <th>1</th>\n",
       "      <td>1</td>\n",
       "      <td>298028</td>\n",
       "    </tr>\n",
       "    <tr>\n",
       "      <th>2</th>\n",
       "      <td>2</td>\n",
       "      <td>366826</td>\n",
       "    </tr>\n",
       "    <tr>\n",
       "      <th>3</th>\n",
       "      <td>3</td>\n",
       "      <td>323541</td>\n",
       "    </tr>\n",
       "    <tr>\n",
       "      <th>4</th>\n",
       "      <td>4</td>\n",
       "      <td>306430</td>\n",
       "    </tr>\n",
       "    <tr>\n",
       "      <th>5</th>\n",
       "      <td>5</td>\n",
       "      <td>250274</td>\n",
       "    </tr>\n",
       "    <tr>\n",
       "      <th>6</th>\n",
       "      <td>6</td>\n",
       "      <td>236842</td>\n",
       "    </tr>\n",
       "  </tbody>\n",
       "</table>\n",
       "</div>"
      ],
      "text/plain": [
       "   day  content\n",
       "0    0   353704\n",
       "1    1   298028\n",
       "2    2   366826\n",
       "3    3   323541\n",
       "4    4   306430\n",
       "5    5   250274\n",
       "6    6   236842"
      ]
     },
     "execution_count": 79,
     "metadata": {},
     "output_type": "execute_result"
    }
   ],
   "source": [
    "day_tweets = pd.read_csv('Results/day_tweets.csv')\n",
    "day_tweets"
   ]
  },
  {
   "cell_type": "code",
   "execution_count": 80,
   "metadata": {},
   "outputs": [],
   "source": [
    "day_tweets['day'] = ['Monday', 'Tuesday', 'Wednesday', 'Thursday', 'Friday', 'Saturday', 'Sunday']"
   ]
  },
  {
   "cell_type": "code",
   "execution_count": 81,
   "metadata": {},
   "outputs": [
    {
     "data": {
      "text/html": [
       "<div>\n",
       "<style scoped>\n",
       "    .dataframe tbody tr th:only-of-type {\n",
       "        vertical-align: middle;\n",
       "    }\n",
       "\n",
       "    .dataframe tbody tr th {\n",
       "        vertical-align: top;\n",
       "    }\n",
       "\n",
       "    .dataframe thead th {\n",
       "        text-align: right;\n",
       "    }\n",
       "</style>\n",
       "<table border=\"1\" class=\"dataframe\">\n",
       "  <thead>\n",
       "    <tr style=\"text-align: right;\">\n",
       "      <th></th>\n",
       "      <th>day</th>\n",
       "      <th>content</th>\n",
       "    </tr>\n",
       "  </thead>\n",
       "  <tbody>\n",
       "    <tr>\n",
       "      <th>0</th>\n",
       "      <td>Monday</td>\n",
       "      <td>353704</td>\n",
       "    </tr>\n",
       "    <tr>\n",
       "      <th>1</th>\n",
       "      <td>Tuesday</td>\n",
       "      <td>298028</td>\n",
       "    </tr>\n",
       "    <tr>\n",
       "      <th>2</th>\n",
       "      <td>Wednesday</td>\n",
       "      <td>366826</td>\n",
       "    </tr>\n",
       "    <tr>\n",
       "      <th>3</th>\n",
       "      <td>Thursday</td>\n",
       "      <td>323541</td>\n",
       "    </tr>\n",
       "    <tr>\n",
       "      <th>4</th>\n",
       "      <td>Friday</td>\n",
       "      <td>306430</td>\n",
       "    </tr>\n",
       "    <tr>\n",
       "      <th>5</th>\n",
       "      <td>Saturday</td>\n",
       "      <td>250274</td>\n",
       "    </tr>\n",
       "    <tr>\n",
       "      <th>6</th>\n",
       "      <td>Sunday</td>\n",
       "      <td>236842</td>\n",
       "    </tr>\n",
       "  </tbody>\n",
       "</table>\n",
       "</div>"
      ],
      "text/plain": [
       "         day  content\n",
       "0     Monday   353704\n",
       "1    Tuesday   298028\n",
       "2  Wednesday   366826\n",
       "3   Thursday   323541\n",
       "4     Friday   306430\n",
       "5   Saturday   250274\n",
       "6     Sunday   236842"
      ]
     },
     "execution_count": 81,
     "metadata": {},
     "output_type": "execute_result"
    }
   ],
   "source": [
    "day_tweets"
   ]
  },
  {
   "cell_type": "code",
   "execution_count": 85,
   "metadata": {},
   "outputs": [
    {
     "ename": "AttributeError",
     "evalue": "module 'pandas' has no attribute 'Dataframe'",
     "output_type": "error",
     "traceback": [
      "\u001b[0;31m---------------------------------------------------------------------------\u001b[0m",
      "\u001b[0;31mAttributeError\u001b[0m                            Traceback (most recent call last)",
      "\u001b[0;32m<ipython-input-85-881aa29d1ef5>\u001b[0m in \u001b[0;36m<module>\u001b[0;34m()\u001b[0m\n\u001b[0;32m----> 1\u001b[0;31m \u001b[0msunday\u001b[0m \u001b[0;34m=\u001b[0m \u001b[0mpd\u001b[0m\u001b[0;34m.\u001b[0m\u001b[0mDataframe\u001b[0m\u001b[0;34m(\u001b[0m\u001b[0mday_tweets\u001b[0m\u001b[0;34m.\u001b[0m\u001b[0mloc\u001b[0m\u001b[0;34m[\u001b[0m\u001b[0;36m6\u001b[0m\u001b[0;34m]\u001b[0m\u001b[0;34m)\u001b[0m\u001b[0;34m\u001b[0m\u001b[0m\n\u001b[0m",
      "\u001b[0;31mAttributeError\u001b[0m: module 'pandas' has no attribute 'Dataframe'"
     ]
    }
   ],
   "source": [
    "sunday = pd.Dataframe(day_tweets.loc[6])"
   ]
  },
  {
   "cell_type": "code",
   "execution_count": 84,
   "metadata": {},
   "outputs": [
    {
     "data": {
      "text/plain": [
       "day        Sunday\n",
       "content    236842\n",
       "Name: 6, dtype: object"
      ]
     },
     "execution_count": 84,
     "metadata": {},
     "output_type": "execute_result"
    }
   ],
   "source": [
    "sunday"
   ]
  },
  {
   "cell_type": "code",
   "execution_count": 82,
   "metadata": {},
   "outputs": [],
   "source": [
    "day_tweets.to_csv('Results/day_tweets.csv', index=False)"
   ]
  },
  {
   "cell_type": "code",
   "execution_count": null,
   "metadata": {},
   "outputs": [],
   "source": []
  }
 ],
 "metadata": {
  "kernelspec": {
   "display_name": "Python 3",
   "language": "python",
   "name": "python3"
  },
  "language_info": {
   "codemirror_mode": {
    "name": "ipython",
    "version": 3
   },
   "file_extension": ".py",
   "mimetype": "text/x-python",
   "name": "python",
   "nbconvert_exporter": "python",
   "pygments_lexer": "ipython3",
   "version": "3.6.5"
  }
 },
 "nbformat": 4,
 "nbformat_minor": 2
}
