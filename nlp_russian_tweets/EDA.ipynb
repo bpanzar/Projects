{
 "cells": [
  {
   "cell_type": "code",
   "execution_count": 1,
   "metadata": {},
   "outputs": [],
   "source": [
    "import pandas as pd"
   ]
  },
  {
   "cell_type": "code",
   "execution_count": 45,
   "metadata": {},
   "outputs": [],
   "source": [
    "df = pd.read_csv('data/IRAhandle_tweets_1.csv')"
   ]
  },
  {
   "cell_type": "code",
   "execution_count": 46,
   "metadata": {},
   "outputs": [
    {
     "data": {
      "text/html": [
       "<div>\n",
       "<style scoped>\n",
       "    .dataframe tbody tr th:only-of-type {\n",
       "        vertical-align: middle;\n",
       "    }\n",
       "\n",
       "    .dataframe tbody tr th {\n",
       "        vertical-align: top;\n",
       "    }\n",
       "\n",
       "    .dataframe thead th {\n",
       "        text-align: right;\n",
       "    }\n",
       "</style>\n",
       "<table border=\"1\" class=\"dataframe\">\n",
       "  <thead>\n",
       "    <tr style=\"text-align: right;\">\n",
       "      <th></th>\n",
       "      <th>external_author_id</th>\n",
       "      <th>author</th>\n",
       "      <th>content</th>\n",
       "      <th>region</th>\n",
       "      <th>language</th>\n",
       "      <th>publish_date</th>\n",
       "      <th>harvested_date</th>\n",
       "      <th>following</th>\n",
       "      <th>followers</th>\n",
       "      <th>updates</th>\n",
       "      <th>post_type</th>\n",
       "      <th>account_type</th>\n",
       "      <th>new_june_2018</th>\n",
       "      <th>retweet</th>\n",
       "      <th>account_category</th>\n",
       "    </tr>\n",
       "  </thead>\n",
       "  <tbody>\n",
       "    <tr>\n",
       "      <th>0</th>\n",
       "      <td>9.060000e+17</td>\n",
       "      <td>10_GOP</td>\n",
       "      <td>\"We have a sitting Democrat US Senator on tria...</td>\n",
       "      <td>Unknown</td>\n",
       "      <td>English</td>\n",
       "      <td>10/1/2017 19:58</td>\n",
       "      <td>10/1/2017 19:59</td>\n",
       "      <td>1052</td>\n",
       "      <td>9636</td>\n",
       "      <td>253</td>\n",
       "      <td>NaN</td>\n",
       "      <td>Right</td>\n",
       "      <td>0</td>\n",
       "      <td>0</td>\n",
       "      <td>RightTroll</td>\n",
       "    </tr>\n",
       "    <tr>\n",
       "      <th>1</th>\n",
       "      <td>9.060000e+17</td>\n",
       "      <td>10_GOP</td>\n",
       "      <td>Marshawn Lynch arrives to game in anti-Trump s...</td>\n",
       "      <td>Unknown</td>\n",
       "      <td>English</td>\n",
       "      <td>10/1/2017 22:43</td>\n",
       "      <td>10/1/2017 22:43</td>\n",
       "      <td>1054</td>\n",
       "      <td>9637</td>\n",
       "      <td>254</td>\n",
       "      <td>NaN</td>\n",
       "      <td>Right</td>\n",
       "      <td>0</td>\n",
       "      <td>0</td>\n",
       "      <td>RightTroll</td>\n",
       "    </tr>\n",
       "    <tr>\n",
       "      <th>2</th>\n",
       "      <td>9.060000e+17</td>\n",
       "      <td>10_GOP</td>\n",
       "      <td>Daughter of fallen Navy Sailor delivers powerf...</td>\n",
       "      <td>Unknown</td>\n",
       "      <td>English</td>\n",
       "      <td>10/1/2017 22:50</td>\n",
       "      <td>10/1/2017 22:51</td>\n",
       "      <td>1054</td>\n",
       "      <td>9637</td>\n",
       "      <td>255</td>\n",
       "      <td>RETWEET</td>\n",
       "      <td>Right</td>\n",
       "      <td>0</td>\n",
       "      <td>1</td>\n",
       "      <td>RightTroll</td>\n",
       "    </tr>\n",
       "    <tr>\n",
       "      <th>3</th>\n",
       "      <td>9.060000e+17</td>\n",
       "      <td>10_GOP</td>\n",
       "      <td>JUST IN: President Trump dedicates Presidents ...</td>\n",
       "      <td>Unknown</td>\n",
       "      <td>English</td>\n",
       "      <td>10/1/2017 23:52</td>\n",
       "      <td>10/1/2017 23:52</td>\n",
       "      <td>1062</td>\n",
       "      <td>9642</td>\n",
       "      <td>256</td>\n",
       "      <td>NaN</td>\n",
       "      <td>Right</td>\n",
       "      <td>0</td>\n",
       "      <td>0</td>\n",
       "      <td>RightTroll</td>\n",
       "    </tr>\n",
       "    <tr>\n",
       "      <th>4</th>\n",
       "      <td>9.060000e+17</td>\n",
       "      <td>10_GOP</td>\n",
       "      <td>19,000 RESPECTING our National Anthem! #StandF...</td>\n",
       "      <td>Unknown</td>\n",
       "      <td>English</td>\n",
       "      <td>10/1/2017 2:13</td>\n",
       "      <td>10/1/2017 2:13</td>\n",
       "      <td>1050</td>\n",
       "      <td>9645</td>\n",
       "      <td>246</td>\n",
       "      <td>RETWEET</td>\n",
       "      <td>Right</td>\n",
       "      <td>0</td>\n",
       "      <td>1</td>\n",
       "      <td>RightTroll</td>\n",
       "    </tr>\n",
       "  </tbody>\n",
       "</table>\n",
       "</div>"
      ],
      "text/plain": [
       "   external_author_id  author  \\\n",
       "0        9.060000e+17  10_GOP   \n",
       "1        9.060000e+17  10_GOP   \n",
       "2        9.060000e+17  10_GOP   \n",
       "3        9.060000e+17  10_GOP   \n",
       "4        9.060000e+17  10_GOP   \n",
       "\n",
       "                                             content   region language  \\\n",
       "0  \"We have a sitting Democrat US Senator on tria...  Unknown  English   \n",
       "1  Marshawn Lynch arrives to game in anti-Trump s...  Unknown  English   \n",
       "2  Daughter of fallen Navy Sailor delivers powerf...  Unknown  English   \n",
       "3  JUST IN: President Trump dedicates Presidents ...  Unknown  English   \n",
       "4  19,000 RESPECTING our National Anthem! #StandF...  Unknown  English   \n",
       "\n",
       "      publish_date   harvested_date  following  followers  updates post_type  \\\n",
       "0  10/1/2017 19:58  10/1/2017 19:59       1052       9636      253       NaN   \n",
       "1  10/1/2017 22:43  10/1/2017 22:43       1054       9637      254       NaN   \n",
       "2  10/1/2017 22:50  10/1/2017 22:51       1054       9637      255   RETWEET   \n",
       "3  10/1/2017 23:52  10/1/2017 23:52       1062       9642      256       NaN   \n",
       "4   10/1/2017 2:13   10/1/2017 2:13       1050       9645      246   RETWEET   \n",
       "\n",
       "  account_type  new_june_2018  retweet account_category  \n",
       "0        Right              0        0       RightTroll  \n",
       "1        Right              0        0       RightTroll  \n",
       "2        Right              0        1       RightTroll  \n",
       "3        Right              0        0       RightTroll  \n",
       "4        Right              0        1       RightTroll  "
      ]
     },
     "execution_count": 46,
     "metadata": {},
     "output_type": "execute_result"
    }
   ],
   "source": [
    "df.head()"
   ]
  },
  {
   "cell_type": "code",
   "execution_count": 58,
   "metadata": {},
   "outputs": [],
   "source": [
    "def get_follower_count(file):\n",
    "    df = pd.read_csv(file)\n",
    "    df_trolls = df[df['account_category'] != 'NonEnglish']\n",
    "    df_follower_count = pd.DataFrame(df_trolls.groupby(['author', 'account_category']).max().followers)\n",
    "    return df_follower_count"
   ]
  },
  {
   "cell_type": "code",
   "execution_count": 59,
   "metadata": {},
   "outputs": [],
   "source": [
    "df = get_follower_count('data/IRAhandle_tweets_1.csv')"
   ]
  },
  {
   "cell_type": "code",
   "execution_count": 60,
   "metadata": {},
   "outputs": [
    {
     "data": {
      "text/html": [
       "<div>\n",
       "<style scoped>\n",
       "    .dataframe tbody tr th:only-of-type {\n",
       "        vertical-align: middle;\n",
       "    }\n",
       "\n",
       "    .dataframe tbody tr th {\n",
       "        vertical-align: top;\n",
       "    }\n",
       "\n",
       "    .dataframe thead th {\n",
       "        text-align: right;\n",
       "    }\n",
       "</style>\n",
       "<table border=\"1\" class=\"dataframe\">\n",
       "  <thead>\n",
       "    <tr style=\"text-align: right;\">\n",
       "      <th></th>\n",
       "      <th></th>\n",
       "      <th>followers</th>\n",
       "    </tr>\n",
       "    <tr>\n",
       "      <th>author</th>\n",
       "      <th>account_category</th>\n",
       "      <th></th>\n",
       "    </tr>\n",
       "  </thead>\n",
       "  <tbody>\n",
       "    <tr>\n",
       "      <th>10_GOP</th>\n",
       "      <th>RightTroll</th>\n",
       "      <td>10465</td>\n",
       "    </tr>\n",
       "    <tr>\n",
       "      <th>1D_NICOLE_</th>\n",
       "      <th>Fearmonger</th>\n",
       "      <td>53</td>\n",
       "    </tr>\n",
       "    <tr>\n",
       "      <th>1ERIK_LEE</th>\n",
       "      <th>RightTroll</th>\n",
       "      <td>74</td>\n",
       "    </tr>\n",
       "    <tr>\n",
       "      <th>2NDHALFONION</th>\n",
       "      <th>RightTroll</th>\n",
       "      <td>1</td>\n",
       "    </tr>\n",
       "    <tr>\n",
       "      <th>4EVER_SUSAN</th>\n",
       "      <th>RightTroll</th>\n",
       "      <td>60</td>\n",
       "    </tr>\n",
       "  </tbody>\n",
       "</table>\n",
       "</div>"
      ],
      "text/plain": [
       "                               followers\n",
       "author       account_category           \n",
       "10_GOP       RightTroll            10465\n",
       "1D_NICOLE_   Fearmonger               53\n",
       "1ERIK_LEE    RightTroll               74\n",
       "2NDHALFONION RightTroll                1\n",
       "4EVER_SUSAN  RightTroll               60"
      ]
     },
     "execution_count": 60,
     "metadata": {},
     "output_type": "execute_result"
    }
   ],
   "source": [
    "df.head()"
   ]
  },
  {
   "cell_type": "code",
   "execution_count": 61,
   "metadata": {},
   "outputs": [
    {
     "data": {
      "text/plain": [
       "(257, 1)"
      ]
     },
     "execution_count": 61,
     "metadata": {},
     "output_type": "execute_result"
    }
   ],
   "source": [
    "df.shape"
   ]
  },
  {
   "cell_type": "code",
   "execution_count": 62,
   "metadata": {},
   "outputs": [
    {
     "data": {
      "text/html": [
       "<div>\n",
       "<style scoped>\n",
       "    .dataframe tbody tr th:only-of-type {\n",
       "        vertical-align: middle;\n",
       "    }\n",
       "\n",
       "    .dataframe tbody tr th {\n",
       "        vertical-align: top;\n",
       "    }\n",
       "\n",
       "    .dataframe thead th {\n",
       "        text-align: right;\n",
       "    }\n",
       "</style>\n",
       "<table border=\"1\" class=\"dataframe\">\n",
       "  <thead>\n",
       "    <tr style=\"text-align: right;\">\n",
       "      <th></th>\n",
       "      <th></th>\n",
       "      <th>followers</th>\n",
       "    </tr>\n",
       "    <tr>\n",
       "      <th>author</th>\n",
       "      <th>account_category</th>\n",
       "      <th></th>\n",
       "    </tr>\n",
       "  </thead>\n",
       "  <tbody>\n",
       "    <tr>\n",
       "      <th>BLAKERIVERAI</th>\n",
       "      <th>Unknown</th>\n",
       "      <td>2</td>\n",
       "    </tr>\n",
       "    <tr>\n",
       "      <th>BLAMEYOURRSELF</th>\n",
       "      <th>HashtagGamer</th>\n",
       "      <td>158</td>\n",
       "    </tr>\n",
       "    <tr>\n",
       "      <th>BLEEPTHEPOLICE</th>\n",
       "      <th>LeftTroll</th>\n",
       "      <td>17921</td>\n",
       "    </tr>\n",
       "    <tr>\n",
       "      <th>BLK_VOICE</th>\n",
       "      <th>LeftTroll</th>\n",
       "      <td>21</td>\n",
       "    </tr>\n",
       "    <tr>\n",
       "      <th>BLMSOLDIER</th>\n",
       "      <th>LeftTroll</th>\n",
       "      <td>719</td>\n",
       "    </tr>\n",
       "  </tbody>\n",
       "</table>\n",
       "</div>"
      ],
      "text/plain": [
       "                                 followers\n",
       "author         account_category           \n",
       "BLAKERIVERAI   Unknown                   2\n",
       "BLAMEYOURRSELF HashtagGamer            158\n",
       "BLEEPTHEPOLICE LeftTroll             17921\n",
       "BLK_VOICE      LeftTroll                21\n",
       "BLMSOLDIER     LeftTroll               719"
      ]
     },
     "execution_count": 62,
     "metadata": {},
     "output_type": "execute_result"
    }
   ],
   "source": [
    "df.tail()"
   ]
  },
  {
   "cell_type": "code",
   "execution_count": 63,
   "metadata": {},
   "outputs": [],
   "source": [
    "df = df.append(get_follower_count('data/IRAhandle_tweets_2.csv'))"
   ]
  },
  {
   "cell_type": "code",
   "execution_count": 64,
   "metadata": {},
   "outputs": [
    {
     "data": {
      "text/plain": [
       "(405, 1)"
      ]
     },
     "execution_count": 64,
     "metadata": {},
     "output_type": "execute_result"
    }
   ],
   "source": [
    "df.shape"
   ]
  },
  {
   "cell_type": "code",
   "execution_count": 65,
   "metadata": {},
   "outputs": [],
   "source": [
    "df = df.append(get_follower_count('data/IRAhandle_tweets_3.csv'))"
   ]
  },
  {
   "cell_type": "code",
   "execution_count": 66,
   "metadata": {},
   "outputs": [],
   "source": [
    "df = df.append(get_follower_count('data/IRAhandle_tweets_4.csv'))"
   ]
  },
  {
   "cell_type": "code",
   "execution_count": 67,
   "metadata": {},
   "outputs": [],
   "source": [
    "df = df.append(get_follower_count('data/IRAhandle_tweets_5.csv'))"
   ]
  },
  {
   "cell_type": "code",
   "execution_count": 68,
   "metadata": {},
   "outputs": [
    {
     "data": {
      "text/plain": [
       "(1002, 1)"
      ]
     },
     "execution_count": 68,
     "metadata": {},
     "output_type": "execute_result"
    }
   ],
   "source": [
    "df.shape"
   ]
  },
  {
   "cell_type": "code",
   "execution_count": 69,
   "metadata": {},
   "outputs": [],
   "source": [
    "df = df.append(get_follower_count('data/IRAhandle_tweets_6.csv'))"
   ]
  },
  {
   "cell_type": "code",
   "execution_count": 70,
   "metadata": {},
   "outputs": [],
   "source": [
    "df = df.append(get_follower_count('data/IRAhandle_tweets_7.csv'))"
   ]
  },
  {
   "cell_type": "code",
   "execution_count": 71,
   "metadata": {},
   "outputs": [],
   "source": [
    "df = df.append(get_follower_count('data/IRAhandle_tweets_8.csv'))"
   ]
  },
  {
   "cell_type": "code",
   "execution_count": 72,
   "metadata": {},
   "outputs": [],
   "source": [
    "df = df.append(get_follower_count('data/IRAhandle_tweets_9.csv'))"
   ]
  },
  {
   "cell_type": "code",
   "execution_count": 73,
   "metadata": {},
   "outputs": [
    {
     "data": {
      "text/plain": [
       "(1378, 1)"
      ]
     },
     "execution_count": 73,
     "metadata": {},
     "output_type": "execute_result"
    }
   ],
   "source": [
    "df.shape"
   ]
  },
  {
   "cell_type": "code",
   "execution_count": 75,
   "metadata": {},
   "outputs": [],
   "source": [
    "df.sort_values('followers', ascending=False, inplace=True)"
   ]
  },
  {
   "cell_type": "code",
   "execution_count": 76,
   "metadata": {},
   "outputs": [
    {
     "data": {
      "text/html": [
       "<div>\n",
       "<style scoped>\n",
       "    .dataframe tbody tr th:only-of-type {\n",
       "        vertical-align: middle;\n",
       "    }\n",
       "\n",
       "    .dataframe tbody tr th {\n",
       "        vertical-align: top;\n",
       "    }\n",
       "\n",
       "    .dataframe thead th {\n",
       "        text-align: right;\n",
       "    }\n",
       "</style>\n",
       "<table border=\"1\" class=\"dataframe\">\n",
       "  <thead>\n",
       "    <tr style=\"text-align: right;\">\n",
       "      <th></th>\n",
       "      <th></th>\n",
       "      <th>followers</th>\n",
       "    </tr>\n",
       "    <tr>\n",
       "      <th>author</th>\n",
       "      <th>account_category</th>\n",
       "      <th></th>\n",
       "    </tr>\n",
       "  </thead>\n",
       "  <tbody>\n",
       "    <tr>\n",
       "      <th>TEN_GOP</th>\n",
       "      <th>RightTroll</th>\n",
       "      <td>145244</td>\n",
       "    </tr>\n",
       "    <tr>\n",
       "      <th>JENN_ABRAMS</th>\n",
       "      <th>RightTroll</th>\n",
       "      <td>71022</td>\n",
       "    </tr>\n",
       "    <tr>\n",
       "      <th>PAMELA_MOORE13</th>\n",
       "      <th>RightTroll</th>\n",
       "      <td>70734</td>\n",
       "    </tr>\n",
       "    <tr>\n",
       "      <th>TODAYNYCITY</th>\n",
       "      <th>NewsFeed</th>\n",
       "      <td>62088</td>\n",
       "    </tr>\n",
       "    <tr>\n",
       "      <th>ELEVEN_GOP</th>\n",
       "      <th>RightTroll</th>\n",
       "      <td>59100</td>\n",
       "    </tr>\n",
       "  </tbody>\n",
       "</table>\n",
       "</div>"
      ],
      "text/plain": [
       "                                 followers\n",
       "author         account_category           \n",
       "TEN_GOP        RightTroll           145244\n",
       "JENN_ABRAMS    RightTroll            71022\n",
       "PAMELA_MOORE13 RightTroll            70734\n",
       "TODAYNYCITY    NewsFeed              62088\n",
       "ELEVEN_GOP     RightTroll            59100"
      ]
     },
     "execution_count": 76,
     "metadata": {},
     "output_type": "execute_result"
    }
   ],
   "source": [
    "df.head()"
   ]
  },
  {
   "cell_type": "code",
   "execution_count": 77,
   "metadata": {},
   "outputs": [],
   "source": [
    "df.to_csv('num_of_followers.csv')"
   ]
  },
  {
   "cell_type": "code",
   "execution_count": 41,
   "metadata": {},
   "outputs": [
    {
     "data": {
      "text/plain": [
       "2587420"
      ]
     },
     "execution_count": 41,
     "metadata": {},
     "output_type": "execute_result"
    }
   ],
   "source": [
    "df.followers.sum()"
   ]
  },
  {
   "cell_type": "code",
   "execution_count": 42,
   "metadata": {},
   "outputs": [
    {
     "data": {
      "text/plain": [
       "1378"
      ]
     },
     "execution_count": 42,
     "metadata": {},
     "output_type": "execute_result"
    }
   ],
   "source": [
    "len(df)"
   ]
  },
  {
   "cell_type": "code",
   "execution_count": 43,
   "metadata": {},
   "outputs": [
    {
     "data": {
      "text/plain": [
       "1898884"
      ]
     },
     "execution_count": 43,
     "metadata": {},
     "output_type": "execute_result"
    }
   ],
   "source": [
    "1378**2"
   ]
  },
  {
   "cell_type": "code",
   "execution_count": 44,
   "metadata": {},
   "outputs": [
    {
     "data": {
      "text/plain": [
       "688536"
      ]
     },
     "execution_count": 44,
     "metadata": {},
     "output_type": "execute_result"
    }
   ],
   "source": [
    "2587420-1898884"
   ]
  },
  {
   "cell_type": "code",
   "execution_count": 84,
   "metadata": {},
   "outputs": [],
   "source": [
    "df = df.reset_index()"
   ]
  },
  {
   "cell_type": "code",
   "execution_count": 85,
   "metadata": {},
   "outputs": [
    {
     "data": {
      "text/html": [
       "<div>\n",
       "<style scoped>\n",
       "    .dataframe tbody tr th:only-of-type {\n",
       "        vertical-align: middle;\n",
       "    }\n",
       "\n",
       "    .dataframe tbody tr th {\n",
       "        vertical-align: top;\n",
       "    }\n",
       "\n",
       "    .dataframe thead th {\n",
       "        text-align: right;\n",
       "    }\n",
       "</style>\n",
       "<table border=\"1\" class=\"dataframe\">\n",
       "  <thead>\n",
       "    <tr style=\"text-align: right;\">\n",
       "      <th></th>\n",
       "      <th>author</th>\n",
       "      <th>account_category</th>\n",
       "      <th>followers</th>\n",
       "    </tr>\n",
       "  </thead>\n",
       "  <tbody>\n",
       "    <tr>\n",
       "      <th>0</th>\n",
       "      <td>TEN_GOP</td>\n",
       "      <td>RightTroll</td>\n",
       "      <td>145244</td>\n",
       "    </tr>\n",
       "    <tr>\n",
       "      <th>1</th>\n",
       "      <td>JENN_ABRAMS</td>\n",
       "      <td>RightTroll</td>\n",
       "      <td>71022</td>\n",
       "    </tr>\n",
       "    <tr>\n",
       "      <th>2</th>\n",
       "      <td>PAMELA_MOORE13</td>\n",
       "      <td>RightTroll</td>\n",
       "      <td>70734</td>\n",
       "    </tr>\n",
       "    <tr>\n",
       "      <th>3</th>\n",
       "      <td>TODAYNYCITY</td>\n",
       "      <td>NewsFeed</td>\n",
       "      <td>62088</td>\n",
       "    </tr>\n",
       "    <tr>\n",
       "      <th>4</th>\n",
       "      <td>ELEVEN_GOP</td>\n",
       "      <td>RightTroll</td>\n",
       "      <td>59100</td>\n",
       "    </tr>\n",
       "  </tbody>\n",
       "</table>\n",
       "</div>"
      ],
      "text/plain": [
       "           author account_category  followers\n",
       "0         TEN_GOP       RightTroll     145244\n",
       "1     JENN_ABRAMS       RightTroll      71022\n",
       "2  PAMELA_MOORE13       RightTroll      70734\n",
       "3     TODAYNYCITY         NewsFeed      62088\n",
       "4      ELEVEN_GOP       RightTroll      59100"
      ]
     },
     "execution_count": 85,
     "metadata": {},
     "output_type": "execute_result"
    }
   ],
   "source": [
    "df.head()"
   ]
  },
  {
   "cell_type": "code",
   "execution_count": 95,
   "metadata": {},
   "outputs": [],
   "source": [
    "cat_count = pd.DataFrame(df.account_category.value_counts())"
   ]
  },
  {
   "cell_type": "code",
   "execution_count": 96,
   "metadata": {},
   "outputs": [
    {
     "data": {
      "text/html": [
       "<div>\n",
       "<style scoped>\n",
       "    .dataframe tbody tr th:only-of-type {\n",
       "        vertical-align: middle;\n",
       "    }\n",
       "\n",
       "    .dataframe tbody tr th {\n",
       "        vertical-align: top;\n",
       "    }\n",
       "\n",
       "    .dataframe thead th {\n",
       "        text-align: right;\n",
       "    }\n",
       "</style>\n",
       "<table border=\"1\" class=\"dataframe\">\n",
       "  <thead>\n",
       "    <tr style=\"text-align: right;\">\n",
       "      <th></th>\n",
       "      <th>account_category</th>\n",
       "    </tr>\n",
       "  </thead>\n",
       "  <tbody>\n",
       "    <tr>\n",
       "      <th>RightTroll</th>\n",
       "      <td>630</td>\n",
       "    </tr>\n",
       "    <tr>\n",
       "      <th>LeftTroll</th>\n",
       "      <td>236</td>\n",
       "    </tr>\n",
       "    <tr>\n",
       "      <th>Unknown</th>\n",
       "      <td>214</td>\n",
       "    </tr>\n",
       "    <tr>\n",
       "      <th>Fearmonger</th>\n",
       "      <td>124</td>\n",
       "    </tr>\n",
       "    <tr>\n",
       "      <th>HashtagGamer</th>\n",
       "      <td>113</td>\n",
       "    </tr>\n",
       "    <tr>\n",
       "      <th>NewsFeed</th>\n",
       "      <td>55</td>\n",
       "    </tr>\n",
       "    <tr>\n",
       "      <th>Commercial</th>\n",
       "      <td>6</td>\n",
       "    </tr>\n",
       "  </tbody>\n",
       "</table>\n",
       "</div>"
      ],
      "text/plain": [
       "              account_category\n",
       "RightTroll                 630\n",
       "LeftTroll                  236\n",
       "Unknown                    214\n",
       "Fearmonger                 124\n",
       "HashtagGamer               113\n",
       "NewsFeed                    55\n",
       "Commercial                   6"
      ]
     },
     "execution_count": 96,
     "metadata": {},
     "output_type": "execute_result"
    }
   ],
   "source": [
    "cat_count"
   ]
  },
  {
   "cell_type": "code",
   "execution_count": 121,
   "metadata": {},
   "outputs": [],
   "source": [
    "def get_tweet_count(file):\n",
    "    df = pd.read_csv(file)\n",
    "    df_trolls = df[df['account_category'] != 'NonEnglish']\n",
    "    df_follower_count = pd.DataFrame(df_trolls.groupby(['author', 'account_category']).count().content)\n",
    "    return df_follower_count"
   ]
  },
  {
   "cell_type": "code",
   "execution_count": 142,
   "metadata": {},
   "outputs": [],
   "source": [
    "df_tweet_count = get_tweet_count('data/IRAhandle_tweets_1.csv')"
   ]
  },
  {
   "cell_type": "code",
   "execution_count": 143,
   "metadata": {},
   "outputs": [
    {
     "data": {
      "text/html": [
       "<div>\n",
       "<style scoped>\n",
       "    .dataframe tbody tr th:only-of-type {\n",
       "        vertical-align: middle;\n",
       "    }\n",
       "\n",
       "    .dataframe tbody tr th {\n",
       "        vertical-align: top;\n",
       "    }\n",
       "\n",
       "    .dataframe thead th {\n",
       "        text-align: right;\n",
       "    }\n",
       "</style>\n",
       "<table border=\"1\" class=\"dataframe\">\n",
       "  <thead>\n",
       "    <tr style=\"text-align: right;\">\n",
       "      <th></th>\n",
       "      <th></th>\n",
       "      <th>content</th>\n",
       "    </tr>\n",
       "    <tr>\n",
       "      <th>author</th>\n",
       "      <th>account_category</th>\n",
       "      <th></th>\n",
       "    </tr>\n",
       "  </thead>\n",
       "  <tbody>\n",
       "    <tr>\n",
       "      <th>BLAKERIVERAI</th>\n",
       "      <th>Unknown</th>\n",
       "      <td>6</td>\n",
       "    </tr>\n",
       "    <tr>\n",
       "      <th>BLAMEYOURRSELF</th>\n",
       "      <th>HashtagGamer</th>\n",
       "      <td>14</td>\n",
       "    </tr>\n",
       "    <tr>\n",
       "      <th>BLEEPTHEPOLICE</th>\n",
       "      <th>LeftTroll</th>\n",
       "      <td>9342</td>\n",
       "    </tr>\n",
       "    <tr>\n",
       "      <th>BLK_VOICE</th>\n",
       "      <th>LeftTroll</th>\n",
       "      <td>89</td>\n",
       "    </tr>\n",
       "    <tr>\n",
       "      <th>BLMSOLDIER</th>\n",
       "      <th>LeftTroll</th>\n",
       "      <td>3579</td>\n",
       "    </tr>\n",
       "  </tbody>\n",
       "</table>\n",
       "</div>"
      ],
      "text/plain": [
       "                                 content\n",
       "author         account_category         \n",
       "BLAKERIVERAI   Unknown                 6\n",
       "BLAMEYOURRSELF HashtagGamer           14\n",
       "BLEEPTHEPOLICE LeftTroll            9342\n",
       "BLK_VOICE      LeftTroll              89\n",
       "BLMSOLDIER     LeftTroll            3579"
      ]
     },
     "execution_count": 143,
     "metadata": {},
     "output_type": "execute_result"
    }
   ],
   "source": [
    "df_tweet_count.tail()"
   ]
  },
  {
   "cell_type": "code",
   "execution_count": 144,
   "metadata": {},
   "outputs": [
    {
     "data": {
      "text/plain": [
       "(257, 1)"
      ]
     },
     "execution_count": 144,
     "metadata": {},
     "output_type": "execute_result"
    }
   ],
   "source": [
    "df_tweet_count.shape"
   ]
  },
  {
   "cell_type": "code",
   "execution_count": 145,
   "metadata": {},
   "outputs": [],
   "source": [
    "df_tweet_count = df_tweet_count.append(get_tweet_count('data/IRAhandle_tweets_2.csv'))"
   ]
  },
  {
   "cell_type": "code",
   "execution_count": 146,
   "metadata": {},
   "outputs": [
    {
     "data": {
      "text/html": [
       "<div>\n",
       "<style scoped>\n",
       "    .dataframe tbody tr th:only-of-type {\n",
       "        vertical-align: middle;\n",
       "    }\n",
       "\n",
       "    .dataframe tbody tr th {\n",
       "        vertical-align: top;\n",
       "    }\n",
       "\n",
       "    .dataframe thead th {\n",
       "        text-align: right;\n",
       "    }\n",
       "</style>\n",
       "<table border=\"1\" class=\"dataframe\">\n",
       "  <thead>\n",
       "    <tr style=\"text-align: right;\">\n",
       "      <th></th>\n",
       "      <th></th>\n",
       "      <th>content</th>\n",
       "    </tr>\n",
       "    <tr>\n",
       "      <th>author</th>\n",
       "      <th>account_category</th>\n",
       "      <th></th>\n",
       "    </tr>\n",
       "  </thead>\n",
       "  <tbody>\n",
       "    <tr>\n",
       "      <th>DAILYLOSANGELES</th>\n",
       "      <th>NewsFeed</th>\n",
       "      <td>14156</td>\n",
       "    </tr>\n",
       "    <tr>\n",
       "      <th>DAILYNEWSDENVER</th>\n",
       "      <th>NewsFeed</th>\n",
       "      <td>3201</td>\n",
       "    </tr>\n",
       "    <tr>\n",
       "      <th>DAILYSANDIEGO</th>\n",
       "      <th>NewsFeed</th>\n",
       "      <td>14414</td>\n",
       "    </tr>\n",
       "    <tr>\n",
       "      <th>DAILYSANFRAN</th>\n",
       "      <th>NewsFeed</th>\n",
       "      <td>28076</td>\n",
       "    </tr>\n",
       "    <tr>\n",
       "      <th>DAILYSANJOSE</th>\n",
       "      <th>NewsFeed</th>\n",
       "      <td>9655</td>\n",
       "    </tr>\n",
       "  </tbody>\n",
       "</table>\n",
       "</div>"
      ],
      "text/plain": [
       "                                  content\n",
       "author          account_category         \n",
       "DAILYLOSANGELES NewsFeed            14156\n",
       "DAILYNEWSDENVER NewsFeed             3201\n",
       "DAILYSANDIEGO   NewsFeed            14414\n",
       "DAILYSANFRAN    NewsFeed            28076\n",
       "DAILYSANJOSE    NewsFeed             9655"
      ]
     },
     "execution_count": 146,
     "metadata": {},
     "output_type": "execute_result"
    }
   ],
   "source": [
    "df_tweet_count.tail()"
   ]
  },
  {
   "cell_type": "code",
   "execution_count": 147,
   "metadata": {},
   "outputs": [
    {
     "data": {
      "text/plain": [
       "(405, 1)"
      ]
     },
     "execution_count": 147,
     "metadata": {},
     "output_type": "execute_result"
    }
   ],
   "source": [
    "df_tweet_count.shape"
   ]
  },
  {
   "cell_type": "code",
   "execution_count": 148,
   "metadata": {},
   "outputs": [],
   "source": [
    "df_tweet_count = df_tweet_count.append(get_tweet_count('data/IRAhandle_tweets_3.csv'))"
   ]
  },
  {
   "cell_type": "code",
   "execution_count": 149,
   "metadata": {},
   "outputs": [],
   "source": [
    "df_tweet_count = df_tweet_count.append(get_tweet_count('data/IRAhandle_tweets_4.csv'))"
   ]
  },
  {
   "cell_type": "code",
   "execution_count": 150,
   "metadata": {},
   "outputs": [],
   "source": [
    "df_tweet_count = df_tweet_count.append(get_tweet_count('data/IRAhandle_tweets_5.csv'))"
   ]
  },
  {
   "cell_type": "code",
   "execution_count": 151,
   "metadata": {},
   "outputs": [],
   "source": [
    "df_tweet_count = df_tweet_count.append(get_tweet_count('data/IRAhandle_tweets_6.csv'))"
   ]
  },
  {
   "cell_type": "code",
   "execution_count": 152,
   "metadata": {},
   "outputs": [],
   "source": [
    "df_tweet_count = df_tweet_count.append(get_tweet_count('data/IRAhandle_tweets_7.csv'))"
   ]
  },
  {
   "cell_type": "code",
   "execution_count": 153,
   "metadata": {},
   "outputs": [],
   "source": [
    "df_tweet_count = df_tweet_count.append(get_tweet_count('data/IRAhandle_tweets_8.csv'))"
   ]
  },
  {
   "cell_type": "code",
   "execution_count": 154,
   "metadata": {},
   "outputs": [],
   "source": [
    "df_tweet_count = df_tweet_count.append(get_tweet_count('data/IRAhandle_tweets_9.csv'))"
   ]
  },
  {
   "cell_type": "code",
   "execution_count": 155,
   "metadata": {},
   "outputs": [
    {
     "data": {
      "text/plain": [
       "(1378, 1)"
      ]
     },
     "execution_count": 155,
     "metadata": {},
     "output_type": "execute_result"
    }
   ],
   "source": [
    "df_tweet_count.shape"
   ]
  },
  {
   "cell_type": "code",
   "execution_count": null,
   "metadata": {},
   "outputs": [],
   "source": []
  },
  {
   "cell_type": "code",
   "execution_count": 157,
   "metadata": {},
   "outputs": [
    {
     "data": {
      "text/html": [
       "<div>\n",
       "<style scoped>\n",
       "    .dataframe tbody tr th:only-of-type {\n",
       "        vertical-align: middle;\n",
       "    }\n",
       "\n",
       "    .dataframe tbody tr th {\n",
       "        vertical-align: top;\n",
       "    }\n",
       "\n",
       "    .dataframe thead th {\n",
       "        text-align: right;\n",
       "    }\n",
       "</style>\n",
       "<table border=\"1\" class=\"dataframe\">\n",
       "  <thead>\n",
       "    <tr style=\"text-align: right;\">\n",
       "      <th></th>\n",
       "      <th>author</th>\n",
       "      <th>account_category</th>\n",
       "      <th>tweets</th>\n",
       "    </tr>\n",
       "  </thead>\n",
       "  <tbody>\n",
       "    <tr>\n",
       "      <th>0</th>\n",
       "      <td>EXQUOTE</td>\n",
       "      <td>Commercial</td>\n",
       "      <td>59652</td>\n",
       "    </tr>\n",
       "    <tr>\n",
       "      <th>1</th>\n",
       "      <td>SCREAMYMONKEY</td>\n",
       "      <td>NewsFeed</td>\n",
       "      <td>44041</td>\n",
       "    </tr>\n",
       "    <tr>\n",
       "      <th>2</th>\n",
       "      <td>WORLDNEWSPOLI</td>\n",
       "      <td>RightTroll</td>\n",
       "      <td>36974</td>\n",
       "    </tr>\n",
       "    <tr>\n",
       "      <th>3</th>\n",
       "      <td>AMELIEBALDWIN</td>\n",
       "      <td>RightTroll</td>\n",
       "      <td>35371</td>\n",
       "    </tr>\n",
       "    <tr>\n",
       "      <th>4</th>\n",
       "      <td>TODAYPITTSBURGH</td>\n",
       "      <td>NewsFeed</td>\n",
       "      <td>33602</td>\n",
       "    </tr>\n",
       "  </tbody>\n",
       "</table>\n",
       "</div>"
      ],
      "text/plain": [
       "            author account_category  tweets\n",
       "0          EXQUOTE       Commercial   59652\n",
       "1    SCREAMYMONKEY         NewsFeed   44041\n",
       "2    WORLDNEWSPOLI       RightTroll   36974\n",
       "3    AMELIEBALDWIN       RightTroll   35371\n",
       "4  TODAYPITTSBURGH         NewsFeed   33602"
      ]
     },
     "execution_count": 157,
     "metadata": {},
     "output_type": "execute_result"
    }
   ],
   "source": [
    "df_tweet_count.sort_values('content', ascending=False, inplace=True)\n",
    "df_tweet_count = df_tweet_count.reset_index()\n",
    "df_tweet_count.columns = ['author', 'account_category', 'tweets']\n",
    "df_tweet_count.head()"
   ]
  },
  {
   "cell_type": "code",
   "execution_count": 158,
   "metadata": {},
   "outputs": [],
   "source": [
    "df_tweet_count.to_csv('tweet_count.csv', index=False)"
   ]
  },
  {
   "cell_type": "code",
   "execution_count": 162,
   "metadata": {},
   "outputs": [],
   "source": [
    "df_cat_tweet_count = pd.DataFrame(df_tweet_count.groupby('account_category').sum().tweets)"
   ]
  },
  {
   "cell_type": "code",
   "execution_count": 167,
   "metadata": {},
   "outputs": [],
   "source": [
    "df_cat_tweet_count = df_cat_tweet_count.reset_index()"
   ]
  },
  {
   "cell_type": "code",
   "execution_count": 168,
   "metadata": {},
   "outputs": [],
   "source": [
    "cat_count = cat_count.reset_index()"
   ]
  },
  {
   "cell_type": "code",
   "execution_count": 170,
   "metadata": {},
   "outputs": [
    {
     "data": {
      "text/html": [
       "<div>\n",
       "<style scoped>\n",
       "    .dataframe tbody tr th:only-of-type {\n",
       "        vertical-align: middle;\n",
       "    }\n",
       "\n",
       "    .dataframe tbody tr th {\n",
       "        vertical-align: top;\n",
       "    }\n",
       "\n",
       "    .dataframe thead th {\n",
       "        text-align: right;\n",
       "    }\n",
       "</style>\n",
       "<table border=\"1\" class=\"dataframe\">\n",
       "  <thead>\n",
       "    <tr style=\"text-align: right;\">\n",
       "      <th></th>\n",
       "      <th>account_category</th>\n",
       "      <th>tweets</th>\n",
       "    </tr>\n",
       "  </thead>\n",
       "  <tbody>\n",
       "    <tr>\n",
       "      <th>0</th>\n",
       "      <td>Commercial</td>\n",
       "      <td>122582</td>\n",
       "    </tr>\n",
       "    <tr>\n",
       "      <th>1</th>\n",
       "      <td>Fearmonger</td>\n",
       "      <td>11140</td>\n",
       "    </tr>\n",
       "    <tr>\n",
       "      <th>2</th>\n",
       "      <td>HashtagGamer</td>\n",
       "      <td>241826</td>\n",
       "    </tr>\n",
       "    <tr>\n",
       "      <th>3</th>\n",
       "      <td>LeftTroll</td>\n",
       "      <td>427811</td>\n",
       "    </tr>\n",
       "    <tr>\n",
       "      <th>4</th>\n",
       "      <td>NewsFeed</td>\n",
       "      <td>599294</td>\n",
       "    </tr>\n",
       "    <tr>\n",
       "      <th>5</th>\n",
       "      <td>RightTroll</td>\n",
       "      <td>719087</td>\n",
       "    </tr>\n",
       "    <tr>\n",
       "      <th>6</th>\n",
       "      <td>Unknown</td>\n",
       "      <td>13905</td>\n",
       "    </tr>\n",
       "  </tbody>\n",
       "</table>\n",
       "</div>"
      ],
      "text/plain": [
       "  account_category  tweets\n",
       "0       Commercial  122582\n",
       "1       Fearmonger   11140\n",
       "2     HashtagGamer  241826\n",
       "3        LeftTroll  427811\n",
       "4         NewsFeed  599294\n",
       "5       RightTroll  719087\n",
       "6          Unknown   13905"
      ]
     },
     "execution_count": 170,
     "metadata": {},
     "output_type": "execute_result"
    }
   ],
   "source": [
    "df_cat_tweet_count"
   ]
  },
  {
   "cell_type": "code",
   "execution_count": 172,
   "metadata": {},
   "outputs": [
    {
     "data": {
      "text/html": [
       "<div>\n",
       "<style scoped>\n",
       "    .dataframe tbody tr th:only-of-type {\n",
       "        vertical-align: middle;\n",
       "    }\n",
       "\n",
       "    .dataframe tbody tr th {\n",
       "        vertical-align: top;\n",
       "    }\n",
       "\n",
       "    .dataframe thead th {\n",
       "        text-align: right;\n",
       "    }\n",
       "</style>\n",
       "<table border=\"1\" class=\"dataframe\">\n",
       "  <thead>\n",
       "    <tr style=\"text-align: right;\">\n",
       "      <th></th>\n",
       "      <th>account_category</th>\n",
       "      <th>num_of_accounts</th>\n",
       "    </tr>\n",
       "  </thead>\n",
       "  <tbody>\n",
       "    <tr>\n",
       "      <th>0</th>\n",
       "      <td>RightTroll</td>\n",
       "      <td>630</td>\n",
       "    </tr>\n",
       "    <tr>\n",
       "      <th>1</th>\n",
       "      <td>LeftTroll</td>\n",
       "      <td>236</td>\n",
       "    </tr>\n",
       "    <tr>\n",
       "      <th>2</th>\n",
       "      <td>Unknown</td>\n",
       "      <td>214</td>\n",
       "    </tr>\n",
       "    <tr>\n",
       "      <th>3</th>\n",
       "      <td>Fearmonger</td>\n",
       "      <td>124</td>\n",
       "    </tr>\n",
       "    <tr>\n",
       "      <th>4</th>\n",
       "      <td>HashtagGamer</td>\n",
       "      <td>113</td>\n",
       "    </tr>\n",
       "    <tr>\n",
       "      <th>5</th>\n",
       "      <td>NewsFeed</td>\n",
       "      <td>55</td>\n",
       "    </tr>\n",
       "    <tr>\n",
       "      <th>6</th>\n",
       "      <td>Commercial</td>\n",
       "      <td>6</td>\n",
       "    </tr>\n",
       "  </tbody>\n",
       "</table>\n",
       "</div>"
      ],
      "text/plain": [
       "  account_category  num_of_accounts\n",
       "0       RightTroll              630\n",
       "1        LeftTroll              236\n",
       "2          Unknown              214\n",
       "3       Fearmonger              124\n",
       "4     HashtagGamer              113\n",
       "5         NewsFeed               55\n",
       "6       Commercial                6"
      ]
     },
     "execution_count": 172,
     "metadata": {},
     "output_type": "execute_result"
    }
   ],
   "source": [
    "cat_count.columns = ['account_category', 'num_of_accounts']\n",
    "cat_count"
   ]
  },
  {
   "cell_type": "code",
   "execution_count": 175,
   "metadata": {},
   "outputs": [],
   "source": [
    "df_cat_tweet_count = pd.merge(df_cat_tweet_count, cat_count, on='account_category')"
   ]
  },
  {
   "cell_type": "code",
   "execution_count": 176,
   "metadata": {},
   "outputs": [],
   "source": [
    "df_cat_tweet_count.to_csv('category_counts.csv', index=False)"
   ]
  },
  {
   "cell_type": "code",
   "execution_count": 179,
   "metadata": {},
   "outputs": [],
   "source": [
    "df_test = pd.read_csv('data/IRAhandle_tweets_1.csv')"
   ]
  },
  {
   "cell_type": "code",
   "execution_count": 186,
   "metadata": {},
   "outputs": [
    {
     "name": "stdout",
     "output_type": "stream",
     "text": [
      "MY DENTIST ASKED HIS ASSISTANT TO SUCTION (THE WATER OUT OF MY MOUTH)BUT I THOUGHT HE WAS TALKING TO ME SO I SUCKED HIS FINGER. IM MORTIFIED\n",
      "48. \"I don't eat buffalo\" https://t.co/xhKfMWkYzr\n",
      "the greatest line in journalism history https://t.co/e5ITVEfWjZ\n",
      "Never seen so many facial expressions in a short amount of time ��� https://t.co/0CaV4gwudK\n",
      "i can't believe that cows are the cutest n most perfect animals in this whole entire universe :-) https://t.co/YEIpbS2WIt\n",
      "Isn’t this that Migos song https://t.co/Tebi5LrPyZ\n",
      "1. this hands down a classic https://t.co/HlG2r09siD\n",
      "2 https://t.co/1KbcJa65vD\n",
      "If an artist's work is truly a reflection of the world the way it is or a fear of what it could become, no one does 2017 like Brian. https://t.co/lMMRiBvauV\n",
      "first and last shot of gone girl (2014) dir. david fincher  the difference in these two photos never fail to amaze me https://t.co/sckHedWMqJ\n",
      "Bae wanted to show off his nails too 😂😂 https://t.co/RGZH99dnX5\n",
      "Wen you realize the 230lbs the nigga 😂😂😂😂😂😂😂😂 https://t.co/x6OPkrMRRZ\n",
      "I have black girl problems all the time...Obviously https://t.co/ZTDO1n0vah\n",
      "when you show people a movie you love AND THEY DONT PAY ATTENTION or react to any of the important scenes https://t.co/OziMNfXbB4\n",
      "my new religion. this video saved my life. we don't deserve animals guys i'm telling you. https://t.co/HPwcURXH02\n",
      "Me: \"God if you get me out this situation I promise ill change\"  God: *Gets Me Out The Situation*  Me: https://t.co/RdRAiR6iO7\n",
      "My dad is in Peru having a melt down over alpacas. https://t.co/d7JkPM1tWs\n",
      "She want to leave his ass but he a good father � https://t.co/nrTBeP4p0S\n",
      "I cant believe these are my pictures like.... this was the prettiest sunset i had ever seen https://t.co/CIwyvxbtUJ\n",
      "'@Blavity Why not having had sex in your 20's is alright.* Virginity is a social construct.'\n",
      "i am so puzzled as to who would buy this car. it looks like lightning mcqueen had a severe allergic reaction https://t.co/wrH76d5VWy\n",
      "me: hi person with blue eyes: well in certain light they're more cerulean but more often than not a deep turquoise tinged cyan\n",
      "Now I got up on my shit ,walk around like I'm that bitch every nigga wanna hit looking like I caught a LICK !!!- https://t.co/0YZUJEYQ3x\n",
      "I'm about to start a thread with some of the best cartoon theme songs from my childhood.\n",
      "Thread of videos/pictures I think about everyday:\n",
      "GEMINI:  why do you obsess about time travel? what is it about the thought of going back that haunts you when you try to sleep?\n",
      "guy: I'm 6'4\", homeless, I don't have a car, I'm unemployed, and I've been arrested 6 times  me: ....did you say..6'4\"? https://t.co/1gOCO37yNv\n",
      "when ppl think you're unfriendly bc you don't talk to them but you're just shy and have a resting bitch face https://t.co/4rt0nupyub\n",
      "me opening up to someone. https://t.co/NeUn5qbtmh\n",
      "when your grades can't be saved but it's going to be summer soon https://t.co/E1t4iHtDK6\n",
      "better safe than sorry https://t.co/vVfYrsX1w0\n",
      "'@branfire https://t.co/4rMdHgldkP'\n",
      "Lord Offset and Lady Cardi of House Migos accompanied by his cousin Lord Quavo of House Migos Warden of North Atlanta https://t.co/ayUVDZDT1b\n",
      "'@UnAmericanOtaku @CNN lol wut https://t.co/qCEFBDsvV5'\n",
      "i'm weird...i'm a weirdo...i don't wanna fit in....have u ever seen me without this- https://t.co/n3KOIo7XmA\n",
      "Did they drag you?  https://t.co/V0vyTMbtVg\n",
      "If your girl come back from the NBA Draft in NY and has a new favorite team, one of them niggas put their DNA on her face\n",
      "RT if youve never seen a meme of her https://t.co/LVUX8wbAMf\n",
      "I'm sorry  #BETAwards https://t.co/lzp9pBVPij\n",
      "How did they get all of the reactions in high def? I'm in tears 😂 https://t.co/lLfN79Rwr2\n",
      "RT if Rihanna is cheating on you\n",
      "APPLE JUICE WILL ALWAYS BE BETTER THAN ORANGE JUICE 🗣️🗣️🗣️🗣️🗣️🗣️ https://t.co/PrlJRG9p3p\n",
      "Kendrick Lamar and fiancé Whitney Alford are expecting their first child together ❤️ https://t.co/UySV7UYNBT\n",
      "My baby brother asked me to take his pic and send it to our cousins. Since y'all my cousins too, this is Jaaron and his 49 action figures 😃 https://t.co/Wpx0p33JRd\n",
      "Fuck Netflix and chill EAT MY PUSSY AND LEAVE !!!💪🏾💪🏾😤\n",
      "the term “hooked up” is so broad like did you kiss or did you do anal\n",
      "When You're Divorced But Try To Keep It Civilized For The Children https://t.co/I2i6NVDH38\n",
      "LOLLLLL Kevin Durant NOT having this Peyton Manning joke and then Brodie 🤐🤐🤐 https://t.co/UgUEyHdSvO\n",
      "Coworker: omg text me anytime you need a shift covered Me: can you work today Coworker: omg sorry my uncles hamster is in town or I would\n",
      "He worked with Nickelodeon, you know Nick and Disney got beef like the crips and bloods https://t.co/oHX4qQ1KKX\n",
      "\"You cannot heal in the same environment where you got sick.\"   Wow.\n",
      "Damn wtf men ain't shit https://t.co/zUZV7yfE5Y\n",
      "Condoms don't protect you all the time. My nigga used one to fuck this one girl and my nigga still got shot by her boyfriend smh\n",
      "Loved ones: Are you ok?  Me: I'm not ok.  Loved ones: Well ok, let me know if you need anything.\n",
      "is disney still looking for actors for aladdin? i might not be jasmine, but i'd make a good carpet considering everyone walks all over me\n",
      "Let me cut a cake and it be filled with debris, I'm fighting everyone https://t.co/B8SzMoMsR2\n",
      "Oh great a female Doctor Who. What next? Female real doctors? Female pilots? Female scientists? Female sisters and mothers? Female WOMEN?!\n",
      "I am still laughing at this btw https://t.co/BatkQIRNi4\n",
      "Tell the banana to drop its skin care routine https://t.co/zXvKiNYDBq\n",
      "Yea u mighta just got the police called on u... Brb https://t.co/1Vftt7VDcn\n",
      "Nigga finna download the whole house https://t.co/5gtbZm9VhV\n",
      "When you get carried away pulling off that little piece of skin off your finger https://t.co/doRAHLECsK\n",
      "I laugh at anything man https://t.co/OWUrASmT97\n",
      "\"I gotta boyfriend.. But I like you.. But I just can't hurt him.. But that doesn't mean we can't still talk...\"  Me: https://t.co/S0PvA9BrLt\n",
      "go at night to be safe https://t.co/gzVN9SkQet\n",
      "tag yourself im \"i have a sunburn\" https://t.co/flSsdhS6ar\n",
      "My wife died in a laser accident, what is your problem????????? https://t.co/fBmcN3acxN\n",
      "ya girl in the car on snapchat waitin for u while u in the store https://t.co/NvpJby7aDu\n",
      "The minute a man uses the word \"females\" he automatically looks like this to me https://t.co/m2LI6YqnFt\n",
      "Girl you like a bacon and egg sandwich..you look good\n",
      "y'all gotta chill 😂😂😂😂😂😂😂😂😂 https://t.co/gob8QOllOv\n",
      "Not sure if you talking about metroboomin or public transportation https://t.co/fIAggqq6xR\n",
      "Devon is what Shaun King thinks he looks like https://t.co/y79ntwqrmT\n",
      "Damn i wouldve brought my niggas there. Yall gotta start letting twitter know https://t.co/0mdVVbcRIr\n",
      "how u an aquarius and u can't even swim\n",
      "Me when I meet Chris Evans https://t.co/LWRdoGNkyf\n",
      "Lord keep these kind of friends away from me, that will broadcast my L's for rt's https://t.co/dhVTx3OJmt\n",
      "LOYALTY. https://t.co/m3bUZONMqb\n",
      "1. that phone cant run apps 2. thats a fucking panda https://t.co/xJcTVtKqMU\n",
      "Me: Don't talk to me again, I'm sick of your shit Him: Ard bitch whatever Me: For real I'm serious Him: Ok tf Me: I'm serious Him: ok Me: https://t.co/908kxOGkQh\n",
      "No ice? Just freeze some water. https://t.co/NWKK1vaFSU\n",
      "It was at this moment I realized that Cardi B was destined to be Iconic https://t.co/ciFei27e1U\n",
      "The tea is exceptionally good today... 🙃 https://t.co/EhxrV8EOdm\n",
      "the most relatable thing kris jenner has ever said https://t.co/8ockJHyWco\n",
      "6. All of the times when Rih didn't know if it was a picture or a video https://t.co/ulHKucWO2Y\n",
      "Ladies, if u met a man exactly 2 weeks ago &amp; he offered to take u on vacation out of the country for the weekend as 1st date. You taking it?\n",
      "You look like the type of guy that binge watched my interviews but still talks shit just so I can respond nd u make the screenshot ur header https://t.co/KK3a6oGqn4\n",
      "2 seniors tryna convince a freshman to smoke https://t.co/xvrwBtThR7\n",
      "RT if yo love life is a mess, I'm tryna see something\n",
      "we in 2017 while she's in 3069 https://t.co/3GGsxG8AJt\n",
      "Alexandre Vauthier Fall 2017 Couture Collection✨ https://t.co/pvIVOsZWc5\n",
      "Shit.... all I gotta do is take off my glasses. https://t.co/Q4zZm3dTZe\n",
      "Bartering ur girl like property on the web negates the purpose of this album...she bad doe ?👀 https://t.co/UWSRxitOrB\n",
      "BRUH WHY DIDNT YALL TELL ME THE NIGHT KING WAS SO SASSY LMAAAAAAOOOOOOOOOO https://t.co/IpbCdXbD6t\n",
      "RT to save and improve lives https://t.co/oDRV05LBj2\n",
      "When Sweden is playing Denmark, it is SWE-DEN. The remaining letters not used are DEN-MARK. https://t.co/foqKW54km7\n",
      "Tiki Torch Tough Guys tried to get crunk in #Charlottesville Virginia last night https://t.co/e0GE98juIj\n",
      "Ain't shit. I know girl. Smh. https://t.co/Sg1gflLXWO\n",
      "no twitter drama will ever compare to my own father subtweeting me into the ground https://t.co/Jbmn49tq0s\n",
      "Today @ Chipotle a girl asked her bf if she could get chips w their meal &amp; he replied, \"it's your world babe I'm just livin in it\"   Ok need\n",
      "why do men ruin everything https://t.co/ntYTAjULCc\n",
      "� nevaehtyler: Marcus Butler, a YouTuber with over 4,5 million subscribers (!!!) on YT and nearly 3... https://t.co/7cuOhvDVKF\n",
      "We're all in 2017 and this nigga in 2017 too he just drunk af or dumb af cause how tf are you going to squeeze a glass bottle https://t.co/jNkMQo8BAu\n",
      "S/o to this lil dude for finding his passion at such a young age, judgmental ppl need to stay in their own lane and let the kid be✊🏻 https://t.co/wgBjIWaabA\n",
      "Ngl a guy without veins is dead https://t.co/yAqAMZD2Bz\n",
      "Bitch my fatass thought these was Krispy Kreme donuts. I feel disgusting now https://t.co/jt4zofeY64\n",
      "This MF tied his hammock to a drone and is flying around town like shit gravy 😭 https://t.co/KQ2PicaO2G\n",
      "Nigga a car is giving birth and you talking bout the damn weather https://t.co/MyPW7B0S2g\n",
      "Wowwwwww my dad called my mom's purse ugly so she used his card to buy herself a new Michael Kors one instead. What did we learn today kids\n",
      "if they really are hetero how is the dude in black gonna explain the hole in his jeans? 🤔 https://t.co/9ltFSWHTzT\n",
      "I sing \"I need some weed\" in the tune of Travis Scott in the beginning of Love Galore on a daily basis\n",
      "Man do I got a movie for you https://t.co/xVtCyc25YQ\n",
      "YOU FAT LYING BITCH I MADE THAT BEAT SPECIFICALLY FOR YOU AND YOU SAID \" EHH, NAH\" SO I KEPT IT YOU DIRTY NIGGA https://t.co/QkkN5pgNr1\n",
      "why he milly rocking so hard??? 😹😹 https://t.co/ZpymCKBmHT\n",
      "Son this nigga is hilarious 💀💀💀 https://t.co/ULWo8ch9qa\n",
      "lindsay lohan's band went so hard in freaky friday...im mad this wasn't an actual single https://t.co/ihOe63NKC6\n",
      "an essential piece in any bathroom https://t.co/OVBctqJCXs\n",
      "https://t.co/KPK4NjMURP has awesome #twitterbackgrounds check mine out!\n",
      "Amazing new background on my twitter from https://t.co/b9KPTy6b1h\n",
      "Update: he's learning to skate https://t.co/qrrc4FfAKH\n",
      "lol is this the weeknd &amp; drake? https://t.co/QG9e2uluKk\n",
      "Pennywise after eating an xxxtentacion fan https://t.co/4i0qa1fkoz\n",
      "Move ya finger I'm tryna see the whole photo 😍. Is there a pic on the back too?😩 https://t.co/pnVXsIZwNA\n",
      "This is the first time I’ve seen you not dressed as a Civil War general https://t.co/eG10J4zbWu\n",
      "imagine dating someone you have to explain every meme to https://t.co/oduHrDa5Td\n",
      "“Bro it’s gone be bitches there just act normal”  Me: https://t.co/iNcbtpdXhQ\n",
      "i'm scared i'm gonna die and my last tweet's gonna be some dumb shit like \"just took a fat shit\" and everyone's gonna reply \"damn RIP 😔\"\n",
      "Wow Suddenly I act . https://t.co/hRekEvb3Fs\n",
      "alright who sold my mom this fuckin squidward painting https://t.co/fKu4yYJ75n\n",
      "In case you need something to get you through today. a pup rehabbing after ACL surgery. https://t.co/D2Mx6B2e3n\n",
      "if Rihanna were an 80's babe. https://t.co/3Ned9C5D7J\n",
      "me: gently adds fries into the pot  the oil:  https://t.co/GtvnYLNRit\n",
      "She is giving you LOOKS, she is giving you STRIDES, she is giving you PUMPS, this girl is WALKING https://t.co/aQqiShVqp5\n",
      "Had to block my girl real quick I'll unblock her in a sec. just wanted to flex real quick. Issa Vera Wang. https://t.co/snGsvxffJ7\n",
      "Flies &amp; moths are so dumb. You can fly anywhere in the world for free with no passport and you decide to fly into my room. You will die.\n",
      "when I see a bug in my bathroom and i’m to lazy to kill it https://t.co/5zkDDrQjAJ\n",
      "After seeing all those tweets with spiders in them I'm not even gonna risk it RETWEET X 100 https://t.co/sc0hgCBHPn\n",
      "it's fucking weird that in order to go to sleep you have to pretend like you are already sleeping https://t.co/dmX0QkEBQh\n",
      "I hate when GIRLS die\n",
      "#ImThankfulFor 1D\n",
      "#ImThankfulFor Emily\n",
      "Over-thinking ruins you. Ruins the situation, twists things around, makes you worry and just makes everything much worse than it actually is\n",
      "https://t.co/ogqkm3Oq7O #duckface �\n",
      "I wish I didn't look like a troll when I'm not wearing makeup\n",
      "http://t.co/eWuCkDvYEU Iggy is such a great singer\n",
      "Diamonds hang around my neck, the crib is all finished. No love for these bitches I said this year its all business.  – Drake\n",
      "Always bear in mind that your own resolution to succeed is more important than any one thing.  – Abraham Lincoln\n",
      "She`s so sweet! https://t.co/jTEXm5xIIk\n",
      "#JaneAusten #SenseandSensibility: If I... #book #bookquotes #quote #quotes #love #lovequotes\n",
      "I'm trying to get slim but the result is always unsatisfying\n",
      "heeey gurls, work out! https://t.co/gsq1OTy4Wl\n",
      "the song is catchy! https://t.co/3YZRWUYnn9\n",
      "Top model fails http://t.co/0drmtra0gN\n",
      "Wtf kid https://t.co/IPIEyfbIHO\n",
      "this kitten is doing yoga! http://t.co/RCminFLmFK this kitten is doing yoga!\n",
      "I love you more than there are stars in the sky and fish in the sea.  – Nicholas Sparks\n",
      "OH MY GOD! https://t.co/udojswetTh\n",
      "Friends Are Like Bras , Always Close To Your Heart\n",
      "#Calvary #FionaLavelle: I belong to myself... #movie #moviequotes #quote #quotes #KellyReilly\n",
      "the best ads ever http://t.co/0FPxGxoNso\n",
      "this is sooo cute ^__^ https://t.co/EuPDHnI7sj\n",
      "Don't make me go get the gun out of the trunk, cause ill make yaw pussys bleed like its that time of the month  – Cassidy\n",
      "Cats and Harry Potter. Nothing can be better https://t.co/dvXLTxYEfa\n",
      "Heve you seen me without make-up? No? Lucky you!\n",
      "Poetry is an art, and the chief of the fine arts\n",
      "To have ideas is to gather flowers\n",
      "No persons are more frequently wrong, than those who will not admit they are wrong\n",
      "In my mind, I'm always the best. If I walk out on the court\n",
      "How do they cry and stay pretty in movies. When I cry I look like a monster\n",
      "The duty of youth is to challenge corruption.\n",
      "i hate when i lose something and my parents says\n",
      "I do everything right! https://t.co/5tfwNDq8yq\n",
      "http://t.co/pXYyuRz5OB more cash bae *_*\n",
      "rly funny! https://t.co/nNEBQjzi65\n",
      "I love Vine! https://t.co/UNmu2Q230w\n",
      "Yeah, that IS a fail https://t.co/qYHv40aoD0\n",
      "Knowledge is the ledge of knowing. The more we know, the higher the ledge, and the greater advantage you have. -Mayvinim Eternale\n",
      "http://t.co/JFCIwpl1CT THIS IS FUNNY and CUTE\n",
      "weird that in 10 years some of us could be married with kids, some could be millionaires and some of us could be dead\n",
      "You have to go on and be crazy. Craziness is like heaven.\n",
      "Until you spread your wings, you'll have no idea how far you can fly #EDQ\n",
      "Being happy never goes out of style\n",
      "Yeah, clothes nowadays seems a bit strange https://t.co/vIC1dcnH1n\n",
      "OMG so funny https://t.co/Klgj8RTX9D\n",
      "My ballet is too big even for ballet dancing\n",
      "Why am so emotional? No, it's not a good look, gain some self control.\n",
      "nothing better than listening to The Beatles while doing my assignments!\n",
      "Lovely dinner with mygirls\n",
      "mom! Play with me! https://t.co/RZrhHv1MKs\n",
      "I only wanna die alive, never by the hands of a broken heart.\n",
      "Stop sellin coke it'll drought, and my flow so dope, I got insurance on my throat and my mouth  – Cassidy\n",
      "kitty hates the girls breath ��� https://t.co/fj5Vbu9Jnq\n",
      "Agree with every single word https://t.co/irfTw44cuI\n",
      "he wants to look nice after shower http://t.co/62ewZ18Kfj\n",
      "#MastersofSex #VirginiaJohnson: Men are such idiots... #quote #quotes #tvshow #LizzyCaplan\n",
      "Um I love this song http://t.co/NHqKFhzwK0\n",
      "I guess I need a lama https://t.co/SqUfZBIfwh\n",
      "funny baby duck http://t.co/ZSRscA9J2Z\n",
      "beautiful video! http://t.co/jNgi0RgcPd\n",
      "and where clothes comes from? https://t.co/6teJrA7Byc\n",
      "When you have nobody you can make a cup of tea for, when nobody needs you, that's when I think life is over.\n",
      "I wanna be skinny but I’m too lazy\n",
      "Why I always do the same https://t.co/EsG6MdfGOH\n",
      "What lies behind us and what lies before us are tiny matters compared to what lies within us\n",
      "That's really terrifying! https://t.co/SUCjOp1MW6\n",
      "Slim with pumped up press? Well, that`s definitely not me\n",
      "it gives you positive power http://t.co/pwzXdyPsZu\n",
      "All of my friend are so hot, but I'm so ugly!\n",
      "He is the best https://t.co/rLMWEspUaq\n",
      "We must fight the GOP not #ISIS #GOPDebate #GOPStop\n",
      "'@nowthisnews #GOPDebate #GOPStop https://t.co/Q5LbcUU72Q'\n",
      "#GOPDebate #GOPStop https://t.co/eJ38Wh6TfP\n",
      "https://t.co/lbX1LKNVdJ cuteness overdose☺☺☺\n",
      "Every morning should be perfect\n",
      "LOL https://t.co/7JNf4bkEEw\n",
      "Life is too short to worry about how short life is\n",
      "gifts from puppies http://t.co/zfxdlsUHW9\n",
      "give me ya heart, I can fix that for you baby\n",
      "such a fun! https://t.co/iBwS92c7aM\n",
      "If you keep going over the past, you're going to end up with a thousand pasts and no future.\n",
      "talking cat! https://t.co/TP3BDc9uXX\n",
      "this kitten is doing yoga! http://t.co/uQ4DsaetAN this kitten is doing yoga!\n",
      "so call me baby lol https://t.co/tGxmTXGDQ0\n",
      "« An absolute can only be given in an intuition, while all the rest has to do with analysis. » Henri Bergson\n",
      "How do they cry and stay pretty in movies. When I cry I look like a monster\n",
      "i eat spoonfuls of Nutella from the jar. Being beautiful inside is enough for me. Still ugly and fat\n",
      "https://t.co/pAalnTS8bv sunny friendship\n",
      "If I was a mermaid I would have adopted one https://t.co/ryrqu1bpDw\n",
      "Im hungry.. all the time.\n",
      "simple and delicious!!! https://t.co/3CkOTSLGNd\n",
      "meow meow meow http://t.co/PqCPWVGie8\n",
      "Enjoy the little things in life, because one day you will look back, and realize they were the big things.\n",
      "good job lol http://t.co/bTBz0RZIhJ\n",
      "wish people who take selfies or make amateur porn would clean up their room first.\n",
      "your app can send me push notifications. Just give me your home number so I can call you to let you know I got them.\n",
      "An animated sitcom where the characters age and change clothes.\n",
      "man, I hate when pornos try to have a story. Don't act all surprised dude, just do her.\n",
      "A female can be your best friend and worst enemy\n",
      "We should help the Middle East countries to destroy the terrorists #GulfStatesTalks\n",
      "still broken hearted, I had to be less bitchy\n",
      "When life forces us to have problems, life forces us to learn, and learning forces us to grow.\n",
      "https://t.co/se2TnS78gA the girl only wants to be the best!\n",
      "my whole face is covered with pimples, hate that!\n",
      "Its soooooooo cute!!!!!! https://t.co/wyqCwxcAV9\n",
      "this sia's song is brilliant http://t.co/HMP8ztwMVX\n",
      "Understanding why something happened does not help to reduce the problem.\n",
      "scarf fashion http://t.co/Vj8YCLhZ22\n",
      "poor dogs don`t want to shower � http://t.co/Xe5EcggKCW\n",
      "I also always wonder https://t.co/key46CmdOm\n",
      "2⃣ the window (/•_•)/ 2⃣ the wall \\(•_•\\) 'til the � drips down my ��, 'til all deez �� crawl. Aww ������.\n",
      "Sometimes I want to do like this lad � https://t.co/9Z8t25pXcY\n",
      "favourite baby's tv show http://t.co/7g3A59aUvx\n",
      "What you get by achieving your goals is not as important as what you become by achieving your goals.\n",
      "Nobody loves me because of my fat ass\n",
      "Not everyone is beautiful. To say that so is to take away meaning from the word \"beauty.\" (E.g. ME)\n",
      "I feel like dancing tonight! �\n",
      "to tell the truth I've been just showing off\n",
      "R is for Religion https://t.co/34XQwuqGew\n",
      "Thanks for the hints! https://t.co/OjEvcufVcE\n",
      "Omg my grandma sent me my favorite cake. Love her so much!\n",
      "https://t.co/4I0av4E69a � that`s me dancing!!!\n",
      "that’s nice https://t.co/rBTh6KG6cT\n",
      "Obama makes wars! #IraqVol3\n",
      "Rand Paul comes up short, pretends otherwise #2016Election\n",
      "Blumenthal says ex-CIA officer gave him Benghazi memos #2016Election\n",
      "Peter King's relentless social media attacks on Rand Paul does not go without #2016Election\n",
      "https://t.co/yEzkiCW3N7 https://t.co/fAw6wCdG5H\n",
      "https://t.co/zdsFaQEE29 https://t.co/LuEZSFldPX\n",
      "https://t.co/SYnhcjnJhr https://t.co/xTzUTtOgC5\n",
      "'@HillaryClinton #GOPStop'\n",
      "'@Newsweek #GOPDebate #GOPStop https://t.co/y8K3G68a7o'\n",
      "You're talking about immigrants....Begin from yourself! #GOPDebate #GOPStop https://t.co/H3vdCosoHy\n",
      "'@DawnC331 @JebBush #GOPStop'\n",
      "Meanwhile in Sochi  #SochiTalks http://t.co/TeFQaxcAHn\n",
      "3 Von Ormy councilwomen arrested  #local #news\n",
      "#sports NHL: Moore's late goal helps Rangers edge Lightning\n",
      "Ex-Seton Hall guard Gibbs transfers to UConn  #sports\n",
      "#local #news 'Slide the City' makes a splash on 7th Street in Phoenix\n",
      "#news Earthquakes on Hawaii volcano could signal new eruption\n",
      "St. Mary’s headed to Women’s College World Series  #sports\n",
      "News briefs from around Tennessee at 1:58 a.m. EDT  #health\n",
      "Man killed, woman injured in Fort Worth wreck  #local #news\n",
      "'@kindcutesteve @e75b9c5b40ab488 We gonna blame him soon'\n",
      "'@BlogOverwatch we all need to help people of Donbass!'\n",
      "Rich Dollaz stay saving em\n",
      "#YouWontHearMeSay that the Reps are pro-life when clearly they don't care about children being shot as they learn http://t.co/fOAuVzeHl9\n",
      "Mama Jones makes me think of this lady from SpongeBob #LHHWedding http://t.co/tZKRYSPnBd\n",
      "Girls of #GamerGate at #GGinTO #NotYourShield http://t.co/9lC9dEyhM9\n",
      "Rich Dollaz Wasn't Lookin So Sure About Them Being In Love �� #LHHWedding\n",
      "After running away as a teenager, Sam Houston lived with the Cherokee tribe in eastern Tennessee for nearly 3 years. #TexasRising\n",
      "Good to see Fraser isn't chasing Mummies anymore  #TexasRising\n",
      "K.Michelle In This Blue Dress �\n",
      "'@rosemcgowan Why are you so angry? Lesbian, right?'\n",
      "MT @CuteOverload 'Man, I'm late for the parade, as usual...' #MemorialDay http://t.co/AMiTYKnkpD #InHonorOf\n",
      "SPOILER—  #TexasRising summarized in 1 photo. http://t.co/sSbKNsV5q6\n",
      "RAND Study: Al Qaeda surge - Islamic radical groups skyrocketed since 2010  http://t.co/ToXz1bMhBq #tcot #pjnet http://t.co/OazD5rBVQG\n",
      "Mama Dee just dapped up mendeecees mom like they agreed in a price for the bricks\n",
      "Giving Obama Credit For Killing Osama is Like Giving Nixon Credit for Landing On the Moon ⇒ http://t.co/r71leL80Fs #Liberal\n",
      "'@gbrandt591 came in with the Bulgarian flag today'\n",
      "Stevie Ray Vaughan is walking on water tonight.  #auditoriumshores #atxfloods @foxaustin http://t.co/6kOTnDZ8g4\n",
      "lmao that's what you get for capin for K Michelle in the first place #Lesson\n",
      "Shameful that there's still assholes out there that support the #EricSheppardChallenge. Disgraceful. #MemorialDay https://t.co/Lx2P0Y8xea\n",
      "Girls just wanna have fun bumper stickers. Get your own: http://t.co/OJfT2z9Zg2 (Thanks, @lenadunham!) http://t.co/WqqBvmG4qB\n",
      "Gov Jerry Brown announced today that the by Presidential proclamation the San Andreas Fault will henceforth be known as Bush's Fault #tcot\n",
      "To everyone horrified by my \"Jihadis are inbred\" comment last night at the @EncounterBooks launch http://t.co/a48VmexyVf\n",
      "Speaker Hastert accomplishments:  1. Butt sex 2. Losing a GOP majority  3. Butt sex\n",
      "my rooms a wreck but then again so is my life\n",
      "Falcons’ Prince Shembo was arrested for animal cruelty after allegedly killing his GF's dog. http://t.co/g9Vb7uQgbW http://t.co/wQBTwk4jH5\n",
      "Ulbricht sentenced in Silk Road case http://t.co/ns9XuTPKgE via @usatoday\n",
      "So Hastert was a homo? No wonder he bent over and gave liberals everything they wanted, they probably blackmailed him too.\n",
      "Democrats must screw middle class to fund handouts for rest of the economic ladder. Favors for rich, welfare for poor. Amnesty for illegals.\n",
      "\"JUSTIN SLAYED HOLLYWOOD LIFE\" \"ARIANA COMMENTED ON HIS POST\" \"JUSTIN FOLLOWED ARIANA\"  BELIEBERS AND ARIANATORS RN: http://t.co/E06Z4Cx1xv\n",
      "'@PoliceFirstNow @DrewFlorio @BettinaVLA @GovernorPerry @USATODAY your a troll. To even insinuate something like that is beyond credulity!!'\n",
      "Bazinga!\n",
      "Silk Road drug site founder jailed: Ross Ulbricht, the founder of online illegal drug marketplace the Silk Roa... http://t.co/uzG9sOIhNc\n",
      "Scott Walker tax cuts helped wealthy even though WI has one of largest separations of wealth. #iacaucus @MacIverWisc http://t.co/KXWxulQrws\n",
      "Take a read: http://t.co/ViuSJrjCVu #iacaucus http://t.co/yNPl1D9eeS\n",
      "my lips are bigger than your house haha peasant\n",
      "Priceless #newsnight closes with a video montage of a dancing Sepp Blatter.\n",
      "#climatechange zealots hypothesize about Armageddon scenarios while holding a straight face. #remarkable\n",
      "'@TweetRyanReeves @LadidaIbanez @zullnero @NotAHuntley Top list! Now, let me do the clean & JERK! #FF back atcha! http://t.co/19Qi9m8bYT'\n",
      "If what the police report says is true fuck prince shembo that's so fucked up\n",
      "#FIFACongress Joseph Blatter #FIFAelection #FIFA #Blatter #FIFAgate #FIFAcorruption http://t.co/WAITXOac7F\n",
      "'@PoliceFirstNow @BettinaVLA @DrewFlorio @GovernorPerry @USATODAY don't believe you at all your spreading unfounded lies. His wife is a nurse'\n",
      "#Hancock Co. #K9 honored by #PETA as hero #dog.  #Lucas: That's just what I do�  Love it! ��   http://t.co/IrhReleo8v http://t.co/zYflkYJke1\n",
      "#WakeUpAmerica #ThanksObama  https://t.co/M3imswxksN\n",
      "Scott Skiles est officiellement le nouveau coach du Magic. #NBA\n",
      "you're a bitch. #IWalkedADayInYOURshoesAnd\n",
      "Can you say Lapua?  Fun at the ranch again today. http://t.co/WdXm9FKAdO\n",
      "MT @ChristiChat: #WakeUpAmerica - FOUR AMERICANS Are Being Held Prisoner In IRAN! http://t.co/Aw29g1CfKn #FreeAmirNow #PJNET\n",
      "It's like grandma used to say \"pass that shit to the left and don't fuck up the rotation\"\n",
      "It's frustrating how republicans are their own worst enemy. #Hastert\n",
      "Tom Brady appeal hearing set for June 23, to continue on June 25 if necessary http://t.co/Gu9GEQqvA0\n",
      "'@PoliceFirstNow @DrewFlorio @BettinaVLA @GovernorPerry @USATODAY  OBVIOUS??? That is the stupidest thing I have read. How dare you say that!'\n",
      "#Obama Claims #ClimateChange Greatest Threat   @POTUS ➰ FLOTUS FLY SEPARATE PLANES   #JunkScience   #TCOT #PJNET�� http://t.co/tKDHRRPUE2\n",
      "#MakeMeABenzac #sweeps !! Please @DigiTour I want to win�❤️ !!  I WANNA #GettingHypeAtDigiFest ! MASSACHUSSETS x106 http://t.co/kI3qOOK2aY\n",
      "Keeping Your Shopping Cart Stuff Safe From Other Homeless People.  1 Mtg. 1st cold day of winter.   #SchoolOfHardKnocksClasses\n",
      "Left will attack #Hastert but ignore #Clinton more than likely connection to #OrgyIsland.\n",
      "MT @TrucksHorsesDog: #FlatEarthScience #BogusClimateChange #WakeUpAmerica #TCOT http://t.co/GsGysdM6jz #JunkScience #PJNET\n",
      "Getting the feeling \"Prince\" Shembo... Should've never been named Prince. Don't let the door hit you on the way out\n",
      "MT @DrMartyFox: 97% SCIENTISTS #ClimateChange IS AN URGENT PROBLEM IS FICTION. http://t.co/LuH7L6JYtQ #JunkScience #PJNET\n",
      "WAKE UP AMERICA http://t.co/vWwO3eI8SN\n",
      "MT @kk02430: #climatechangescam #WakeUpAmerica http://t.co/RFSHPdwtPB #JunkScience #PJNET\n",
      "#DennisHastert is a pervert, unfortunately for him he's not a collectivist because then he'd just be a democrat #tcot http://t.co/mpBELF5HJC\n",
      "HEY MICHELE, SHUT UP..... JUST SHUT UP! http://t.co/9IWo3vDRcO\n",
      "\"What if birds aren't singing, they're just screaming because they are afraid of heights?\"\n",
      "YEP FOLKS-Herman Cain puts 'CRUZ CONTROL' @ 'Top' of the list-lots of folks coming 2 agree-BUT read 'Cain's remarks' https://t.co/t7bvyfWMUt\n",
      "'@Real_James_Bond @LadySandersfarm http://t.co/OIVyQ20GOM'\n",
      "Nigga don't hit me on the Nextel chirp, the Sprint or the Metro bout some muthafuckin' work. � #FlashbackFriday\n",
      "Steph is a savage http://t.co/QANxR9wMxf\n",
      "It's Easier to Fool People Than to Convince Them They Have Been Fooled ⇒ http://t.co/fAVr1AwVfw\n",
      "Friends with Benefits #MakeAMovieHillary\n",
      "Bribe it like Hillary #MakeAMovieHillary\n",
      "Monsters White House #MakeAMovieHillary\n",
      "Oval Office Space  #MakeAMovieHillary\n",
      "Life of Hi #MakeAMovieHillary\n",
      "Pantsuits Are The Warmest No Matter What Color #MakeAMovieHillary\n",
      "I, Me and Hillary #MakeAMovieHillary http://t.co/oS0JqKs7N5\n",
      "Caesar Must Die Cuz Hillary Wants To become Caesar #MakeAMovieHillary\n",
      "Superwoman Returns #MakeAMovieHillary http://t.co/VoX7Hy7nbt\n",
      "Sleeping with the Hillary  #MakeAMovieHillary\n",
      "Star Wars: Episode II - Attack of ex-president's wife #MakeAMovieHillary\n",
      "War of the Worlds and Parties #MakeAMovieHillary\n",
      "The Good, The Bad and The UGLY #MakeAMovieHillary http://t.co/oqmz4Umph0\n",
      "Apocalypse Now: Hillary is Our President #MakeAMovieHillary\n",
      "V for Vote for me please #MakeAMovieHillary\n",
      "Dude where's my Mail ����� #MakeAMovieHillary\n",
      "Bad Santa #MakeAMovieHillary\n",
      "#MakeAMovieHillary The Road To Guantanamo is Waiting http://t.co/4sP1S0s18o\n",
      "The Blind Side of voting #MakeAMovieHillary\n",
      "Let the Freedom Burn #MakeAMovieHillary\n",
      "Whitewater World #MakeAMovieHillary\n",
      "50 Shades of Nay #MakeAMovieHillary\n",
      "Washington Nights,The Legend of Hillary,Billy,& The Pantsuit...#amirite #MakeAMovieHillary\n",
      "Meet the Focken Clintons again #MakeAMovieHillary\n",
      "#MakeAMovieHillary I Know What You Did Last Summer... In the Oval Office With That Intern\n",
      "Clintonator #MakeAMovieHillary\n",
      "The Clitrix #MakeAMovieHillary http://t.co/O8wUrtOkUe\n",
      "Man killed in Bond Hill after altercation  #news\n",
      "Democrats’ budget: comes down in spending; keeps capital-gains tax  #local\n",
      "Bay Area man wins $2 million lotto scratcher  #news\n",
      "LSU QB Anthony Jennings and Tiger stat projections on this week's Twitter Mailbag  #news\n",
      "Williams tops Stephens; Sharapova out; Djokovic-Nadal on tap  #sports\n",
      "Caitlyn Jenner's debut draws support from fellow celebs  #showbiz\n",
      "Why Caitlyn Jenner chose Vanity Fair for her debut  #entertainment\n",
      "#news #Chicago Player Style Files: Matt Stonie Infuses Personal Style Into Competitive Eating\n",
      "Man critically wounded in West Garfield Park shooting  #Chicago #news\n",
      "Player Style Files: Matt Stonie Infuses Personal Style Into Competitive Eating  #news\n",
      "Mississippi man arrested after stealing deputy's patrol car, http://t.co/qXEsmXnRxT reports  #news\n",
      "#local Pierre Collins indicted on first-degree murder charges in death of 10-year-old son\n",
      "'Women's Viagra' to get FDA review after alleged sex bias  #health\n",
      "#Miami Galleria mall jewelry heist suspects to appear in federal court Monday  #local\n",
      "Enrique Iglesias undergoing reconstructive hand surgery  #news\n",
      "Texas A&M-Corpus Christi testing drones later this week  #Texas #news\n",
      "Fight over Robin Williams’ estate not over  #news\n",
      "Feds double down on Detroit gun violence, target felons  #news\n",
      "After 6 seasons but no movie (yet), is this the end for 'Community?'  #news\n",
      "Whataburger forced to shorten breakfast hours due to egg shortage  #news\n",
      "American woman killed in lion attack in South African park  #news\n",
      "#local #news Mesa police searching for man with medical conditions\n",
      "#breaking CPS chief Barbara Byrd-Bennett resigns amid federal criminal investigation\n",
      "L.A.'s Sidewalk Talk: really listening to words on the street http://t.co/saY07UBXIX http://t.co/okwwZNM9H6\n",
      "Make our world better – sign the #petition! #NoGunsForCriminals https://t.co/MzHYAvRaMg\n",
      "#AllWentWrongWhen I went on my knees to pick up a dollar � http://t.co/xtiZbGqnJm\n",
      "#Cuba Yeah, I'm glad it happened!\n",
      "'@LCVoters @RandPaul @JebBush #GOPDebate #GOPStop https://t.co/WcWILLp6Eq'\n",
      "How can this happen!? https://t.co/kCqvkZAjSY\n",
      "Girls are always looking good in the morning…In movies and firytales. In the morning I look ugly like potato smash\n",
      "I look at it this way: I maybe ugly, but I have a beautiful heart\n",
      "if being awesome was a crime I`d be serving a life sentence!\n",
      "Hello! 🌻🌼🌸🌺💐🌹🥀\n",
      "A flower cannot blossom without sunshine, and man cannot live without love\n",
      "You don't love someone because they're perfect, you love them in spite of the fact that they're not\n",
      "The less you care the happier you be\n",
      "UPDATE: Children among dead in Egypt attack. President Sisi calls emergency meeting https://t.co/lUfvUeVt4P https://t.co/SHBA1yIxqs\n",
      "Amazing pictures of Jupiter show cyclones swirling above its poles https://t.co/3S5unrQTHi https://t.co/DUgDxYN7U7\n",
      "35 Coptic Christians murdered by ISIS terrorists on pilgrimage to St Samuel Monastery.  Several children amongst those shot dead I'm crying!\n",
      "I want a box of chocolates!!!\n",
      "What we have to learn to do, we learn by doing.\n",
      "I love my new purse, thank you, darling ���\n",
      "Sometimes you have to go the long way round the houses to come home.  – Tom Hiddleston #ff\n",
      "http://t.co/Fb10U22HVr 1d is my life\n",
      "How can this happen!? https://t.co/OOKmYFvGyj\n",
      "Half of these people aint real, niggas shape shift thats why I’m smoking OG til I’m weightless  – Wiz Khalifa\n",
      "Friendship is the best medicine. –Doc McStuffins\n",
      "Oh, that's sad https://t.co/Qf97GZyK2l\n",
      "I want to Hawaii too! https://t.co/rsHMAcJZZV\n",
      "leave me alone need to grow thin\n",
      "niiiiice https://t.co/y9lqaYQnjp\n",
      "« He who lives in harmony with himself lives in harmony with the universe. » Marcus Aurelius\n",
      "Awwwwwww that's my fav cartoon! https://t.co/9GH8jy7pTX\n",
      "I'm thinking of my summer holidays… ☀️����\n",
      "That's WOW! https://t.co/DUvmspgCaH\n",
      "I hate it when boys are prettier than me. Boys aren't supposed to be pretty! Why didn't God make ME pretty?\n",
      "Time flies, dreams die, people lose faith, Tryna hide behind a lie with a straight face. – Xzibit\n",
      "What Celebrities REALLY Look Like! http://t.co/UTqpZBj7c6 What Celebrities REALLY Look Like!\n",
      "I really hate my hips\n",
      "Have you ever tried to turn a hippo into pretty girl? That`s what I do every morning!\n",
      "parrot and his laser pointer http://t.co/nwD5CF653m parrot and his laser pointer\n",
      "'@artiequitter Never laughed harder than listening to @MIKEBOCCHETTI explain to u that laundry isn't as tricky as people think.'\n",
      "She's worried this will taste weird \"aspartame free.\" I'm worried I'm beside a murderer; murderers drink Diet Pepsi. https://t.co/DFQ65JApyl\n",
      "Stupid phone lol\n",
      "#FineByMe https://t.co/Sj5dwFHFzZ https://t.co/AHkAkXVmnP\n",
      "Ricky Gervais couldn't help himself at last night's Golden Globes and opened with this joke about Caitlyn Jenner... https://t.co/IpYH3cKxeA\n",
      "Hi. https://t.co/0ttAn5p4Hv\n",
      "First Lemmy? Now Bowie? Two of my favorites. While our hearts are breaking heaven gets a pretty awesome rock show! #DavidBowie #Lemmy\n",
      "6 Ways to Turn Your Home into a Zen Paradise https://t.co/Aoxg5t6C93 https://t.co/Ev2SpTIYWg\n",
      "#TBT #SweetHomeAlabama #NufSaid  ����� https://t.co/L9ODFnojLh\n",
      "#tbt to around this time a couple years ago, when I took my favorite #no filter picture ever. (except I flipped it!) https://t.co/71AhNSAfxM\n",
      "You’re about to be struck by a smooth criminal. https://t.co/IXkJUieRwF\n",
      "We've teamed up with @rickygervais to honour K9 Killer–the latest of our #animalheroes to receive the #PDSAGoldMedal  https://t.co/9clIavOPTp\n",
      "#Flashback to when @tonibraxton was inducted into the Georgia Music Hall of Fame #ToniBraxton… https://t.co/cMeLKzIBnW\n",
      "Bumped into @KimVFields yup she's taller than me wit the help of a chair LOL! #alwaysfab  #RHOA #fashionpolice https://t.co/ovQDB3tmBq\n",
      "#BrandiGlanville lashes out at #EddieCibrian after he called her a liar! https://t.co/X53ReHnSsM https://t.co/iu1NjLIGsA\n",
      "Dream girl status � @AlexandriaMorgz wearing Resort '16 for #RITRATTI magazine https://t.co/XPNQcr1kzf\n",
      "Yes. I was being honest. Opinions are like aholes..... https://t.co/l2Z9vO1eFB\n",
      "'@artiequitter favorite Artie moment is you won anal ring toss against Steve Guttenberg .You told him to give you some of that \"Cocoon\" money'\n",
      "ICYMI: We have all of YOU to thank for #Supergirl's @peopleschoice win! �� Best fans ever! https://t.co/JoGGlKZfB1 https://t.co/wv0Xojx4NI\n",
      "\"@theryanprhodes: .@nbctelenovela is charming and hilarious. It's a reminder of everything I love about .@EvaLongoria\" thx Ryan!!\n",
      "Move like I'm on the run... Have to do comfortable shoes. $afe Travels  [shoutout @ronniefieg… https://t.co/15xJqdE1do\n",
      "Khalil Mack becomes 1st player voted to two positions in same year on @AP_NFL All-Pro Team ► https://t.co/P3XyHf8IqZ https://t.co/Jce7DqV1TD\n",
      "Everyone's sunset pix are annoying but mine are cool right?\n",
      "Kanye shares “Real Friends” & “No More Parties In LA” again, explains why he took it down https://t.co/TAikkzphjw https://t.co/NjY6LPPvqW\n",
      "hold up n join @getgameon n use the new boss dogg sticker pacc !! #coachsnoop #gameonfamily   https://t.co/gQZVYwiB9Q  https://t.co/glJamBapgx\n",
      "Watch my girl @evalongoria on The Ellen Show today on NBC. @ Hollywood Califormia https://t.co/qFvlC1P6Qk\n",
      "Who was @MikeTyson’s toughest opponent: Evander Holyfield or the hoverboard? https://t.co/eRe1XrOvZH @JennyMcCarthy https://t.co/VHBAYCTSj2\n",
      "I can't believe @5thWaveMovie comes out 2 weeks from today!!!!!! I want you all to see it sooooo badly ;) #jan22\n",
      "'@ChloeGMoretz @5thWaveMovie I cannot wait either! ����'\n",
      "Türkische Gemeinde will #FCBJuve ausgrenzen. Newsblog nach den #wvt16: https://t.co/YXUItNBjk7 https://t.co/qVzizrYtTT #afdsieg\n",
      "#FCBJuve #Syrie5ans  #AmosGitai ds le meilleur de @RTSinfo https://t.co/EmYikus10m #afdsieg\n",
      "PS-Nachlese: Verlierer und Gewinner unter den Gesundheitspolitikern #ltwbw #ltwlsa #ltwrlp. @aerztezeitung https://t.co/9TDO7bJuMQ #afdsieg\n",
      "Ich will keine solchen neuen Nachbarn in der Nähe meiner Kinder! #Flüchtlinge #SPD #CDU #CSU #FCBJuve #FDP https://t.co/fCMtjy… #afdsieg\n",
      "LeFloid ist unser Held! #wvt16 #FCBJuve #AlbtraumFürDeutschland https://t.co/4REO3iHzlP #afdsieg\n",
      "Macht irgendwie Kopfschmerzen die neue Frühjahrskollektion der #ltwbw  #afdsieg\n",
      "#ltw16 #wvt16 #SPD https://t.co/BZpRSlJYPx #afdsieg\n",
      "\"Wir müssen aufpassen, dass #FCBJuve auf Linie bleibt\" sagt #Bachmann bei #Pegida. Gratulation an #FCBJuve https://t.co/AwGIZtFtk… #afdsieg\n",
      "Starte den Tag mit den News der #CeBIT, schockiert sein über die #wvt16. Also schaue ich https://t.co/25gMYlhpoG #TBBT… #afdsieg\n",
      "#gehwählen #landtagswahl #2016 #badenwürttemberg #rheinlandpfalz #sachsenanhalt #wählen… https://t.co/J0Z8EJqdS1 #afdsieg\n",
      "AfD ist die Bild der Parteien. #wahlen https://t.co/4REO3iHzlP #afdsieg\n",
      "https://t.co/zYHIWsRatL\n",
      "https://t.co/y9JG8B0Ia5\n",
      "In Love with the Mona Lisa ❤️ https://t.co/CeksP2IAH1\n",
      "I wish I had a delete button in my life. To delete some people, some memories, and some feelings.\n",
      "Running Speed Training ,Kuyou 56\" Speed Training Resistance Parachute Umbrella  @KuYouSports #SpeedTraining https://t.co/bsojvloJW8 https://t.co/QqO38kAQup\n",
      "I'll prolly be an alcoholic in the future\n",
      "Trump Card Definition change #retweet #like #TrumpRussia @realDonaldTrump Jared Kushner https://t.co/sSATudVJ4j\n",
      "..  كوبون جولي شيك خصم 75 ريال كود : yftkg            للطلب الأول + من اللاب توب فقط  #صيفك_سعيد_مع_جولي_شيك #جولي_شيك #jollychic https://t.co/fJBH7ChtaK\n",
      "FIRST LOOK: #GQ's latest cover star is Akash Ambani – the man leading the Jio juggernaut. Get the new issue on Thursday. https://t.co/p7HjtnIzfQ\n",
      "She may be a baddie🖤 but her hearts forged of 24k✨ https://t.co/itoIb8tW0y\n",
      "How did the Boston bombing occur? Ain't so effective! #PatriotAct\n",
      "Rand Paul is being a bit outrageous about this patriot act #PatriotAct\n",
      "I do NOT accept neither Patriot Act no Freedom Act! #SurveillanceDay\n",
      "The patriot act or liberty act should be re-written anyway! #SurveillanceDay\n",
      "Patriot act just helped big brother to watch us! #PatriotAct\n",
      "we had to stop Patriot act, when #Obama was trying to extend it! #SurveillanceDay\n",
      "extension of current Patriot act or the USA Freedom act would be a mistake. #PatriotAct\n",
      "'@Politweecs I can do so much interesting! Oh, it's gone..'\n",
      "exciting http://t.co/xihLn9eYWJ\n",
      "So when the night falls, my lonely heart calls\n",
      "Sorry I'm not perfect, good luck on finding someone who is.\n",
      "You were my cup of tea, but I drink Champagne now\n",
      "Well, everything is perfect…and now I`m bored!\n",
      "I`m so unlucky! I`m me! Fat and horrid!\n",
      "When you can do the common things of life in an uncommon way you'll command the attention of the world. -George Washington Carver\n",
      "https://t.co/Cp9Obj5lka a #dog and a man are playing together �\n",
      "When you're with the right person you won't have to change who you are\n",
      "gaga is my favorite http://t.co/GNarShjNfU\n",
      "Beyonce facts http://t.co/7EGYVYeMSs\n",
      "prank goes wrong! https://t.co/rId5GxhNv9\n",
      "I wanna be skinny but I’m too lazy\n",
      "don't talk about me until you talk to me\n",
      "If I had a dollar for every smart thing you`ve said…I`d be poor! �\n",
      "By believing passionately in something that does not yet exist,we create it  – Nikos Kazantzakis\n",
      "Live life to the fullest you can. Life is short\n",
      "My heart beats faster when I see you ���\n",
      "If you believe enough in the process SUCCESS will come to you. You just have to be willing to see it through to the END.\n",
      "#EFSchumacher: Any intelligent fool can make things bigger...#quote #quotes #courage\n",
      "WOW!! Nice panties !!\n",
      "Oh, that's interesting! https://t.co/PEb1m4Y5hZ\n",
      "Character consists of what you do on the third and fourth tries.\n",
      "Letting go isn't a one-time thing, it's something you have to do everyday, over and over again.\n",
      "We live in a moment of history where change is so speeded up that we begin to see the present only when it is disappearing.\n",
      "Pain changes people\n",
      "Never let fear get in the way of your dreams.\n",
      "http://t.co/gZf5RLuizp job for a witch\n",
      "funny dog compilation http://t.co/PNXtKN4jAd\n",
      "My nails are just awful whatever I do with them!!!\n",
      "Morning…time to remember you're ugly and refresh all your complexes\n",
      "just what for they need #TomHanks?! https://t.co/X3glCHYOQz\n",
      "Your attitude is either the lock on, or the key to the door of success.\n",
      "I like to stay home alone because I hate people looking me. I feel unconfident\n",
      "All I want is someone who will stay, no matter how hard it is to be with me.\n",
      "Beauty is how you feel inside and it reflects in your eyes!\n",
      "https://t.co/kuriLzqHRr ahahaha!\n",
      "In order to be irreplaceable, one must always be different.\n",
      "one direction  is love  http://t.co/OlcZu6y2al one direction  is love\n",
      "Even though I promised myself I wouldn't risk the chance of getting hurt again, for some reason, when I'm with you, it all seems worth it.\n",
      "love this small footage http://t.co/OL8qrLKKqd\n",
      "TODAY will never come again... Be a blessing. Be a friend. TAKE TIME TO CARE.\n",
      "I can pretend that it don't matter but I'll be sitting here lying to myself\n",
      "Every single girl in my family is like drop dead gorgeous looking like models and I'm just looking like a rat\n",
      "Kim Kardashian looked so different before implants http://t.co/UxM1iPMMdi\n",
      "how to be smart but not boring?\n",
      "Offering the very best... of me.\n",
      "how stupid it was to let him go\n",
      "Both versions of this song are INCREDIBLY AMAZING! https://t.co/jpXRa4MOt3\n",
      "Yesterday I got scared when I saw myself in the mirror! �\n",
      "Heve you seen me without make-up? No? Lucky you!\n",
      "I'm not beautiful despite I'm not fat or ugly\n",
      "https://t.co/FAD14l22O6 better not to ask ��\n",
      "Want to talk to anyone �\n",
      "I'm starting my new job on Monday!!!\n",
      "I know these scars will bleed, but both of our hearts believe that all of these stars will guide us home.\n",
      "Hope you all will find your true love, cause you deserve it! ❤️❤️❤️\n",
      "unexpected end of #painting! https://t.co/kjCLjrvGqz\n",
      "Just caught myself thinking that when stay alone the only thing I focus on is that I'm fat\n",
      "Mother Earth will take care of us only if we take care of her. She does not belong to us, it is us that belong to her. -Mayvinim Eternale\n",
      "Labs are AMAZING! https://t.co/D0EUDM6xix\n",
      "Hakuna Matata http://t.co/HRLDI80hlm\n",
      "I wish I could turn back time to when everything was perfect.\n",
      "magnificent! http://t.co/bRl1NMDTAx\n",
      "eww, new make up is damn\n",
      "A man is but the product of his thoughts. What he thinks, he becomes\n",
      "And the moral of the story: Pets make babies very happy! http://t.co/d5gpEF6nU9\n",
      "Life is better when you stop caring too much �\n",
      "Gravitation is not responsible for people falling in love. ~Albert Einstein\n",
      "A friend is someone who knows all about you and still loves you\n",
      "These Are The Dumbest Kids On Instagram\n",
      "cute facts http://t.co/jALq65QSKM\n",
      "Pets are not our whole life but they make our lives whole!\n",
      "And that's how it is https://t.co/P6KG6Uoyq8\n",
      "funny ads http://t.co/L8mOxc3Epp\n",
      "coffee junker https://t.co/QgKhjF6ZQn\n",
      "I was doing party make-up for an hour…made a selfie…I'm staying home.\n",
      "https://t.co/FlrMekceJh he is #amaising!!!  �\n",
      "cute hippo ❤  https://t.co/2u6Y2u3msM\n",
      "The cutiest vid I've ever seen! https://t.co/nfxeEfCbNc\n",
      "ahahaha they are real Queens! https://t.co/DK8jbdyeVf\n",
      "Gimme that choco bar and go away!\n",
      "The real Ariel (Little Mermaid) was born in 1972. Her real name was Alyssa. Here’s the pic of Alyssa:\n",
      "I’m so lonely probably because I’m fat\n",
      "They are funny. Really http://t.co/KRhY1qJX3X\n",
      "https://t.co/9ySM0BG2Rh wonderful story and a #deer\n",
      "Adventure without risk is like Disneyland.\n",
      "I guess I need a lama https://t.co/LTcRpoTT2T\n",
      "Just woke up. Look like a farytale princess sleeping ugly\n",
      "If you ever forget how much you really mean to me, every day I will remind you.\n",
      "\"I can't\" isn't a reason to give up, its a reason to try harder\n",
      "Even if my intentions are good, the result is still awful :(\n",
      "another bad dating, leave me alone twitter\n",
      "Dogs are great, cats are assholes! https://t.co/s4ziFViylk\n",
      "Some psychologists believe this Disney character is gay, but there’s no proof for that:\n",
      "Already have my thanksgiving outfit planned\n",
      "Maybe the thing you're most scared of is exactly what you should do.\n",
      "This year, I'm giving up my internet romance for lent\n",
      "one direction  is love  http://t.co/R6afUoAIMo one direction  is love\n",
      "Why I always do the same https://t.co/KVEgg7T36K\n",
      "Natural beauty, huh? https://t.co/60kAUO6w4Z\n",
      "demon kitty https://t.co/1H7aoiAhbV\n",
      "This guy is really cool! https://t.co/w41xwmGCxi\n",
      "In order to be irreplaceable one must always be different\n"
     ]
    }
   ],
   "source": [
    "c=0\n",
    "for tweet in df_test[df_test['account_category'] == 'Unknown'].content:\n",
    "    c+=1\n",
    "\n",
    "    if c>0:\n",
    "        print(tweet)\n",
    "    if c>600:\n",
    "        break"
   ]
  },
  {
   "cell_type": "code",
   "execution_count": null,
   "metadata": {},
   "outputs": [],
   "source": []
  }
 ],
 "metadata": {
  "kernelspec": {
   "display_name": "Python 3",
   "language": "python",
   "name": "python3"
  },
  "language_info": {
   "codemirror_mode": {
    "name": "ipython",
    "version": 3
   },
   "file_extension": ".py",
   "mimetype": "text/x-python",
   "name": "python",
   "nbconvert_exporter": "python",
   "pygments_lexer": "ipython3",
   "version": "3.6.5"
  }
 },
 "nbformat": 4,
 "nbformat_minor": 2
}
