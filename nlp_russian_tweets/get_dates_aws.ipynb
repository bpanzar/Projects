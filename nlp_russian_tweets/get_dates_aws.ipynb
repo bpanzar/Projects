{
 "cells": [
  {
   "cell_type": "code",
   "execution_count": 1,
   "metadata": {},
   "outputs": [],
   "source": [
    "import pandas as pd\n",
    "import numpy as np\n",
    "import pickle\n",
    "\n",
    "from datetime import datetime\n",
    "# import matplotlib.pyplot as plt\n",
    "# %matplotlib inline"
   ]
  },
  {
   "cell_type": "code",
   "execution_count": 1,
   "metadata": {},
   "outputs": [],
   "source": [
    "def load_csv(file):\n",
    "    path = 'Data/russian-troll-tweets/'\n",
    "    new_df = pd.read_csv(path + file)\n",
    "    new_df = new_df[((new_df['account_category'] != 'NonEnglish') &\n",
    "        (new_df['account_category'] != 'Commercial') &\n",
    "        (new_df['account_category'] != 'Unknown'))]\n",
    "    new_df['date'] = new_df['publish_date'].apply(pd.to_datetime)\n",
    "    return new_df"
   ]
  },
  {
   "cell_type": "code",
   "execution_count": 2,
   "metadata": {},
   "outputs": [],
   "source": [
    "print('Loading csv 1...')\n",
    "df = load_csv('IRAhandle_tweets_1.csv')\n",
    "print('Loading csv 2...')\n",
    "new_df = load_csv('IRAhandle_tweets_2.csv')\n",
    "df = df.append(new_df)\n",
    "print('Loading csv 3...')\n",
    "new_df = load_csv('IRAhandle_tweets_3.csv')\n",
    "df = df.append(new_df)\n",
    "print('Loading csv 4...')\n",
    "new_df = load_csv('IRAhandle_tweets_4.csv')\n",
    "df = df.append(new_df)\n",
    "print('Loading csv 5...')\n",
    "new_df = load_csv('IRAhandle_tweets_5.csv')\n",
    "df = df.append(new_df)\n",
    "print('Loading csv 6...')\n",
    "new_df = load_csv('IRAhandle_tweets_6.csv')\n",
    "df = df.append(new_df)\n",
    "print('Loading csv 7...')\n",
    "new_df = load_csv('IRAhandle_tweets_7.csv')\n",
    "df = df.append(new_df)\n",
    "print('Loading csv 8...')\n",
    "new_df = load_csv('IRAhandle_tweets_8.csv')\n",
    "df = df.append(new_df)\n",
    "print('Loading csv 9...')\n",
    "new_df = load_csv('IRAhandle_tweets_9.csv')\n",
    "df = df.append(new_df)"
   ]
  },
  {
   "cell_type": "code",
   "execution_count": 6,
   "metadata": {},
   "outputs": [],
   "source": [
    "print('Dropping columns')\n",
    "df.drop(['external_author_id', 'publish_date', 'harvested_date', 'new_june_2018',\n",
    "         'account_type', 'post_type'], axis=1, inplace=True)"
   ]
  },
  {
   "cell_type": "code",
   "execution_count": 7,
   "metadata": {},
   "outputs": [],
   "source": [
    "print('Creating hour, day, date columns')\n",
    "df['hour'] = pd.DatetimeIndex(df.date).hour"
   ]
  },
  {
   "cell_type": "code",
   "execution_count": 11,
   "metadata": {},
   "outputs": [],
   "source": [
    "df['day'] = pd.DatetimeIndex(df.date).weekday"
   ]
  },
  {
   "cell_type": "code",
   "execution_count": 13,
   "metadata": {},
   "outputs": [],
   "source": [
    "df['date'] = pd.DatetimeIndex(df.date).date"
   ]
  },
  {
   "cell_type": "code",
   "execution_count": 15,
   "metadata": {},
   "outputs": [],
   "source": [
    "print('Calculating # tweets per hour')\n",
    "hour_tweets = df.groupby('hour').content.count().reset_index()"
   ]
  },
  {
   "cell_type": "code",
   "execution_count": null,
   "metadata": {},
   "outputs": [],
   "source": [
    "mst_hours = pd.Series([3,4,5,6,7,8,9,10,11,12,13,14,15,16,17,18,19,20,21,22,23,0,1,2])\n",
    "est_hours = pd.Series([19,20,21,22,23,0,1,2,3,4,5,6,7,8,9,10,11,12,13,14,15,16,17,18])\n",
    "mst = pd.DataFrame(mst_hours)\n",
    "mst.columns = ['hour']\n",
    "mst['MST'] = hour_tweets.content\n",
    "est = pd.DataFrame(est_hours)\n",
    "est.columns = ['hour']\n",
    "est['EST'] = hour_tweets.content"
   ]
  },
  {
   "cell_type": "code",
   "execution_count": null,
   "metadata": {},
   "outputs": [],
   "source": [
    "hour_tweets = pd.merge(mst, est, on='hour')"
   ]
  },
  {
   "cell_type": "code",
   "execution_count": 16,
   "metadata": {},
   "outputs": [],
   "source": [
    "print('Calculating # tweets per day')\n",
    "day_tweets = df.groupby('day').content.count().reset_index()\n",
    "day_tweets['day'] = ['Monday', 'Tuesday', 'Wednesday', 'Thursday', 'Friday', 'Saturday', 'Sunday']\n"
   ]
  },
  {
   "cell_type": "code",
   "execution_count": 17,
   "metadata": {},
   "outputs": [],
   "source": [
    "print('Calculating # tweets per date')\n",
    "date_tweets = df.groupby('date').content.count().reset_index()"
   ]
  },
  {
   "cell_type": "code",
   "execution_count": null,
   "metadata": {},
   "outputs": [],
   "source": [
    "print('Storing main DF')\n",
    "df.to_csv('all_tweets.csv', index=False)\n",
    "print('Storing sub DFs')\n",
    "hour_tweets.to_csv('hour_tweets.csv', index=False)\n",
    "day_tweets.to_csv('day_tweets.csv', index=False)\n",
    "date_tweets.to_csv('date_tweets.csv', index=False)\n",
    "\n",
    "print('Pickling DF')\n",
    "with open('all_tweets_df.pkl', 'wb') as picklefile:\n",
    "    pickle.dump(df, picklefile)"
   ]
  }
 ],
 "metadata": {
  "kernelspec": {
   "display_name": "Python 3",
   "language": "python",
   "name": "python3"
  },
  "language_info": {
   "codemirror_mode": {
    "name": "ipython",
    "version": 3
   },
   "file_extension": ".py",
   "mimetype": "text/x-python",
   "name": "python",
   "nbconvert_exporter": "python",
   "pygments_lexer": "ipython3",
   "version": "3.6.5"
  }
 },
 "nbformat": 4,
 "nbformat_minor": 2
}
